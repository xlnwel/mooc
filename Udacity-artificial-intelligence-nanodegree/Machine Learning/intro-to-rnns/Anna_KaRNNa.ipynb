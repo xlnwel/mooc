{
 "cells": [
  {
   "cell_type": "markdown",
   "metadata": {},
   "source": [
    "# Anna KaRNNa\n",
    "\n",
    "In this notebook, we'll build a character-wise RNN trained on Anna Karenina, one of my all-time favorite books. It'll be able to generate new text based on the text from the book.\n",
    "\n",
    "This network is based off of Andrej Karpathy's [post on RNNs](http://karpathy.github.io/2015/05/21/rnn-effectiveness/) and [implementation in Torch](https://github.com/karpathy/char-rnn). Also, some information [here at r2rt](http://r2rt.com/recurrent-neural-networks-in-tensorflow-ii.html) and from [Sherjil Ozair](https://github.com/sherjilozair/char-rnn-tensorflow) on GitHub. Below is the general architecture of the character-wise RNN.\n",
    "\n",
    "<img src=\"assets/charseq.jpeg\" width=\"500\">"
   ]
  },
  {
   "cell_type": "code",
   "execution_count": 1,
   "metadata": {
    "collapsed": true
   },
   "outputs": [],
   "source": [
    "import time\n",
    "from collections import namedtuple\n",
    "\n",
    "import numpy as np\n",
    "import tensorflow as tf"
   ]
  },
  {
   "cell_type": "markdown",
   "metadata": {},
   "source": [
    "First we'll load the text file and convert it into integers for our network to use. Here I'm creating a couple dictionaries to convert the characters to and from integers. Encoding the characters as integers makes it easier to use as input in the network."
   ]
  },
  {
   "cell_type": "code",
   "execution_count": 2,
   "metadata": {
    "collapsed": true
   },
   "outputs": [],
   "source": [
    "with open('anna.txt', 'r') as f:\n",
    "    text=f.read()\n",
    "vocab = sorted(set(text))\n",
    "vocab_to_int = {c: i for i, c in enumerate(vocab)}\n",
    "int_to_vocab = dict(enumerate(vocab))\n",
    "encoded = np.array([vocab_to_int[c] for c in text], dtype=np.int32)"
   ]
  },
  {
   "cell_type": "markdown",
   "metadata": {},
   "source": [
    "Let's check out the first 100 characters, make sure everything is peachy. According to the [American Book Review](http://americanbookreview.org/100bestlines.asp), this is the 6th best first line of a book ever."
   ]
  },
  {
   "cell_type": "code",
   "execution_count": 3,
   "metadata": {},
   "outputs": [
    {
     "data": {
      "text/plain": [
       "'Chapter 1\\n\\n\\nHappy families are all alike; every unhappy family is unhappy in its own\\nway.\\n\\nEverythin'"
      ]
     },
     "execution_count": 3,
     "metadata": {},
     "output_type": "execute_result"
    }
   ],
   "source": [
    "text[:100]"
   ]
  },
  {
   "cell_type": "markdown",
   "metadata": {},
   "source": [
    "And we can see the characters encoded as integers."
   ]
  },
  {
   "cell_type": "code",
   "execution_count": 4,
   "metadata": {},
   "outputs": [
    {
     "data": {
      "text/plain": [
       "array([31, 64, 57, 72, 76, 61, 74,  1, 16,  0,  0,  0, 36, 57, 72, 72, 81,\n",
       "        1, 62, 57, 69, 65, 68, 65, 61, 75,  1, 57, 74, 61,  1, 57, 68, 68,\n",
       "        1, 57, 68, 65, 67, 61, 26,  1, 61, 78, 61, 74, 81,  1, 77, 70, 64,\n",
       "       57, 72, 72, 81,  1, 62, 57, 69, 65, 68, 81,  1, 65, 75,  1, 77, 70,\n",
       "       64, 57, 72, 72, 81,  1, 65, 70,  1, 65, 76, 75,  1, 71, 79, 70,  0,\n",
       "       79, 57, 81, 13,  0,  0, 33, 78, 61, 74, 81, 76, 64, 65, 70], dtype=int32)"
      ]
     },
     "execution_count": 4,
     "metadata": {},
     "output_type": "execute_result"
    }
   ],
   "source": [
    "encoded[:100]"
   ]
  },
  {
   "cell_type": "markdown",
   "metadata": {},
   "source": [
    "Since the network is working with individual characters, it's similar to a classification problem in which we are trying to predict the next character from the previous text.  Here's how many 'classes' our network has to pick from."
   ]
  },
  {
   "cell_type": "code",
   "execution_count": 5,
   "metadata": {},
   "outputs": [
    {
     "data": {
      "text/plain": [
       "83"
      ]
     },
     "execution_count": 5,
     "metadata": {},
     "output_type": "execute_result"
    }
   ],
   "source": [
    "len(vocab)"
   ]
  },
  {
   "cell_type": "markdown",
   "metadata": {},
   "source": [
    "## Making training mini-batches\n",
    "\n",
    "Here is where we'll make our mini-batches for training. Remember that we want our batches to be multiple sequences of some desired number of sequence steps. Considering a simple example, our batches would look like this:\n",
    "\n",
    "<img src=\"assets/sequence_batching@1x.png\" width=500px>\n",
    "\n",
    "\n",
    "<br>\n",
    "\n",
    "We start with our text encoded as integers in one long array in `encoded`. Let's create a function that will give us an iterator for our batches. I like using [generator functions](https://jeffknupp.com/blog/2013/04/07/improve-your-python-yield-and-generators-explained/) to do this. Then we can pass `encoded` into this function and get our batch generator.\n",
    "\n",
    "The first thing we need to do is discard some of the text so we only have completely full batches. Each batch contains $N \\times M$ characters, where $N$ is the batch size (the number of sequences) and $M$ is the number of steps. Then, to get the total number of batches, $K$, we can make from the array `arr`, you divide the length of `arr` by the number of characters per batch. Once you know the number of batches, you can get the total number of characters to keep from `arr`, $N * M * K$.\n",
    "\n",
    "After that, we need to split `arr` into $N$ sequences. You can do this using `arr.reshape(size)` where `size` is a tuple containing the dimensions sizes of the reshaped array. We know we want $N$ sequences (`batch_size` below), let's make that the size of the first dimension. For the second dimension, you can use `-1` as a placeholder in the size, it'll fill up the array with the appropriate data for you. After this, you should have an array that is $N \\times (M * K)$.\n",
    "\n",
    "Now that we have this array, we can iterate through it to get our batches. The idea is each batch is a $N \\times M$ window on the $N \\times (M * K)$ array. For each subsequent batch, the window moves over by `n_steps`. We also want to create both the input and target arrays. Remember that the targets are the inputs shifted over one character. \n",
    "\n",
    "The way I like to do this window is use `range` to take steps of size `n_steps` from $0$ to `arr.shape[1]`, the total number of steps in each sequence. That way, the integers you get from `range` always point to the start of a batch, and each window is `n_steps` wide.\n",
    "\n",
    "> **Exercise:** Write the code for creating batches in the function below. The exercises in this notebook _will not be easy_. I've provided a notebook with solutions alongside this notebook. If you get stuck, checkout the solutions. The most important thing is that you don't copy and paste the code into here, **type out the solution code yourself.**"
   ]
  },
  {
   "cell_type": "code",
   "execution_count": 3,
   "metadata": {
    "collapsed": true
   },
   "outputs": [],
   "source": [
    "def get_batches(arr, batch_size, n_steps):\n",
    "    '''Create a generator that returns batches of size\n",
    "       batch_size x n_steps from arr.\n",
    "       \n",
    "       Arguments\n",
    "       ---------\n",
    "       arr: Array you want to make batches from\n",
    "       batch_size: Batch size, the number of sequences per batch\n",
    "       n_steps: Number of sequence steps per batch\n",
    "    '''\n",
    "    # Get the number of characters per batch and number of batches we can make\n",
    "    characters_per_batch = batch_size * n_steps\n",
    "    n_batches = len(arr) // characters_per_batch\n",
    "    \n",
    "    # Keep only enough characters to make full batches\n",
    "    arr = arr[:n_batches * characters_per_batch]\n",
    "    \n",
    "    # Reshape into batch_size rows\n",
    "    arr = arr.reshape((batch_size, -1))\n",
    "    \n",
    "    for n in range(0, arr.shape[1], n_steps):\n",
    "        # The features\n",
    "        x = arr[:, n: n + n_steps]\n",
    "        # The targets, shifted by one\n",
    "        y = np.concatenate((x[:, 1:], x[:, 0:1]), axis=1)\n",
    "        yield x, y"
   ]
  },
  {
   "cell_type": "markdown",
   "metadata": {},
   "source": [
    "Now I'll make my data sets and we can check out what's going on here. Here I'm going to use a batch size of 10 and 50 sequence steps."
   ]
  },
  {
   "cell_type": "code",
   "execution_count": 4,
   "metadata": {
    "collapsed": true
   },
   "outputs": [],
   "source": [
    "batches = get_batches(encoded, 10, 50)\n",
    "x, y = next(batches)"
   ]
  },
  {
   "cell_type": "code",
   "execution_count": 8,
   "metadata": {},
   "outputs": [
    {
     "name": "stdout",
     "output_type": "stream",
     "text": [
      "x\n",
      " [[31 64 57 72 76 61 74  1 16  0]\n",
      " [ 1 57 69  1 70 71 76  1 63 71]\n",
      " [78 65 70 13  0  0  3 53 61 75]\n",
      " [70  1 60 77 74 65 70 63  1 64]\n",
      " [ 1 65 76  1 65 75 11  1 75 65]\n",
      " [ 1 37 76  1 79 57 75  0 71 70]\n",
      " [64 61 70  1 59 71 69 61  1 62]\n",
      " [26  1 58 77 76  1 70 71 79  1]\n",
      " [76  1 65 75 70  7 76 13  1 48]\n",
      " [ 1 75 57 65 60  1 76 71  1 64]]\n",
      "\n",
      "y\n",
      " [[64 57 72 76 61 74  1 16  0  0]\n",
      " [57 69  1 70 71 76  1 63 71 65]\n",
      " [65 70 13  0  0  3 53 61 75 11]\n",
      " [ 1 60 77 74 65 70 63  1 64 65]\n",
      " [65 76  1 65 75 11  1 75 65 74]\n",
      " [37 76  1 79 57 75  0 71 70 68]\n",
      " [61 70  1 59 71 69 61  1 62 71]\n",
      " [ 1 58 77 76  1 70 71 79  1 75]\n",
      " [ 1 65 75 70  7 76 13  1 48 64]\n",
      " [75 57 65 60  1 76 71  1 64 61]]\n"
     ]
    }
   ],
   "source": [
    "print('x\\n', x[:10, :10])\n",
    "print('\\ny\\n', y[:10, :10])"
   ]
  },
  {
   "cell_type": "markdown",
   "metadata": {},
   "source": [
    "If you implemented `get_batches` correctly, the above output should look something like \n",
    "```\n",
    "x\n",
    " [[55 63 69 22  6 76 45  5 16 35]\n",
    " [ 5 69  1  5 12 52  6  5 56 52]\n",
    " [48 29 12 61 35 35  8 64 76 78]\n",
    " [12  5 24 39 45 29 12 56  5 63]\n",
    " [ 5 29  6  5 29 78 28  5 78 29]\n",
    " [ 5 13  6  5 36 69 78 35 52 12]\n",
    " [63 76 12  5 18 52  1 76  5 58]\n",
    " [34  5 73 39  6  5 12 52 36  5]\n",
    " [ 6  5 29 78 12 79  6 61  5 59]\n",
    " [ 5 78 69 29 24  5  6 52  5 63]]\n",
    "\n",
    "y\n",
    " [[63 69 22  6 76 45  5 16 35 35]\n",
    " [69  1  5 12 52  6  5 56 52 29]\n",
    " [29 12 61 35 35  8 64 76 78 28]\n",
    " [ 5 24 39 45 29 12 56  5 63 29]\n",
    " [29  6  5 29 78 28  5 78 29 45]\n",
    " [13  6  5 36 69 78 35 52 12 43]\n",
    " [76 12  5 18 52  1 76  5 58 52]\n",
    " [ 5 73 39  6  5 12 52 36  5 78]\n",
    " [ 5 29 78 12 79  6 61  5 59 63]\n",
    " [78 69 29 24  5  6 52  5 63 76]]\n",
    " ```\n",
    " although the exact numbers will be different. Check to make sure the data is shifted over one step for `y`."
   ]
  },
  {
   "cell_type": "markdown",
   "metadata": {},
   "source": [
    "## Building the model\n",
    "\n",
    "Below is where you'll build the network. We'll break it up into parts so it's easier to reason about each bit. Then we can connect them up into the whole network.\n",
    "\n",
    "<img src=\"assets/charRNN.png\" width=500px>\n",
    "\n",
    "\n",
    "### Inputs\n",
    "\n",
    "First off we'll create our input placeholders. As usual we need placeholders for the training data and the targets. We'll also create a placeholder for dropout layers called `keep_prob`. This will be a scalar, that is a 0-D tensor. To make a scalar, you create a placeholder without giving it a size.\n",
    "\n",
    "> **Exercise:** Create the input placeholders in the function below."
   ]
  },
  {
   "cell_type": "code",
   "execution_count": 5,
   "metadata": {
    "collapsed": true
   },
   "outputs": [],
   "source": [
    "def build_inputs(batch_size, num_steps):\n",
    "    \"\"\" Build the input placeholders\n",
    "\n",
    "    :param batch_size: Number of sequences per batch\n",
    "    :param num_steps: Number of steps per batch\n",
    "    :return: tf.placeholder for features, labels, and keep probability\n",
    "    \"\"\"\n",
    "    features = tf.placeholder(tf.int32, (batch_size, num_steps), name='features')\n",
    "    labels = tf.placeholder(tf.int32, (batch_size, num_steps), name='labels')\n",
    "    keep_prob = tf.placeholder(tf.float32, name='keep_prob')\n",
    "\n",
    "    return features, labels, keep_prob"
   ]
  },
  {
   "cell_type": "markdown",
   "metadata": {},
   "source": [
    "### LSTM Cell\n",
    "\n",
    "Here we will create the LSTM cell we'll use in the hidden layer. We'll use this cell as a building block for the RNN. So we aren't actually defining the RNN here, just the type of cell we'll use in the hidden layer.\n",
    "\n",
    "We first create a basic LSTM cell with\n",
    "\n",
    "```python\n",
    "lstm = tf.contrib.rnn.BasicLSTMCell(num_units)\n",
    "```\n",
    "\n",
    "where `num_units` is the number of units in the hidden layers in the cell. Then we can add dropout by wrapping it with \n",
    "\n",
    "```python\n",
    "tf.contrib.rnn.DropoutWrapper(lstm, output_keep_prob=keep_prob)\n",
    "```\n",
    "You pass in a cell and it will automatically add dropout to the inputs or outputs. Finally, we can stack up the LSTM cells into layers with [`tf.contrib.rnn.MultiRNNCell`](https://www.tensorflow.org/versions/r1.0/api_docs/python/tf/contrib/rnn/MultiRNNCell). With this, you pass in a list of cells and it will send the output of one cell into the next cell. Previously with TensorFlow 1.0, you could do this\n",
    "\n",
    "```python\n",
    "tf.contrib.rnn.MultiRNNCell([cell]*num_layers)\n",
    "```\n",
    "\n",
    "This might look a little weird if you know Python well because this will create a list of the same `cell` object. However, TensorFlow 1.0 will create different weight matrices for all `cell` objects. But, starting with TensorFlow 1.1 you actually need to create new cell objects in the list. To get it to work in TensorFlow 1.1, it should look like\n",
    "\n",
    "```python\n",
    "def build_cell(num_units, keep_prob):\n",
    "    lstm = tf.contrib.rnn.BasicLSTMCell(num_units)\n",
    "    drop = tf.contrib.rnn.DropoutWrapper(lstm, output_keep_prob=keep_prob)\n",
    "    \n",
    "    return drop\n",
    "    \n",
    "tf.contrib.rnn.MultiRNNCell([build_cell(num_units, keep_prob) for _ in range(num_layers)])\n",
    "```\n",
    "\n",
    "Even though this is actually multiple LSTM cells stacked on each other, you can treat the multiple layers as one cell.\n",
    "\n",
    "We also need to create an initial cell state of all zeros. This can be done like so\n",
    "\n",
    "```python\n",
    "initial_state = cell.zero_state(batch_size, tf.float32)\n",
    "```\n",
    "\n",
    "Below, we implement the `build_lstm` function to create these LSTM cells and the initial state."
   ]
  },
  {
   "cell_type": "code",
   "execution_count": 32,
   "metadata": {
    "collapsed": true
   },
   "outputs": [],
   "source": [
    "def build_lstm(num_units, num_layer, batch_size, keep_prob):\n",
    "    \"\"\" build LSTM layer\n",
    "\n",
    "    :param num_units: Number of hidden units\n",
    "    :param num_layer: Number of LSTM layers\n",
    "    :param batch_size: Number of sequences per batch\n",
    "    :param keep_prob: Keep probability\n",
    "    :return: LSTM cell and initial state\n",
    "    \"\"\"\n",
    "    def build_cell(num_units, keep_prob):\n",
    "        cell = tf.contrib.rnn.BasicLSTMCell(num_units)\n",
    "        dropout = tf.contrib.rnn.DropoutWrapper(cell, output_keep_prob=keep_prob)\n",
    "\n",
    "        return dropout\n",
    "\n",
    "    cells = tf.contrib.rnn.MultiRNNCell([build_cell(num_units, keep_prob) for _ in range(num_layers)])\n",
    "    initial_state = cells.zero_state(batch_size, tf.float32)\n",
    "\n",
    "    return cells, initial_state"
   ]
  },
  {
   "cell_type": "markdown",
   "metadata": {},
   "source": [
    "### RNN Output\n",
    "\n",
    "Here we'll create the output layer. We need to connect the output of the RNN cells to a full connected layer with a softmax output. The softmax output gives us a probability distribution we can use to predict the next character, so we want this layer to have size $C$, the number of classes/characters we have in our text.\n",
    "\n",
    "If our input has batch size $N$, number of steps $M$, and the hidden layer has $L$ hidden units, then the output is a 3D tensor with size $N \\times M \\times L$. The output of each LSTM cell has size $L$, we have $M$ of them, one for each sequence step, and we have $N$ sequences. So the total size is $N \\times M \\times L$. \n",
    "\n",
    "We are using the same fully connected layer, the same weights, for each of the outputs. Then, to make things easier, we should reshape the outputs into a 2D tensor with shape $(M * N) \\times L$. That is, one row for each sequence and step, where the values of each row are the output from the LSTM cells. We get the LSTM output as a list, `lstm_output`. First we need to concatenate this whole list into one array with [`tf.concat`](https://www.tensorflow.org/api_docs/python/tf/concat). Then, reshape it (with `tf.reshape`) to size $(M * N) \\times L$.\n",
    "\n",
    "One we have the outputs reshaped, we can do the matrix multiplication with the weights. We need to wrap the weight and bias variables in a variable scope with `tf.variable_scope(scope_name)` because there are weights being created in the LSTM cells. TensorFlow will throw an error if the weights created here have the same names as the weights created in the LSTM cells, which they will be default. To avoid this, we wrap the variables in a variable scope so we can give them unique names.\n",
    "\n",
    "> **Exercise:** Implement the output layer in the function below."
   ]
  },
  {
   "cell_type": "code",
   "execution_count": 48,
   "metadata": {
    "collapsed": true
   },
   "outputs": [],
   "source": [
    "def build_output(lstm_output, input_size, output_size):\n",
    "    \"\"\"\n",
    "\n",
    "    :param lstm_output: Tensor, output of hidden layer\n",
    "    :param input_size: Size of the input tensor, i.e. the number of hidden units\n",
    "    :param output_size: Size of this softmax layer\n",
    "    :return: probs, logits: Probabilities and logits\n",
    "    \"\"\"\n",
    "    # Reshape output so it's a bunch of rows, one row for each step for each sequence.\n",
    "    # That is, the shape should be batch_size*num_steps rows times lstm_size columns\n",
    "#     seq_output = tf.concat(lstm_output, axis=1)\n",
    "    x = tf.reshape(lstm_output, [-1, input_size])\n",
    "\n",
    "#     with tf.variable_scope('softmax'):\n",
    "#         softmax_w = tf.Variable(tf.truncated_normal((input_size, output_size)))\n",
    "#         softmax_b = tf.Variable(tf.zeros(output_size))\n",
    "    \n",
    "#     logits = tf.add(tf.matmul(x, softmax_w), softmax_b)\n",
    "    \n",
    "    logits = tf.contrib.layers.fully_connected(x, output_size, activation_fn=None)\n",
    "    predictions = tf.nn.softmax(logits, name='predictions')\n",
    "\n",
    "    return predictions, logits"
   ]
  },
  {
   "cell_type": "markdown",
   "metadata": {},
   "source": [
    "### Training loss\n",
    "\n",
    "Next up is the training loss. We get the logits and targets and calculate the softmax cross-entropy loss. First we need to one-hot encode the targets, we're getting them as encoded characters. Then, reshape the one-hot targets so it's a 2D tensor with size $(M*N) \\times C$ where $C$ is the number of classes/characters we have. Remember that we reshaped the LSTM outputs and ran them through a fully connected layer with $C$ units. So our logits will also have size $(M*N) \\times C$.\n",
    "\n",
    "Then we run the logits and targets through `tf.nn.softmax_cross_entropy_with_logits` and find the mean to get the loss.\n",
    "\n",
    ">**Exercise:** Implement the loss calculation in the function below."
   ]
  },
  {
   "cell_type": "code",
   "execution_count": 22,
   "metadata": {
    "collapsed": true
   },
   "outputs": [],
   "source": [
    "def build_loss(logits, targets, lstm_size, num_classes):\n",
    "    ''' Calculate the loss from the logits and the targets.\n",
    "    \n",
    "        Arguments\n",
    "        ---------\n",
    "        logits: Logits from final fully connected layer\n",
    "        targets: Targets for supervised learning\n",
    "        lstm_size: Number of LSTM hidden units\n",
    "        num_classes: Number of classes in targets\n",
    "        \n",
    "    '''\n",
    "    \n",
    "    # One-hot encode targets and reshape to match logits, one row per sequence per step\n",
    "    y_one_hot = tf.one_hot(targets, num_classes)\n",
    "    y_reshaped = tf.reshape(y_one_hot, logits.get_shape())\n",
    "    \n",
    "    # Softmax cross entropy loss\n",
    "    loss = tf.nn.softmax_cross_entropy_with_logits(labels=y_reshaped, logits=logits)\n",
    "    loss = tf.reduce_mean(loss)\n",
    "    return loss"
   ]
  },
  {
   "cell_type": "markdown",
   "metadata": {},
   "source": [
    "### Optimizer\n",
    "\n",
    "Here we build the optimizer. Normal RNNs have have issues gradients exploding and disappearing. LSTMs fix the disappearance problem, but the gradients can still grow without bound. To fix this, we can clip the gradients above some threshold. That is, if a gradient is larger than that threshold, we set it to the threshold. This will ensure the gradients never grow overly large. Then we use an AdamOptimizer for the learning step."
   ]
  },
  {
   "cell_type": "code",
   "execution_count": 23,
   "metadata": {
    "collapsed": true
   },
   "outputs": [],
   "source": [
    "def build_optimizer(loss, learning_rate, grad_clip):\n",
    "    ''' Build optmizer for training, using gradient clipping.\n",
    "    \n",
    "        Arguments:\n",
    "        loss: Network loss\n",
    "        learning_rate: Learning rate for optimizer\n",
    "    \n",
    "    '''\n",
    "    \n",
    "    # Optimizer for training, using gradient clipping to control exploding gradients\n",
    "    tvars = tf.trainable_variables()\n",
    "    grads, _ = tf.clip_by_global_norm(tf.gradients(loss, tvars), grad_clip)\n",
    "    train_op = tf.train.AdamOptimizer(learning_rate)\n",
    "    optimizer = train_op.apply_gradients(zip(grads, tvars))\n",
    "    \n",
    "    return optimizer"
   ]
  },
  {
   "cell_type": "markdown",
   "metadata": {},
   "source": [
    "### Build the network\n",
    "\n",
    "Now we can put all the pieces together and build a class for the network. To actually run data through the LSTM cells, we will use [`tf.nn.dynamic_rnn`](https://www.tensorflow.org/versions/r1.0/api_docs/python/tf/nn/dynamic_rnn). This function will pass the hidden and cell states across LSTM cells appropriately for us. It returns the outputs for each LSTM cell at each step for each sequence in the mini-batch. It also gives us the final LSTM state. We want to save this state as `final_state` so we can pass it to the first LSTM cell in the the next mini-batch run. For `tf.nn.dynamic_rnn`, we pass in the cell and initial state we get from `build_lstm`, as well as our input sequences. Also, we need to one-hot encode the inputs before going into the RNN. \n",
    "\n",
    "> **Exercise:** Use the functions you've implemented previously and `tf.nn.dynamic_rnn` to build the network."
   ]
  },
  {
   "cell_type": "code",
   "execution_count": 49,
   "metadata": {
    "collapsed": true
   },
   "outputs": [],
   "source": [
    "class CharRNN:\n",
    "    \n",
    "    def __init__(self, num_classes, batch_size=64, num_steps=50, \n",
    "                       lstm_size=128, num_layers=2, learning_rate=0.001, \n",
    "                       grad_clip=5, sampling=False):\n",
    "    \n",
    "        # When we're using this network for sampling later, we'll be passing in\n",
    "        # one character at a time, so providing an option for that\n",
    "        if sampling == True:\n",
    "            batch_size, num_steps = 1, 1\n",
    "        else:\n",
    "            batch_size, num_steps = batch_size, num_steps\n",
    "\n",
    "        tf.reset_default_graph()\n",
    "        \n",
    "        # Build the input placeholder tensors\n",
    "        self.inputs, self.targets, self.keep_prob = build_inputs(batch_size, num_steps)\n",
    "\n",
    "        # Build the LSTM cell\n",
    "        cell, self.initial_state = build_lstm(lstm_size, num_layers, batch_size, self.keep_prob)\n",
    "\n",
    "        ### Run the data through the RNN layers\n",
    "        # First, one-hot encode the input tokens\n",
    "        x_one_hot = tf.one_hot(self.inputs, num_classes)\n",
    "        \n",
    "        # Run each sequence step through the RNN and collect the outputs\n",
    "        outputs, state = tf.nn.dynamic_rnn(cell, x_one_hot, initial_state=self.initial_state)\n",
    "        self.final_state = state\n",
    "        \n",
    "        # Get softmax predictions and logits\n",
    "        self.prediction, self.logits = build_output(outputs, lstm_size, num_classes)\n",
    "        \n",
    "        # Loss and optimizer (with gradient clipping)\n",
    "        self.loss = build_loss(self.logits, self.targets, lstm_size, num_classes)\n",
    "        self.optimizer = build_optimizer(self.loss, learning_rate, grad_clip)"
   ]
  },
  {
   "cell_type": "markdown",
   "metadata": {},
   "source": [
    "## Hyperparameters\n",
    "\n",
    "Here are the hyperparameters for the network.\n",
    "\n",
    "* `batch_size` - Number of sequences running through the network in one pass.\n",
    "* `num_steps` - Number of characters in the sequence the network is trained on. Larger is better typically, the network will learn more long range dependencies. But it takes longer to train. 100 is typically a good number here.\n",
    "* `lstm_size` - The number of units in the hidden layers.\n",
    "* `num_layers` - Number of hidden LSTM layers to use\n",
    "* `learning_rate` - Learning rate for training\n",
    "* `keep_prob` - The dropout keep probability when training. If you're network is overfitting, try decreasing this.\n",
    "\n",
    "Here's some good advice from Andrej Karpathy on training the network. I'm going to copy it in here for your benefit, but also link to [where it originally came from](https://github.com/karpathy/char-rnn#tips-and-tricks).\n",
    "\n",
    "> ## Tips and Tricks\n",
    "\n",
    ">### Monitoring Validation Loss vs. Training Loss\n",
    ">If you're somewhat new to Machine Learning or Neural Networks it can take a bit of expertise to get good models. The most important quantity to keep track of is the difference between your training loss (printed during training) and the validation loss (printed once in a while when the RNN is run on the validation data (by default every 1000 iterations)). In particular:\n",
    "\n",
    "> - If your training loss is much lower than validation loss then this means the network might be **overfitting**. Solutions to this are to decrease your network size, or to increase dropout. For example you could try dropout of 0.5 and so on.\n",
    "> - If your training/validation loss are about equal then your model is **underfitting**. Increase the size of your model (either number of layers or the raw number of neurons per layer)\n",
    "\n",
    "> ### Approximate number of parameters\n",
    "\n",
    "> The two most important parameters that control the model are `lstm_size` and `num_layers`. I would advise that you always use `num_layers` of either 2/3. The `lstm_size` can be adjusted based on how much data you have. The two important quantities to keep track of here are:\n",
    "\n",
    "> - The number of parameters in your model. This is printed when you start training.\n",
    "> - The size of your dataset. 1MB file is approximately 1 million characters.\n",
    "\n",
    ">These two should be about the same order of magnitude. It's a little tricky to tell. Here are some examples:\n",
    "\n",
    "> - I have a 100MB dataset and I'm using the default parameter settings (which currently print 150K parameters). My data size is significantly larger (100 mil >> 0.15 mil), so I expect to heavily underfit. I am thinking I can comfortably afford to make `lstm_size` larger.\n",
    "> - I have a 10MB dataset and running a 10 million parameter model. I'm slightly nervous and I'm carefully monitoring my validation loss. If it's larger than my training loss then I may want to try to increase dropout a bit and see if that helps the validation loss.\n",
    "\n",
    "> ### Best models strategy\n",
    "\n",
    ">The winning strategy to obtaining very good models (if you have the compute time) is to always err on making the network larger (as large as you're willing to wait for it to compute) and then try different dropout values (between 0,1). Whatever model has the best validation performance (the loss, written in the checkpoint filename, low is good) is the one you should use in the end.\n",
    "\n",
    ">It is very common in deep learning to run many different models with many different hyperparameter settings, and in the end take whatever checkpoint gave the best validation performance.\n",
    "\n",
    ">By the way, the size of your training and validation splits are also parameters. Make sure you have a decent amount of data in your validation set or otherwise the validation performance will be noisy and not very informative."
   ]
  },
  {
   "cell_type": "code",
   "execution_count": 51,
   "metadata": {
    "collapsed": true
   },
   "outputs": [],
   "source": [
    "batch_size = 128         # Sequences per batch\n",
    "num_steps = 100          # Number of sequence steps per batch\n",
    "lstm_size = 512         # Size of hidden layers in LSTMs\n",
    "num_layers = 2          # Number of LSTM layers\n",
    "learning_rate = 0.001    # Learning rate\n",
    "keep_prob = 0.5         # Dropout keep probability"
   ]
  },
  {
   "cell_type": "markdown",
   "metadata": {},
   "source": [
    "## Time for training\n",
    "\n",
    "This is typical training code, passing inputs and targets into the network, then running the optimizer. Here we also get back the final LSTM state for the mini-batch. Then, we pass that state back into the network so the next batch can continue the state from the previous batch. And every so often (set by `save_every_n`) I save a checkpoint.\n",
    "\n",
    "Here I'm saving checkpoints with the format\n",
    "\n",
    "`i{iteration number}_l{# hidden layer units}.ckpt`\n",
    "\n",
    "> **Exercise:** Set the hyperparameters above to train the network. Watch the training loss, it should be consistently dropping. Also, I highly advise running this on a GPU."
   ]
  },
  {
   "cell_type": "code",
   "execution_count": 52,
   "metadata": {
    "scrolled": true
   },
   "outputs": [
    {
     "name": "stdout",
     "output_type": "stream",
     "text": [
      "Epoch: 1/20...  Training Step: 50...  Training loss: 3.1432...  4.7388 sec/batch\n",
      "Epoch: 1/20...  Training Step: 100...  Training loss: 3.1047...  4.7895 sec/batch\n",
      "Epoch: 1/20...  Training Step: 150...  Training loss: 2.7901...  6.6034 sec/batch\n",
      "Epoch: 2/20...  Training Step: 200...  Training loss: 2.4925...  5.0344 sec/batch\n",
      "Epoch: 2/20...  Training Step: 250...  Training loss: 2.3833...  6.1966 sec/batch\n",
      "Epoch: 2/20...  Training Step: 300...  Training loss: 2.2837...  5.8069 sec/batch\n",
      "Epoch: 3/20...  Training Step: 350...  Training loss: 2.1642...  4.7381 sec/batch\n",
      "Epoch: 3/20...  Training Step: 400...  Training loss: 2.1009...  4.4938 sec/batch\n",
      "Epoch: 3/20...  Training Step: 450...  Training loss: 2.0482...  4.5139 sec/batch\n",
      "Epoch: 4/20...  Training Step: 500...  Training loss: 1.9814...  4.7169 sec/batch\n",
      "Epoch: 4/20...  Training Step: 550...  Training loss: 1.8979...  4.9246 sec/batch\n",
      "Epoch: 4/20...  Training Step: 600...  Training loss: 1.8687...  4.7522 sec/batch\n",
      "Epoch: 5/20...  Training Step: 650...  Training loss: 1.8396...  4.4898 sec/batch\n",
      "Epoch: 5/20...  Training Step: 700...  Training loss: 1.7663...  4.5173 sec/batch\n",
      "Epoch: 5/20...  Training Step: 750...  Training loss: 1.7464...  4.4954 sec/batch\n",
      "Epoch: 6/20...  Training Step: 800...  Training loss: 1.7020...  4.5092 sec/batch\n",
      "Epoch: 6/20...  Training Step: 850...  Training loss: 1.6973...  4.5245 sec/batch\n",
      "Epoch: 6/20...  Training Step: 900...  Training loss: 1.6507...  4.5208 sec/batch\n",
      "Epoch: 7/20...  Training Step: 950...  Training loss: 1.6210...  4.5440 sec/batch\n",
      "Epoch: 7/20...  Training Step: 1000...  Training loss: 1.6315...  4.4694 sec/batch\n",
      "Epoch: 7/20...  Training Step: 1050...  Training loss: 1.6001...  4.4840 sec/batch\n",
      "Epoch: 8/20...  Training Step: 1100...  Training loss: 1.5404...  4.4807 sec/batch\n",
      "Epoch: 8/20...  Training Step: 1150...  Training loss: 1.5626...  4.5192 sec/batch\n",
      "Epoch: 8/20...  Training Step: 1200...  Training loss: 1.5235...  4.7795 sec/batch\n",
      "Epoch: 9/20...  Training Step: 1250...  Training loss: 1.5185...  4.7259 sec/batch\n",
      "Epoch: 9/20...  Training Step: 1300...  Training loss: 1.4829...  4.5720 sec/batch\n",
      "Epoch: 9/20...  Training Step: 1350...  Training loss: 1.5290...  4.5268 sec/batch\n",
      "Epoch: 10/20...  Training Step: 1400...  Training loss: 1.4627...  4.5497 sec/batch\n",
      "Epoch: 10/20...  Training Step: 1450...  Training loss: 1.4698...  4.5413 sec/batch\n",
      "Epoch: 10/20...  Training Step: 1500...  Training loss: 1.4358...  4.5190 sec/batch\n",
      "Epoch: 10/20...  Training Step: 1550...  Training loss: 1.4247...  4.6674 sec/batch\n",
      "Epoch: 11/20...  Training Step: 1600...  Training loss: 1.4661...  4.7465 sec/batch\n",
      "Epoch: 11/20...  Training Step: 1650...  Training loss: 1.4456...  4.5177 sec/batch\n",
      "Epoch: 11/20...  Training Step: 1700...  Training loss: 1.4328...  4.5554 sec/batch\n",
      "Epoch: 12/20...  Training Step: 1750...  Training loss: 1.4028...  4.5260 sec/batch\n",
      "Epoch: 12/20...  Training Step: 1800...  Training loss: 1.3868...  5.2617 sec/batch\n",
      "Epoch: 12/20...  Training Step: 1850...  Training loss: 1.4093...  4.9616 sec/batch\n",
      "Epoch: 13/20...  Training Step: 1900...  Training loss: 1.3863...  4.9618 sec/batch\n",
      "Epoch: 13/20...  Training Step: 1950...  Training loss: 1.3646...  5.0399 sec/batch\n",
      "Epoch: 13/20...  Training Step: 2000...  Training loss: 1.3825...  4.9242 sec/batch\n",
      "Epoch: 14/20...  Training Step: 2050...  Training loss: 1.3539...  4.7946 sec/batch\n",
      "Epoch: 14/20...  Training Step: 2100...  Training loss: 1.3554...  10.3735 sec/batch\n",
      "Epoch: 14/20...  Training Step: 2150...  Training loss: 1.3325...  10.6793 sec/batch\n",
      "Epoch: 15/20...  Training Step: 2200...  Training loss: 1.3480...  11.1590 sec/batch\n",
      "Epoch: 15/20...  Training Step: 2250...  Training loss: 1.3204...  10.2871 sec/batch\n",
      "Epoch: 15/20...  Training Step: 2300...  Training loss: 1.3220...  9.8856 sec/batch\n",
      "Epoch: 16/20...  Training Step: 2350...  Training loss: 1.3169...  10.4195 sec/batch\n",
      "Epoch: 16/20...  Training Step: 2400...  Training loss: 1.3376...  10.5495 sec/batch\n",
      "Epoch: 16/20...  Training Step: 2450...  Training loss: 1.2877...  10.4513 sec/batch\n",
      "Epoch: 17/20...  Training Step: 2500...  Training loss: 1.3087...  9.5856 sec/batch\n",
      "Epoch: 17/20...  Training Step: 2550...  Training loss: 1.3112...  10.4039 sec/batch\n",
      "Epoch: 17/20...  Training Step: 2600...  Training loss: 1.3126...  10.4975 sec/batch\n",
      "Epoch: 18/20...  Training Step: 2650...  Training loss: 1.2660...  10.3891 sec/batch\n",
      "Epoch: 18/20...  Training Step: 2700...  Training loss: 1.3035...  10.3174 sec/batch\n",
      "Epoch: 18/20...  Training Step: 2750...  Training loss: 1.2618...  10.7890 sec/batch\n",
      "Epoch: 19/20...  Training Step: 2800...  Training loss: 1.2890...  6.9936 sec/batch\n",
      "Epoch: 19/20...  Training Step: 2850...  Training loss: 1.2550...  8.2652 sec/batch\n",
      "Epoch: 19/20...  Training Step: 2900...  Training loss: 1.3000...  7.5772 sec/batch\n",
      "Epoch: 20/20...  Training Step: 2950...  Training loss: 1.2508...  8.1101 sec/batch\n",
      "Epoch: 20/20...  Training Step: 3000...  Training loss: 1.2563...  5.6767 sec/batch\n",
      "Epoch: 20/20...  Training Step: 3050...  Training loss: 1.2491...  5.7643 sec/batch\n",
      "Epoch: 20/20...  Training Step: 3100...  Training loss: 1.2249...  5.8315 sec/batch\n"
     ]
    }
   ],
   "source": [
    "epochs = 20\n",
    "# Print losses every N interations\n",
    "print_every_n = 50\n",
    "\n",
    "# Save every N iterations\n",
    "save_every_n = 20\n",
    "\n",
    "model = CharRNN(len(vocab), batch_size=batch_size, num_steps=num_steps,\n",
    "                lstm_size=lstm_size, num_layers=num_layers, \n",
    "                learning_rate=learning_rate)\n",
    "\n",
    "saver = tf.train.Saver(max_to_keep=100)\n",
    "with tf.Session() as sess:\n",
    "    sess.run(tf.global_variables_initializer())\n",
    "    \n",
    "    # Use the line below to load a checkpoint and resume training\n",
    "    #saver.restore(sess, 'checkpoints/______.ckpt')\n",
    "    counter = 0\n",
    "    for e in range(epochs):\n",
    "        # Train network\n",
    "        new_state = sess.run(model.initial_state)\n",
    "        loss = 0\n",
    "        for x, y in get_batches(encoded, batch_size, num_steps):\n",
    "            counter += 1\n",
    "            start = time.time()\n",
    "            feed = {model.inputs: x,\n",
    "                    model.targets: y,\n",
    "                    model.keep_prob: keep_prob,\n",
    "                    model.initial_state: new_state}\n",
    "            batch_loss, new_state, _ = sess.run([model.loss, \n",
    "                                                 model.final_state, \n",
    "                                                 model.optimizer], \n",
    "                                                 feed_dict=feed)\n",
    "            if (counter % print_every_n == 0):\n",
    "                end = time.time()\n",
    "                print('Epoch: {}/{}... '.format(e+1, epochs),\n",
    "                      'Training Step: {}... '.format(counter),\n",
    "                      'Training loss: {:.4f}... '.format(batch_loss),\n",
    "                      '{:.4f} sec/batch'.format((end-start)))\n",
    "        \n",
    "            if (counter % save_every_n == 0):\n",
    "                saver.save(sess, \"checkpoints/i{}_l{}.ckpt\".format(counter, lstm_size))\n",
    "    \n",
    "    saver.save(sess, \"checkpoints/i{}_l{}.ckpt\".format(counter, lstm_size))"
   ]
  },
  {
   "cell_type": "markdown",
   "metadata": {},
   "source": [
    "#### Saved checkpoints\n",
    "\n",
    "Read up on saving and loading checkpoints here: https://www.tensorflow.org/programmers_guide/variables"
   ]
  },
  {
   "cell_type": "code",
   "execution_count": 53,
   "metadata": {},
   "outputs": [
    {
     "data": {
      "text/plain": [
       "model_checkpoint_path: \"checkpoints/i3100_l512.ckpt\"\n",
       "all_model_checkpoint_paths: \"checkpoints/i1120_l512.ckpt\"\n",
       "all_model_checkpoint_paths: \"checkpoints/i1140_l512.ckpt\"\n",
       "all_model_checkpoint_paths: \"checkpoints/i1160_l512.ckpt\"\n",
       "all_model_checkpoint_paths: \"checkpoints/i1180_l512.ckpt\"\n",
       "all_model_checkpoint_paths: \"checkpoints/i1200_l512.ckpt\"\n",
       "all_model_checkpoint_paths: \"checkpoints/i1220_l512.ckpt\"\n",
       "all_model_checkpoint_paths: \"checkpoints/i1240_l512.ckpt\"\n",
       "all_model_checkpoint_paths: \"checkpoints/i1260_l512.ckpt\"\n",
       "all_model_checkpoint_paths: \"checkpoints/i1280_l512.ckpt\"\n",
       "all_model_checkpoint_paths: \"checkpoints/i1300_l512.ckpt\"\n",
       "all_model_checkpoint_paths: \"checkpoints/i1320_l512.ckpt\"\n",
       "all_model_checkpoint_paths: \"checkpoints/i1340_l512.ckpt\"\n",
       "all_model_checkpoint_paths: \"checkpoints/i1360_l512.ckpt\"\n",
       "all_model_checkpoint_paths: \"checkpoints/i1380_l512.ckpt\"\n",
       "all_model_checkpoint_paths: \"checkpoints/i1400_l512.ckpt\"\n",
       "all_model_checkpoint_paths: \"checkpoints/i1420_l512.ckpt\"\n",
       "all_model_checkpoint_paths: \"checkpoints/i1440_l512.ckpt\"\n",
       "all_model_checkpoint_paths: \"checkpoints/i1460_l512.ckpt\"\n",
       "all_model_checkpoint_paths: \"checkpoints/i1480_l512.ckpt\"\n",
       "all_model_checkpoint_paths: \"checkpoints/i1500_l512.ckpt\"\n",
       "all_model_checkpoint_paths: \"checkpoints/i1520_l512.ckpt\"\n",
       "all_model_checkpoint_paths: \"checkpoints/i1540_l512.ckpt\"\n",
       "all_model_checkpoint_paths: \"checkpoints/i1560_l512.ckpt\"\n",
       "all_model_checkpoint_paths: \"checkpoints/i1580_l512.ckpt\"\n",
       "all_model_checkpoint_paths: \"checkpoints/i1600_l512.ckpt\"\n",
       "all_model_checkpoint_paths: \"checkpoints/i1620_l512.ckpt\"\n",
       "all_model_checkpoint_paths: \"checkpoints/i1640_l512.ckpt\"\n",
       "all_model_checkpoint_paths: \"checkpoints/i1660_l512.ckpt\"\n",
       "all_model_checkpoint_paths: \"checkpoints/i1680_l512.ckpt\"\n",
       "all_model_checkpoint_paths: \"checkpoints/i1700_l512.ckpt\"\n",
       "all_model_checkpoint_paths: \"checkpoints/i1720_l512.ckpt\"\n",
       "all_model_checkpoint_paths: \"checkpoints/i1740_l512.ckpt\"\n",
       "all_model_checkpoint_paths: \"checkpoints/i1760_l512.ckpt\"\n",
       "all_model_checkpoint_paths: \"checkpoints/i1780_l512.ckpt\"\n",
       "all_model_checkpoint_paths: \"checkpoints/i1800_l512.ckpt\"\n",
       "all_model_checkpoint_paths: \"checkpoints/i1820_l512.ckpt\"\n",
       "all_model_checkpoint_paths: \"checkpoints/i1840_l512.ckpt\"\n",
       "all_model_checkpoint_paths: \"checkpoints/i1860_l512.ckpt\"\n",
       "all_model_checkpoint_paths: \"checkpoints/i1880_l512.ckpt\"\n",
       "all_model_checkpoint_paths: \"checkpoints/i1900_l512.ckpt\"\n",
       "all_model_checkpoint_paths: \"checkpoints/i1920_l512.ckpt\"\n",
       "all_model_checkpoint_paths: \"checkpoints/i1940_l512.ckpt\"\n",
       "all_model_checkpoint_paths: \"checkpoints/i1960_l512.ckpt\"\n",
       "all_model_checkpoint_paths: \"checkpoints/i1980_l512.ckpt\"\n",
       "all_model_checkpoint_paths: \"checkpoints/i2000_l512.ckpt\"\n",
       "all_model_checkpoint_paths: \"checkpoints/i2020_l512.ckpt\"\n",
       "all_model_checkpoint_paths: \"checkpoints/i2040_l512.ckpt\"\n",
       "all_model_checkpoint_paths: \"checkpoints/i2060_l512.ckpt\"\n",
       "all_model_checkpoint_paths: \"checkpoints/i2080_l512.ckpt\"\n",
       "all_model_checkpoint_paths: \"checkpoints/i2100_l512.ckpt\"\n",
       "all_model_checkpoint_paths: \"checkpoints/i2120_l512.ckpt\"\n",
       "all_model_checkpoint_paths: \"checkpoints/i2140_l512.ckpt\"\n",
       "all_model_checkpoint_paths: \"checkpoints/i2160_l512.ckpt\"\n",
       "all_model_checkpoint_paths: \"checkpoints/i2180_l512.ckpt\"\n",
       "all_model_checkpoint_paths: \"checkpoints/i2200_l512.ckpt\"\n",
       "all_model_checkpoint_paths: \"checkpoints/i2220_l512.ckpt\"\n",
       "all_model_checkpoint_paths: \"checkpoints/i2240_l512.ckpt\"\n",
       "all_model_checkpoint_paths: \"checkpoints/i2260_l512.ckpt\"\n",
       "all_model_checkpoint_paths: \"checkpoints/i2280_l512.ckpt\"\n",
       "all_model_checkpoint_paths: \"checkpoints/i2300_l512.ckpt\"\n",
       "all_model_checkpoint_paths: \"checkpoints/i2320_l512.ckpt\"\n",
       "all_model_checkpoint_paths: \"checkpoints/i2340_l512.ckpt\"\n",
       "all_model_checkpoint_paths: \"checkpoints/i2360_l512.ckpt\"\n",
       "all_model_checkpoint_paths: \"checkpoints/i2380_l512.ckpt\"\n",
       "all_model_checkpoint_paths: \"checkpoints/i2400_l512.ckpt\"\n",
       "all_model_checkpoint_paths: \"checkpoints/i2420_l512.ckpt\"\n",
       "all_model_checkpoint_paths: \"checkpoints/i2440_l512.ckpt\"\n",
       "all_model_checkpoint_paths: \"checkpoints/i2460_l512.ckpt\"\n",
       "all_model_checkpoint_paths: \"checkpoints/i2480_l512.ckpt\"\n",
       "all_model_checkpoint_paths: \"checkpoints/i2500_l512.ckpt\"\n",
       "all_model_checkpoint_paths: \"checkpoints/i2520_l512.ckpt\"\n",
       "all_model_checkpoint_paths: \"checkpoints/i2540_l512.ckpt\"\n",
       "all_model_checkpoint_paths: \"checkpoints/i2560_l512.ckpt\"\n",
       "all_model_checkpoint_paths: \"checkpoints/i2580_l512.ckpt\"\n",
       "all_model_checkpoint_paths: \"checkpoints/i2600_l512.ckpt\"\n",
       "all_model_checkpoint_paths: \"checkpoints/i2620_l512.ckpt\"\n",
       "all_model_checkpoint_paths: \"checkpoints/i2640_l512.ckpt\"\n",
       "all_model_checkpoint_paths: \"checkpoints/i2660_l512.ckpt\"\n",
       "all_model_checkpoint_paths: \"checkpoints/i2680_l512.ckpt\"\n",
       "all_model_checkpoint_paths: \"checkpoints/i2700_l512.ckpt\"\n",
       "all_model_checkpoint_paths: \"checkpoints/i2720_l512.ckpt\"\n",
       "all_model_checkpoint_paths: \"checkpoints/i2740_l512.ckpt\"\n",
       "all_model_checkpoint_paths: \"checkpoints/i2760_l512.ckpt\"\n",
       "all_model_checkpoint_paths: \"checkpoints/i2780_l512.ckpt\"\n",
       "all_model_checkpoint_paths: \"checkpoints/i2800_l512.ckpt\"\n",
       "all_model_checkpoint_paths: \"checkpoints/i2820_l512.ckpt\"\n",
       "all_model_checkpoint_paths: \"checkpoints/i2840_l512.ckpt\"\n",
       "all_model_checkpoint_paths: \"checkpoints/i2860_l512.ckpt\"\n",
       "all_model_checkpoint_paths: \"checkpoints/i2880_l512.ckpt\"\n",
       "all_model_checkpoint_paths: \"checkpoints/i2900_l512.ckpt\"\n",
       "all_model_checkpoint_paths: \"checkpoints/i2920_l512.ckpt\"\n",
       "all_model_checkpoint_paths: \"checkpoints/i2940_l512.ckpt\"\n",
       "all_model_checkpoint_paths: \"checkpoints/i2960_l512.ckpt\"\n",
       "all_model_checkpoint_paths: \"checkpoints/i2980_l512.ckpt\"\n",
       "all_model_checkpoint_paths: \"checkpoints/i3000_l512.ckpt\"\n",
       "all_model_checkpoint_paths: \"checkpoints/i3020_l512.ckpt\"\n",
       "all_model_checkpoint_paths: \"checkpoints/i3040_l512.ckpt\"\n",
       "all_model_checkpoint_paths: \"checkpoints/i3060_l512.ckpt\"\n",
       "all_model_checkpoint_paths: \"checkpoints/i3080_l512.ckpt\"\n",
       "all_model_checkpoint_paths: \"checkpoints/i3100_l512.ckpt\""
      ]
     },
     "execution_count": 53,
     "metadata": {},
     "output_type": "execute_result"
    }
   ],
   "source": [
    "tf.train.get_checkpoint_state('checkpoints')"
   ]
  },
  {
   "cell_type": "markdown",
   "metadata": {},
   "source": [
    "## Sampling\n",
    "\n",
    "Now that the network is trained, we'll can use it to generate new text. The idea is that we pass in a character, then the network will predict the next character. We can use the new one, to predict the next one. And we keep doing this to generate all new text. I also included some functionality to prime the network with some text by passing in a string and building up a state from that.\n",
    "\n",
    "The network gives us predictions for each character. To reduce noise and make things a little less random, I'm going to only choose a new character from the top N most likely characters.\n",
    "\n"
   ]
  },
  {
   "cell_type": "code",
   "execution_count": 54,
   "metadata": {
    "collapsed": true
   },
   "outputs": [],
   "source": [
    "def pick_top_n(preds, vocab_size, top_n=5):\n",
    "    p = np.squeeze(preds)\n",
    "    p[np.argsort(p)[:-top_n]] = 0\n",
    "    p = p / np.sum(p)\n",
    "    c = np.random.choice(vocab_size, 1, p=p)[0]\n",
    "    return c"
   ]
  },
  {
   "cell_type": "code",
   "execution_count": 55,
   "metadata": {
    "collapsed": true
   },
   "outputs": [],
   "source": [
    "def sample(checkpoint, n_samples, lstm_size, vocab_size, prime=\"The \"):\n",
    "    samples = [c for c in prime]\n",
    "    model = CharRNN(len(vocab), lstm_size=lstm_size, sampling=True)\n",
    "    saver = tf.train.Saver()\n",
    "    with tf.Session() as sess:\n",
    "        saver.restore(sess, checkpoint)\n",
    "        new_state = sess.run(model.initial_state)\n",
    "        for c in prime:\n",
    "            x = np.zeros((1, 1))\n",
    "            x[0,0] = vocab_to_int[c]\n",
    "            feed = {model.inputs: x,\n",
    "                    model.keep_prob: 1.,\n",
    "                    model.initial_state: new_state}\n",
    "            preds, new_state = sess.run([model.prediction, model.final_state], \n",
    "                                         feed_dict=feed)\n",
    "\n",
    "        c = pick_top_n(preds, len(vocab))\n",
    "        samples.append(int_to_vocab[c])\n",
    "\n",
    "        for i in range(n_samples):\n",
    "            x[0,0] = c\n",
    "            feed = {model.inputs: x,\n",
    "                    model.keep_prob: 1.,\n",
    "                    model.initial_state: new_state}\n",
    "            preds, new_state = sess.run([model.prediction, model.final_state], \n",
    "                                         feed_dict=feed)\n",
    "\n",
    "            c = pick_top_n(preds, len(vocab))\n",
    "            samples.append(int_to_vocab[c])\n",
    "        \n",
    "    return ''.join(samples)"
   ]
  },
  {
   "cell_type": "markdown",
   "metadata": {},
   "source": [
    "Here, pass in the path to a checkpoint and sample from the network."
   ]
  },
  {
   "cell_type": "code",
   "execution_count": 56,
   "metadata": {},
   "outputs": [
    {
     "data": {
      "text/plain": [
       "'checkpoints/i3100_l512.ckpt'"
      ]
     },
     "execution_count": 56,
     "metadata": {},
     "output_type": "execute_result"
    }
   ],
   "source": [
    "tf.train.latest_checkpoint('checkpoints')"
   ]
  },
  {
   "cell_type": "code",
   "execution_count": 57,
   "metadata": {},
   "outputs": [
    {
     "name": "stdout",
     "output_type": "stream",
     "text": [
      "INFO:tensorflow:Restoring parameters from checkpoints/i3100_l512.ckpt\n",
      "Farding with\n",
      "hearted hand the sound of the deserace of her son, and he could not\n",
      "look at the solitures of her son with her.\n",
      "\n",
      "\"Yes, then aro you'd seeing how that's the marriage with his mire. I\n",
      "shine so.'\n",
      "\n",
      "The meaning, threw, all of instination, but tany and sole of the propinition\n",
      "of haste, as so though side another sinking this isterfating oneself, and\n",
      "the post of all the same to be in sight to be in the property to holrow. But\n",
      "where trie to talk about this man and the prrise of the part on the marsh\n",
      "was settening, allowing her that she's as though, he has been they went up\n",
      "to me and another to material pose.s\n",
      "\n",
      "\n",
      "\"You centrible to the position!\"\n",
      "\n",
      "She had a government were at the princess still to hear the ball. He had\n",
      "seen her hand the mother was serewall to see him. They're talking in the\n",
      "stooting torth of the crowd weariness. The courters were so interested\n",
      "the position of well as they had better had to be all the merchant of to\n",
      "the second their time. And he had been cleared in her, by time to simply\n",
      "a state of second and without seeing the professor of the paper, and the\n",
      "despribution of the sight of and had seen him to her. As he doesn't a mare to\n",
      "see him on the perpast and wonderful society of how sorich he had not the\n",
      "membre. And the dresses of setting that the door saw all the wind and\n",
      "shalless of this support, tense and and table to the same time, began so to\n",
      "him that something so made him to something all one to the peasunts, and\n",
      "was as in the conversation of these chulch, and so it to say it's the consciousn\n",
      "of these strigen of the carriage, and went on words.\n",
      "\n",
      "And that's that side of the same which she was asked the brings, and the\n",
      "carriage, that if had been the clurk that seemed to her in society in his\n",
      "horres, and he said, as she had bleshed her hat of them. They had something\n",
      "so she said that he had stepped her his of a service was his still\n",
      "table with her.\n",
      "\n",
      "\"Well, he's not all these thousand.\"\n",
      "\n",
      "\"I haven't she wouldn't be all the same and more that she say\n"
     ]
    }
   ],
   "source": [
    "checkpoint = tf.train.latest_checkpoint('checkpoints')\n",
    "samp = sample(checkpoint, 2000, lstm_size, len(vocab), prime=\"Far\")\n",
    "print(samp)"
   ]
  },
  {
   "cell_type": "code",
   "execution_count": 59,
   "metadata": {},
   "outputs": [
    {
     "name": "stdout",
     "output_type": "stream",
     "text": [
      "INFO:tensorflow:Restoring parameters from checkpoints/i1380_l512.ckpt\n",
      "Farding\n",
      "wat on all, and a glance, to the stop the cold, and as they could not leve with a thought. It's she say what is a chance in what is it is already and and my prompty, and see thas she was the\n",
      "sense of at a personal of the charring, but three more sones, but was seting in her house.\n",
      "\n",
      "All the world the mar and a strange whole armuner of the pronartse on his strong of an older at her, walking to her such as the sister time and his hand and time to the second\n",
      "which she had taken had they to thook the marry. He seamor and all the mother was not asker wo to him. The sensition of her husband seemed in the chied something taken to the counters\n",
      "and his\n",
      "work and sering his face to stiel the child.\n",
      "\"To she was still see a lat the carreate.\" And so to bres her and that the courder work to have been in the prince, where the peasing, and station was suct compraces of the sacory.\n",
      "\n",
      "\"Ant him.\" \n",
      "\"Yes, it's the same tome, I didn't have to see him, and what I don't thought on\n",
      "the foots..\"\n",
      "\n",
      "\"Alexey Alex\n"
     ]
    }
   ],
   "source": [
    "checkpoint = 'checkpoints/i1380_l512.ckpt'\n",
    "samp = sample(checkpoint, 1000, lstm_size, len(vocab), prime=\"Far\")\n",
    "print(samp)"
   ]
  },
  {
   "cell_type": "code",
   "execution_count": 60,
   "metadata": {},
   "outputs": [
    {
     "name": "stdout",
     "output_type": "stream",
     "text": [
      "INFO:tensorflow:Restoring parameters from checkpoints/i1860_l512.ckpt\n",
      "Farracce time the\n",
      "doctor and his stoples and at the cross and the station and see of the\n",
      "princess, there was a sort, as, that he came in to him.\n",
      "\n",
      "\"Yis, and I did not let have your hontor,\" whispered Stepan\n",
      "Arkadyevitch, \"that wo standing it is a friend in the\n",
      "simple. In the dinnor, but I\n",
      "should say it, I can't did you thought. And\n",
      "that is so it tall. And he did not be to be did not\n",
      "be thinking about it all at a long to the begrated and streng\n",
      "them all, was self-contemptuous, and walk of any the measin were\n",
      "time and that an the change of matters were sole of the prince. There's\n",
      "nothing but as he doenn that hand if he cannte, why there, where's no\n",
      "might see you which has beginning to me about them, and she was starting\n",
      "the princess, but he dose,\" had astering, was not the sore of the same time\n",
      "to a calriage and hands. He was saying; but thought and so talken,\n",
      "was and the sounds of the people took, betaunt himself to this were\n",
      "aspecially the matser of the conversation a common of his happines\n"
     ]
    }
   ],
   "source": [
    "checkpoint = 'checkpoints/i1860_l512.ckpt'\n",
    "samp = sample(checkpoint, 1000, lstm_size, len(vocab), prime=\"Far\")\n",
    "print(samp)"
   ]
  },
  {
   "cell_type": "code",
   "execution_count": 61,
   "metadata": {},
   "outputs": [
    {
     "name": "stdout",
     "output_type": "stream",
     "text": [
      "INFO:tensorflow:Restoring parameters from checkpoints/i2600_l512.ckpt\n",
      "Farrencouncy with her hands, which he had stimply hoped her, and was an agus of the\n",
      "child had changed him, and he was not been to try an office of his\n",
      "brother's pleasune.\n",
      "\n",
      "\"You don't should I mean to do?\" he said.\n",
      "\n",
      "\"The mesters, that's not a sight of my sense the mates and the people\n",
      "to make the more and don't be drew. I and we had a sense of and worked\n",
      "her and work about the streams with my hour.\n",
      "\n",
      "The simp of he can continually strunge the man't post the peapants to\n",
      "him? Whether there's no other?\"\n",
      "\n",
      "\"What did you know? He do you don't have.\"\n",
      "\n",
      "\"It's asliev then in second, and what was it is the forms, and she\n",
      "don't say if he doesn't broke about the more a correction,\" he\n",
      "said, smiling. \"It's no state,\" said Varenka, and was stopping at the\n",
      "pain against her father. She saw nothing with the sured birther, with\n",
      "the clusk of a coultry, whon's head he had sand alone at the\n",
      "such oficers in the person there were summer to say that\n",
      "they here, and they seemed to have all that sering which he could\n",
      "h\n"
     ]
    }
   ],
   "source": [
    "checkpoint = 'checkpoints/i2600_l512.ckpt'\n",
    "samp = sample(checkpoint, 1000, lstm_size, len(vocab), prime=\"Far\")\n",
    "print(samp)"
   ]
  }
 ],
 "metadata": {
  "kernelspec": {
   "display_name": "Python 3",
   "language": "python",
   "name": "python3"
  },
  "language_info": {
   "codemirror_mode": {
    "name": "ipython",
    "version": 3
   },
   "file_extension": ".py",
   "mimetype": "text/x-python",
   "name": "python",
   "nbconvert_exporter": "python",
   "pygments_lexer": "ipython3",
   "version": "3.6.4"
  }
 },
 "nbformat": 4,
 "nbformat_minor": 2
}
