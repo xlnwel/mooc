{
 "cells": [
  {
   "cell_type": "markdown",
   "metadata": {},
   "source": [
    "# Artificial Intelligence Nanodegree\n",
    "## Recurrent Neural Network Projects\n",
    "\n",
    "Welcome to the Recurrent Neural Network Project in the Artificial Intelligence Nanodegree! In this notebook, some template code has already been provided for you, and you will need to implement additional functionality to successfully complete this project. You will not need to modify the included code beyond what is requested. Sections that begin with **'Implementation'** in the header indicate that the following block of code will require additional functionality which you must provide. Instructions will be provided for each section and the specifics of the implementation are marked in the code block with a 'TODO' statement. Please be sure to read the instructions carefully!\n",
    "\n",
    ">**Note:** Code and Markdown cells can be executed using the **Shift + Enter** keyboard shortcut. In addition, Markdown cells can be edited by typically double-clicking the cell to enter edit mode."
   ]
  },
  {
   "cell_type": "markdown",
   "metadata": {},
   "source": [
    "### Implementation TODOs in this notebook\n",
    "\n",
    "This notebook contains two problems, cut into a variety of TODOs.  Make sure to complete each section containing a TODO marker throughout the notebook.  For convenience we provide links to each of these sections below.\n",
    "\n",
    "[TODO #1: Implement a function to window time series](#TODO_1)\n",
    "\n",
    "[TODO #2: Create a simple RNN model using keras to perform regression](#TODO_2)\n",
    "\n",
    "[TODO #3: Finish cleaning a large text corpus](#TODO_3)\n",
    "\n",
    "[TODO #4: Implement a function to window a large text corpus](#TODO_4)\n",
    "\n",
    "[TODO #5: Create a simple RNN model using keras to perform multiclass classification](#TODO_5)\n",
    "\n",
    "[TODO #6: Generate text using a fully trained RNN model and a variety of input sequences](#TODO_6)\n"
   ]
  },
  {
   "cell_type": "markdown",
   "metadata": {},
   "source": [
    "# Problem 1: Perform time series prediction \n",
    "\n",
    "In this project you will perform time series prediction using a Recurrent Neural Network regressor.  In particular you will re-create the figure shown in the notes - where the stock price of Apple was forecasted (or predicted) 7 days in advance.  In completing this exercise you will learn how to construct RNNs using Keras, which will also aid in completing the second project in this notebook.\n",
    "\n",
    "The particular network architecture we will employ for our RNN is known as  [Long Term Short Memory (LSTM)](https://en.wikipedia.org/wiki/Long_short-term_memory), which helps significantly avoid technical problems with optimization of RNNs.  "
   ]
  },
  {
   "cell_type": "markdown",
   "metadata": {},
   "source": [
    "## 1.1 Getting started\n",
    "\n",
    "First we must load in our time series - a history of around 140 days of Apple's stock price.  Then we need to perform a number of pre-processing steps to prepare it for use with an RNN model.  First off, it is good practice to normalize time series - by normalizing its range.  This helps us avoid serious numerical issues associated how common activation functions (like tanh) transform very large (positive or negative) numbers, as well as helping us to avoid related issues when computing derivatives.\n",
    "\n",
    "Here we normalize the series to lie in the range [0,1] [using this scikit function](http://scikit-learn.org/stable/modules/generated/sklearn.preprocessing.MinMaxScaler.html), but it is also commonplace to normalize by a series standard deviation."
   ]
  },
  {
   "cell_type": "code",
   "execution_count": 1,
   "metadata": {},
   "outputs": [
    {
     "name": "stderr",
     "output_type": "stream",
     "text": [
      "/Users/aptx4869/anaconda3/envs/ai/lib/python3.6/site-packages/h5py/__init__.py:36: FutureWarning: Conversion of the second argument of issubdtype from `float` to `np.floating` is deprecated. In future, it will be treated as `np.float64 == np.dtype(float).type`.\n",
      "  from ._conv import register_converters as _register_converters\n",
      "Using TensorFlow backend.\n"
     ]
    },
    {
     "name": "stdout",
     "output_type": "stream",
     "text": [
      "The autoreload extension is already loaded. To reload it, use:\n",
      "  %reload_ext autoreload\n"
     ]
    }
   ],
   "source": [
    "### Load in necessary libraries for data input and normalization\n",
    "%matplotlib inline\n",
    "import numpy as np\n",
    "import matplotlib.pyplot as plt\n",
    "\n",
    "%load_ext autoreload\n",
    "%autoreload 2\n",
    "\n",
    "from my_answers import *\n",
    "\n",
    "%load_ext autoreload\n",
    "%autoreload 2\n",
    "\n",
    "from my_answers import *\n",
    "\n",
    "### load in and normalize the dataset\n",
    "dataset = np.loadtxt('datasets/normalized_apple_prices.csv')"
   ]
  },
  {
   "cell_type": "markdown",
   "metadata": {},
   "source": [
    "Lets take a quick look at the (normalized) time series we'll be performing predictions on."
   ]
  },
  {
   "cell_type": "code",
   "execution_count": 2,
   "metadata": {},
   "outputs": [
    {
     "data": {
      "text/plain": [
       "Text(0,0.5,'normalized series value')"
      ]
     },
     "execution_count": 2,
     "metadata": {},
     "output_type": "execute_result"
    },
    {
     "data": {
      "image/png": "[encoded data removed]",
      "text/plain": [
       "<matplotlib.figure.Figure at 0x10c5e0240>"
      ]
     },
     "metadata": {},
     "output_type": "display_data"
    }
   ],
   "source": [
    "# lets take a look at our time series\n",
    "plt.plot(dataset)\n",
    "plt.xlabel('time period')\n",
    "plt.ylabel('normalized series value')"
   ]
  },
  {
   "cell_type": "markdown",
   "metadata": {},
   "source": [
    "## 1.2  Cutting our time series into sequences\n",
    "\n",
    "Remember, our time series is a sequence of numbers that we can represent in general mathematically as \n",
    "\n",
    "$$s_{0},s_{1},s_{2},...,s_{P}$$\n",
    "\n",
    "where $s_{p}$ is the numerical value of the time series at time period $p$ and where $P$ is the total length of the series.  In order to apply our RNN we treat the time series prediction problem as a regression problem, and so need to use a sliding window to construct a set of associated input/output pairs to regress on.  This process is animated in the gif below.\n",
    "\n",
    "<img src=\"images/timeseries_windowing_training.gif\" width=600 height=600/>\n",
    "\n",
    "For example - using a window of size T = 5 (as illustrated in the gif above) we produce a set of input/output pairs like the one shown in the table below\n",
    "\n",
    "$$\\begin{array}{c|c}\n",
    "\\text{Input} & \\text{Output}\\\\\n",
    "\\hline \\color{CornflowerBlue} {\\langle s_{1},s_{2},s_{3},s_{4},s_{5}\\rangle} & \\color{Goldenrod}{ s_{6}} \\\\\n",
    "\\ \\color{CornflowerBlue} {\\langle s_{2},s_{3},s_{4},s_{5},s_{6} \\rangle } & \\color{Goldenrod} {s_{7} } \\\\\n",
    "\\color{CornflowerBlue}  {\\vdots} & \\color{Goldenrod} {\\vdots}\\\\\n",
    "\\color{CornflowerBlue} { \\langle s_{P-5},s_{P-4},s_{P-3},s_{P-2},s_{P-1} \\rangle } & \\color{Goldenrod} {s_{P}}\n",
    "\\end{array}$$\n",
    "\n",
    "Notice here that each input is a sequence (or vector) of length 5 (and in general has length equal to the window size T) while each corresponding output is a scalar value.  Notice also how given a time series of length P and window size T = 5 as shown above, we created P - 5  input/output pairs.  More generally, for a window size T we create P - T such pairs."
   ]
  },
  {
   "cell_type": "markdown",
   "metadata": {},
   "source": [
    "Now its time for you to window the input time series as described above!  \n",
    "\n",
    "<a id='TODO_1'></a>\n",
    "\n",
    "**TODO:** Implement the function called **window_transform_series** in my_answers.py so that it runs a sliding window along the input series and creates associated input/output pairs.    Note that this function should input a) the series and b) the window length, and return the input/output subsequences.  Make sure to format returned input/output as generally shown in table above (where window_size = 5), and make sure your returned input is a numpy array.\n",
    "\n",
    "-----"
   ]
  },
  {
   "cell_type": "markdown",
   "metadata": {},
   "source": [
    "You can test your function on the list of odd numbers given below"
   ]
  },
  {
   "cell_type": "code",
   "execution_count": 3,
   "metadata": {},
   "outputs": [],
   "source": [
    "odd_nums = np.array([1,3,5,7,9,11,13])"
   ]
  },
  {
   "cell_type": "markdown",
   "metadata": {},
   "source": [
    "Here is a hard-coded solution for odd_nums.  You can compare its results with what you get from your **window_transform_series** implementation."
   ]
  },
  {
   "cell_type": "code",
   "execution_count": 4,
   "metadata": {},
   "outputs": [
    {
     "name": "stdout",
     "output_type": "stream",
     "text": [
      "--- the input X will look like ----\n",
      "[[ 1  3]\n",
      " [ 3  5]\n",
      " [ 5  7]\n",
      " [ 7  9]\n",
      " [ 9 11]]\n",
      "--- the associated output y will look like ----\n",
      "[[ 5]\n",
      " [ 7]\n",
      " [ 9]\n",
      " [11]\n",
      " [13]]\n"
     ]
    }
   ],
   "source": [
    "# run a window of size 2 over the odd number sequence and display the results\n",
    "window_size = 2\n",
    "\n",
    "X = []\n",
    "X.append(odd_nums[0:2])\n",
    "X.append(odd_nums[1:3])\n",
    "X.append(odd_nums[2:4])\n",
    "X.append(odd_nums[3:5])\n",
    "X.append(odd_nums[4:6])\n",
    "\n",
    "y = odd_nums[2:]\n",
    "\n",
    "X = np.asarray(X)\n",
    "y = np.asarray(y)\n",
    "y = np.reshape(y, (len(y),1)) #optional\n",
    "\n",
    "assert(type(X).__name__ == 'ndarray')\n",
    "assert(type(y).__name__ == 'ndarray')\n",
    "assert(X.shape == (5,2))\n",
    "assert(y.shape in [(5,1), (5,)])\n",
    "\n",
    "# print out input/output pairs --> here input = X, corresponding output = y\n",
    "print ('--- the input X will look like ----')\n",
    "print (X)\n",
    "\n",
    "print ('--- the associated output y will look like ----')\n",
    "print (y)"
   ]
  },
  {
   "cell_type": "markdown",
   "metadata": {},
   "source": [
    "Again - you can check that your completed **window_transform_series** function works correctly by trying it on the odd_nums sequence - you should get the above output."
   ]
  },
  {
   "cell_type": "code",
   "execution_count": 5,
   "metadata": {},
   "outputs": [
    {
     "name": "stdout",
     "output_type": "stream",
     "text": [
      "[[ 1  3]\n",
      " [ 3  5]\n",
      " [ 5  7]\n",
      " [ 7  9]\n",
      " [ 9 11]]\n",
      "[[ 5]\n",
      " [ 7]\n",
      " [ 9]\n",
      " [11]\n",
      " [13]]\n"
     ]
    }
   ],
   "source": [
    "### TODO: implement the function window_transform_series in the file my_answers.py\n",
    "from my_answers import window_transform_series\n",
    "X, y = window_transform_series(odd_nums, 2)\n",
    "print(X)\n",
    "print(y)"
   ]
  },
  {
   "cell_type": "markdown",
   "metadata": {},
   "source": [
    "With this function in place apply it to the series in the Python cell below.  We use a window_size = 7 for these experiments."
   ]
  },
  {
   "cell_type": "code",
   "execution_count": 6,
   "metadata": {},
   "outputs": [],
   "source": [
    "# window the data using your windowing function\n",
    "window_size = 7\n",
    "X,y = window_transform_series(series = dataset,window_size = window_size)"
   ]
  },
  {
   "cell_type": "markdown",
   "metadata": {},
   "source": [
    "## 1.3  Splitting into training and testing sets\n",
    "\n",
    "In order to perform proper testing on our dataset we will lop off the last 1/3 of it for validation (or testing).  This is that once we train our model we have something to test it on (like any regression problem!).  This splitting into training/testing sets is done in the cell below.\n",
    "\n",
    "Note how here we are **not** splitting the dataset *randomly* as one typically would do when validating a regression model.  This is because our input/output pairs *are related temporally*.   We don't want to validate our model by training on a random subset of the series and then testing on another random subset, as this simulates the scenario that we receive new points *within the timeframe of our training set*.  \n",
    "\n",
    "We want to train on one solid chunk of the series (in our case, the first full 2/3 of it), and validate on a later chunk (the last 1/3) as this simulates how we would predict *future* values of a time series."
   ]
  },
  {
   "cell_type": "code",
   "execution_count": 7,
   "metadata": {},
   "outputs": [],
   "source": [
    "# split our dataset into training / testing sets\n",
    "train_test_split = int(np.ceil(2*len(y)/float(3)))   # set the split point\n",
    "\n",
    "# partition the training set\n",
    "X_train = X[:train_test_split,:]\n",
    "y_train = y[:train_test_split]\n",
    "\n",
    "# keep the last chunk for testing\n",
    "X_test = X[train_test_split:,:]\n",
    "y_test = y[train_test_split:]\n",
    "\n",
    "# NOTE: to use keras's RNN LSTM module our input must be reshaped to [samples, window size, stepsize] \n",
    "X_train = np.asarray(np.reshape(X_train, (X_train.shape[0], window_size, 1)))\n",
    "X_test = np.asarray(np.reshape(X_test, (X_test.shape[0], window_size, 1)))"
   ]
  },
  {
   "cell_type": "markdown",
   "metadata": {},
   "source": [
    "<a id='TODO_2'></a>\n",
    "\n",
    "## 1.4  Build and run an RNN regression model\n",
    "\n",
    "Having created input/output pairs out of our time series and cut this into training/testing sets, we can now begin setting up our RNN.  We use Keras to quickly build a two hidden layer RNN of the following specifications\n",
    "\n",
    "- layer 1 uses an LSTM module with 5 hidden units (note here the input_shape = (window_size,1))\n",
    "- layer 2 uses a fully connected module with one unit\n",
    "- the 'mean_squared_error' loss should be used (remember: we are performing regression here)\n",
    "\n",
    "This can be constructed using just a few lines - see e.g., the [general Keras documentation](https://keras.io/getting-started/sequential-model-guide/) and the [LSTM documentation in particular](https://keras.io/layers/recurrent/) for examples of how to quickly use Keras to build neural network models.  Make sure you are initializing your optimizer given the [keras-recommended approach for RNNs](https://keras.io/optimizers/) \n",
    "\n",
    "(given in the cell below).  (remember to copy your completed function into the script *my_answers.py* function titled *build_part1_RNN* before submitting your project)"
   ]
  },
  {
   "cell_type": "code",
   "execution_count": 8,
   "metadata": {},
   "outputs": [],
   "source": [
    "### TODO: create required RNN model\n",
    "# import keras network libraries\n",
    "from keras.models import Sequential\n",
    "from keras.layers import Dense\n",
    "from keras.layers import LSTM\n",
    "import keras\n",
    "\n",
    "# given - fix random seed - so we can all reproduce the same results on our default time series\n",
    "np.random.seed(0)\n",
    "\n",
    "\n",
    "# TODO: implement build_part1_RNN in my_answers.py\n",
    "from my_answers import build_part1_RNN\n",
    "model = build_part1_RNN(window_size)\n",
    "\n",
    "# build model using keras documentation recommended optimizer initialization\n",
    "optimizer = keras.optimizers.RMSprop(lr=0.001, rho=0.9, epsilon=1e-08, decay=0.0)\n",
    "\n",
    "# compile the model\n",
    "model.compile(loss='mean_squared_error', optimizer=optimizer, metrics=['accuracy'])"
   ]
  },
  {
   "cell_type": "markdown",
   "metadata": {},
   "source": [
    "With your model built you can now fit the model by activating the cell below!  Note: the number of epochs (np_epochs) and batch_size are preset (so we can all produce the same results).  You can choose to toggle the verbose parameter - which gives you regular updates on the progress of the algorithm - on and off by setting it to 1 or 0 respectively."
   ]
  },
  {
   "cell_type": "code",
   "execution_count": 9,
   "metadata": {},
   "outputs": [
    {
     "data": {
      "text/plain": [
       "<keras.callbacks.History at 0x181651feb8>"
      ]
     },
     "execution_count": 9,
     "metadata": {},
     "output_type": "execute_result"
    }
   ],
   "source": [
    "# run your model!\n",
    "model.fit(X_train, y_train,  \n",
    "          epochs=1000, batch_size=50, verbose=0)"
   ]
  },
  {
   "cell_type": "markdown",
   "metadata": {},
   "source": [
    "## 1.5  Checking model performance\n",
    "\n",
    "With your model fit we can now make predictions on both our training and testing sets."
   ]
  },
  {
   "cell_type": "code",
   "execution_count": 10,
   "metadata": {},
   "outputs": [],
   "source": [
    "# generate predictions for training\n",
    "model.load_weights=('best_model.hdf5')\n",
    "train_predict = model.predict(X_train)\n",
    "test_predict = model.predict(X_test)"
   ]
  },
  {
   "cell_type": "markdown",
   "metadata": {},
   "source": [
    "In the next cell we compute training and testing errors using our trained model - you should be able to achieve at least\n",
    "\n",
    "*training_error* < 0.02\n",
    "\n",
    "and \n",
    "\n",
    "*testing_error* < 0.02\n",
    "\n",
    "with your fully trained model.  \n",
    "\n",
    "If either or both of your accuracies are larger than 0.02 re-train your model - increasing the number of epochs you take (a maximum of around 1,000 should do the job) and/or adjusting your batch_size."
   ]
  },
  {
   "cell_type": "code",
   "execution_count": 11,
   "metadata": {},
   "outputs": [
    {
     "name": "stdout",
     "output_type": "stream",
     "text": [
      "training error = [0.016003980724648995, 0.022727272727272728]\n",
      "testing error = [0.013984095716719018, 0.0]\n"
     ]
    }
   ],
   "source": [
    "# print out training and testing errors\n",
    "training_error = model.evaluate(X_train, y_train, verbose=0)\n",
    "print('training error = ' + str(training_error))\n",
    "\n",
    "testing_error = model.evaluate(X_test, y_test, verbose=0)\n",
    "print('testing error = ' + str(testing_error))"
   ]
  },
  {
   "cell_type": "markdown",
   "metadata": {},
   "source": [
    "Activating the next cell plots the original data, as well as both predictions on the training and testing sets. "
   ]
  },
  {
   "cell_type": "code",
   "execution_count": 12,
   "metadata": {},
   "outputs": [
    {
     "data": {
      "image/png": "[encoded data removed]",
      "text/plain": [
       "<matplotlib.figure.Figure at 0x104ad4588>"
      ]
     },
     "metadata": {},
     "output_type": "display_data"
    }
   ],
   "source": [
    "### Plot everything - the original series as well as predictions on training and testing sets\n",
    "import matplotlib.pyplot as plt\n",
    "%matplotlib inline\n",
    "\n",
    "# plot original series\n",
    "plt.plot(dataset,color = 'k')\n",
    "\n",
    "# plot training set prediction\n",
    "split_pt = train_test_split + window_size \n",
    "plt.plot(np.arange(window_size,split_pt,1),train_predict,color = 'b')\n",
    "\n",
    "# plot testing set prediction\n",
    "plt.plot(np.arange(split_pt,split_pt + len(test_predict),1),test_predict,color = 'r')\n",
    "\n",
    "# pretty up graph\n",
    "plt.xlabel('day')\n",
    "plt.ylabel('(normalized) price of Apple stock')\n",
    "plt.legend(['original series','training fit','testing fit'],loc='center left', bbox_to_anchor=(1, 0.5))\n",
    "plt.show()"
   ]
  },
  {
   "cell_type": "markdown",
   "metadata": {},
   "source": [
    "**Note:** you can try out any time series for this exercise!  If you would like to try another see e.g., [this site containing thousands of time series](https://datamarket.com/data/list/?q=provider%3Atsdl) and pick another one!"
   ]
  },
  {
   "cell_type": "markdown",
   "metadata": {},
   "source": [
    "# Problem 2: Create a sequence generator"
   ]
  },
  {
   "cell_type": "markdown",
   "metadata": {},
   "source": [
    "## 2.1  Getting started\n",
    "\n",
    "In this project you will implement a popular Recurrent Neural Network (RNN) architecture to create an English language sequence generator capable of building semi-coherent English sentences from scratch by building them up character-by-character.  This will require a substantial amount amount of parameter tuning on a large training corpus (at least 100,000 characters long).  In particular for this project we will be using a complete version of Sir Arthur Conan Doyle's classic book The Adventures of Sherlock Holmes.\n",
    "\n",
    "How can we train a machine learning model to generate text automatically, character-by-character?  *By showing the model many training examples so it can learn a pattern between input and output.*  With this type of text generation each input is a string of valid characters like this one\n",
    "\n",
    "*dogs are grea*\n",
    "\n",
    "while the corresponding output is the next character in the sentence - which here is 't' (since the complete sentence is 'dogs are great').  We need to show a model many such examples in order for it to make reasonable predictions.\n",
    "\n",
    "**Fun note:** For those interested in how text generation is being used check out some of the following fun resources:\n",
    "\n",
    "- [Generate wacky sentences](http://www.cs.toronto.edu/~ilya/rnn.html) with this academic RNN text generator\n",
    "\n",
    "- Various twitter bots that tweet automatically generated text like[this one](http://tweet-generator-alex.herokuapp.com/).\n",
    "\n",
    "- the [NanoGenMo](https://github.com/NaNoGenMo/2016) annual contest to automatically produce a 50,000+ novel automatically\n",
    "\n",
    "- [Robot Shakespeare](https://github.com/genekogan/RobotShakespeare) a text generator that automatically produces Shakespear-esk sentences"
   ]
  },
  {
   "cell_type": "markdown",
   "metadata": {},
   "source": [
    "## 2.2  Preprocessing a text dataset\n",
    "\n",
    "Our first task is to get a large text corpus for use in training, and on it we perform a several light pre-processing tasks.  The default corpus we will use is the classic book Sherlock Holmes, but you can use a variety of others as well - so long as they are fairly large (around 100,000 characters or more).  "
   ]
  },
  {
   "cell_type": "code",
   "execution_count": 13,
   "metadata": {},
   "outputs": [
    {
     "name": "stdout",
     "output_type": "stream",
     "text": [
      "our original text has 581864 characters\n"
     ]
    }
   ],
   "source": [
    "# read in the text, transforming everything to lower case\n",
    "text = open('datasets/holmes.txt').read().lower()\n",
    "print('our original text has ' + str(len(text)) + ' characters')"
   ]
  },
  {
   "cell_type": "markdown",
   "metadata": {},
   "source": [
    "Next, lets examine a bit of the raw text.  Because we are interested in creating sentences of English words automatically by building up each word character-by-character, we only want to train on valid English words.  In other words - we need to remove all of the other characters that are not part of English words."
   ]
  },
  {
   "cell_type": "code",
   "execution_count": 14,
   "metadata": {},
   "outputs": [
    {
     "data": {
      "text/plain": [
       "\"\\ufeffproject gutenberg's the adventures of sherlock holmes, by arthur conan doyle\\n\\nthis ebook is for the use of anyone anywhere at no cost and with\\nalmost no restrictions whatsoever.  you may copy it, give it away or\\nre-use it under the terms of the project gutenberg license included\\nwith this ebook or online at www.gutenberg.net\\n\\n\\ntitle: the adventures of sherlock holmes\\n\\nauthor: arthur conan doyle\\n\\nposting date: april 18, 2011 [ebook #1661]\\nfirst posted: november 29, 2002\\n\\nlanguage: english\\n\\n\\n*** start of this project gutenberg ebook the adventures of sherlock holmes ***\\n\\n\\n\\n\\nproduced by an anonymous project gutenberg volunteer and jose menendez\\n\\n\\n\\n\\n\\n\\n\\n\\n\\nthe adventures of sherlock holmes\\n\\nby\\n\\nsir arthur conan doyle\\n\\n\\n\\n   i. a scandal in bohemia\\n  ii. the red-headed league\\n iii. a case of identity\\n  iv. the boscombe valley mystery\\n   v. the five orange pips\\n  vi. the man with the twisted lip\\n vii. the adventure of the blue carbuncle\\nviii. the adventure of the speckled band\\n  ix. the adventure of the engineer's thumb\\n   x. the adventure of the noble bachelor\\n  xi. the adventure of the beryl coronet\\n xii. the adventure of the copper beeches\\n\\n\\n\\n\\nadventure i. a scandal in bohemia\\n\\ni.\\n\\nto sherlock holmes she is always the woman. i have seldom heard\\nhim mention her under any other name. in his eyes she eclipses\\nand predominates the whole of her sex. it was not that he felt\\nany emotion akin to love for irene adler. all emotions, and that\\none particularly, were abhorrent to his cold, precise but\\nadmirably balanced mind. he was, i take it, the most perfect\\nreasoning and observing machine that the world has seen, but as a\\nlover he would have placed himself in a false position. he never\\nspoke of the softer passions, save with a gibe and a sneer. they\\nwere admirable things for the observer--excellent for drawing the\\nveil from men's motives and actions. but for the trained reasoner\\nto admit such intrusions into his own delicate and finely\\nadjusted temperament was to introduce a dist\""
      ]
     },
     "execution_count": 14,
     "metadata": {},
     "output_type": "execute_result"
    }
   ],
   "source": [
    "### print out the first 1000 characters of the raw text to get a sense of what we need to throw out\n",
    "text[:2000]"
   ]
  },
  {
   "cell_type": "markdown",
   "metadata": {},
   "source": [
    "Wow - there's a lot of junk here (i.e., weird uncommon character combinations - as this first character chunk contains the title and author page, as well as table of contents)!  To keep things simple, we want to train our RNN on a large chunk of more typical English sentences - we don't want it to start thinking non-english words or strange characters are valid! - so lets clean up the data a bit.\n",
    "\n",
    "First, since the dataset is so large and the first few hundred characters contain a lot of junk, lets cut it out.  Lets also find-and-replace those newline tags with empty spaces."
   ]
  },
  {
   "cell_type": "code",
   "execution_count": 15,
   "metadata": {},
   "outputs": [],
   "source": [
    "### find and replace '\\n' and '\\r' symbols - replacing them \n",
    "text = text[1302:]\n",
    "text = text.replace('\\n',' ')    # replacing '\\n' with '' simply removes the sequence\n",
    "text = text.replace('\\r',' ')"
   ]
  },
  {
   "cell_type": "markdown",
   "metadata": {},
   "source": [
    "Lets see how the first 1000 characters of our text looks now!"
   ]
  },
  {
   "cell_type": "code",
   "execution_count": 16,
   "metadata": {},
   "outputs": [
    {
     "data": {
      "text/plain": [
       "\"is eyes she eclipses and predominates the whole of her sex. it was not that he felt any emotion akin to love for irene adler. all emotions, and that one particularly, were abhorrent to his cold, precise but admirably balanced mind. he was, i take it, the most perfect reasoning and observing machine that the world has seen, but as a lover he would have placed himself in a false position. he never spoke of the softer passions, save with a gibe and a sneer. they were admirable things for the observer--excellent for drawing the veil from men's motives and actions. but for the trained reasoner to admit such intrusions into his own delicate and finely adjusted temperament was to introduce a distracting factor which might throw a doubt upon all his mental results. grit in a sensitive instrument, or a crack in one of his own high-power lenses, would not be more disturbing than a strong emotion in a nature such as his. and yet there was but one woman to him, and that woman was the late irene ad\""
      ]
     },
     "execution_count": 16,
     "metadata": {},
     "output_type": "execute_result"
    }
   ],
   "source": [
    "### print out the first 1000 characters of the raw text to get a sense of what we need to throw out\n",
    "text[:1000]"
   ]
  },
  {
   "cell_type": "markdown",
   "metadata": {},
   "source": [
    "<a id='TODO_3'></a>\n",
    "\n",
    "#### TODO: finish cleaning the text\n",
    "\n",
    "Lets make sure we haven't left any other atypical characters (commas, periods, etc., are ok) lurking around in the depths of the text.  You can do this by enumerating all the text's unique characters, examining them, and then replacing any unwanted characters with empty spaces!  Once we find all of the text's unique characters, we can remove all of the atypical ones in the next cell.  Note: don't remove the punctuation marks given in my_answers.py."
   ]
  },
  {
   "cell_type": "code",
   "execution_count": 17,
   "metadata": {},
   "outputs": [],
   "source": [
    "### TODO: implement cleaned_text in my_answers.py\n",
    "from my_answers import cleaned_text\n",
    "\n",
    "text = cleaned_text(text)\n",
    "\n",
    "# shorten any extra dead space created above\n",
    "text = text.replace('  ',' ')"
   ]
  },
  {
   "cell_type": "markdown",
   "metadata": {},
   "source": [
    "With your chosen characters removed print out the first few hundred lines again just to double check that everything looks good."
   ]
  },
  {
   "cell_type": "code",
   "execution_count": 18,
   "metadata": {},
   "outputs": [
    {
     "data": {
      "text/plain": [
       "\"is eyes she eclipses and predominates the whole of her sex it was not that he felt any emotion akin to love for irene adler all emotions and that one particularly were abhorrent to his cold precise but admirably balanced mind he was i take it the most perfect reasoning and observing machine that the world has seen but as a lover he would have placed himself in a false position he never spoke of the softer passions save with a gibe and a sneer they were admirable things for the observer--excellent for drawing the veil from men's motives and actions but for the trained reasoner to admit such intrusions into his own delicate and finely adjusted temperament was to introduce a distracting factor which might throw a doubt upon all his mental results grit in a sensitive instrument or a crack in one of his own high-power lenses would not be more disturbing than a strong emotion in a nature such as his and yet there was but one woman to him and that woman was the late irene adler of dubious and questionable memory  i had seen little of holmes lately my marriage had drifted us away from each other my own complete happiness and the home-centred interests which rise up around the man who first finds himself master of his own establishment were sufficient to absorb all my attention while holmes who loathed every form of society with his whole bohemian soul remained in our lodgings in baker street buried among his old books and alternating from week to week between cocaine and ambition the drowsiness of the drug and the fierce energy of his own keen nature he was still as ever deeply attracted by the study of crime and occupied his immense faculties and extraordinary powers of observation in following out those clues and clearing up those mysteries which had been abandoned as hopeless by the official police from time to time i heard some vague account of his doings of his summons to odessa in the case of the trepoff murder of his clearing up of the singular tragedy of the atkinso\""
      ]
     },
     "execution_count": 18,
     "metadata": {},
     "output_type": "execute_result"
    }
   ],
   "source": [
    "### print out the first 2000 characters of the raw text to get a sense of what we need to throw out\n",
    "text[:2000]"
   ]
  },
  {
   "cell_type": "markdown",
   "metadata": {},
   "source": [
    "Now that we have thrown out a good number of non-English characters/character sequences lets print out some statistics about the dataset - including number of total characters and number of unique characters."
   ]
  },
  {
   "cell_type": "code",
   "execution_count": 19,
   "metadata": {},
   "outputs": [
    {
     "name": "stdout",
     "output_type": "stream",
     "text": [
      "this corpus has 565816 total number of characters\n",
      "this corpus has 52 unique characters\n"
     ]
    }
   ],
   "source": [
    "# count the number of unique characters in the text\n",
    "chars = sorted(list(set(text)))\n",
    "\n",
    "# print some of the text, as well as statistics\n",
    "print (\"this corpus has \" +  str(len(text)) + \" total number of characters\")\n",
    "print (\"this corpus has \" +  str(len(chars)) + \" unique characters\")"
   ]
  },
  {
   "cell_type": "markdown",
   "metadata": {},
   "source": [
    "## 2.3  Cutting data into input/output pairs\n",
    "\n",
    "Now that we have our text all cleaned up, how can we use it to train a model to generate sentences automatically?  First we need to train a machine learning model - and in order to do that we need a set of input/output pairs for a model to train on.  How can we create a set of input/output pairs from our text to train on?\n",
    "\n",
    "Remember in part 1 of this notebook how we used a sliding window to extract input/output pairs from a time series?  We do the same thing here!  We slide a window of length $T$ along our giant text corpus - everything in the window becomes one input while the character following becomes its corresponding output.  This process of extracting input/output pairs is illustrated in the gif below on a small example text using a window size of T = 5.\n",
    "\n",
    "<img src=\"images/text_windowing_training.gif\" width=400 height=400/>\n",
    "\n",
    "Notice one aspect of the sliding window in this gif that does not mirror the analogous gif for time series shown in part 1 of the notebook - we do not need to slide the window along one character at a time but can move by a fixed step size $M$ greater than 1 (in the gif indeed $M = 1$).  This is done with large input texts (like ours which has over 500,000 characters!) when sliding the window along one character at a time we would create far too many input/output pairs to be able to reasonably compute with.\n",
    "\n",
    "More formally lets denote our text corpus - which is one long string of characters - as follows\n",
    "\n",
    "$$s_{0},s_{1},s_{2},...,s_{P}$$\n",
    "\n",
    "where $P$ is the length of the text (again for our text $P \\approx 500,000!$).  Sliding a window of size T = 5 with a step length of M = 1 (these are the parameters shown in the gif above) over this sequence produces the following list of input/output pairs\n",
    "\n",
    "\n",
    "$$\\begin{array}{c|c}\n",
    "\\text{Input} & \\text{Output}\\\\\n",
    "\\hline \\color{CornflowerBlue} {\\langle s_{1},s_{2},s_{3},s_{4},s_{5}\\rangle} & \\color{Goldenrod}{ s_{6}} \\\\\n",
    "\\ \\color{CornflowerBlue} {\\langle s_{2},s_{3},s_{4},s_{5},s_{6} \\rangle } & \\color{Goldenrod} {s_{7} } \\\\\n",
    "\\color{CornflowerBlue}  {\\vdots} & \\color{Goldenrod} {\\vdots}\\\\\n",
    "\\color{CornflowerBlue} { \\langle s_{P-5},s_{P-4},s_{P-3},s_{P-2},s_{P-1} \\rangle } & \\color{Goldenrod} {s_{P}}\n",
    "\\end{array}$$\n",
    "\n",
    "Notice here that each input is a sequence (or vector) of 5 characters (and in general has length equal to the window size T) while each corresponding output is a single character.  We created around P total number of input/output pairs  (for general step size M we create around ceil(P/M) pairs)."
   ]
  },
  {
   "cell_type": "markdown",
   "metadata": {},
   "source": [
    "<a id='TODO_4'></a>\n",
    "\n",
    "Now its time for you to window the input time series as described above! \n",
    "\n",
    "**TODO:** Create a function that runs a sliding window along the input text and creates associated input/output pairs.  A skeleton function has been provided for you.  Note that this function should input a) the text  b) the window size and c) the step size, and return the input/output sequences.  Note: the return items should be *lists* - not numpy arrays.\n",
    "\n",
    "(remember to copy your completed function into the script *my_answers.py* function titled *window_transform_text* before submitting your project)"
   ]
  },
  {
   "cell_type": "code",
   "execution_count": 20,
   "metadata": {},
   "outputs": [],
   "source": [
    "### TODO: implement window_transform_series in my_answers.py\n",
    "from my_answers import window_transform_series"
   ]
  },
  {
   "cell_type": "markdown",
   "metadata": {},
   "source": [
    "With our function complete we can now use it to produce input/output pairs!  We employ the function in the next cell, where the window_size = 50 and step_size = 5."
   ]
  },
  {
   "cell_type": "code",
   "execution_count": 21,
   "metadata": {},
   "outputs": [],
   "source": [
    "# run your text window-ing function \n",
    "window_size = 100\n",
    "step_size = 5\n",
    "inputs, outputs = window_transform_text(text,window_size,step_size)"
   ]
  },
  {
   "cell_type": "markdown",
   "metadata": {},
   "source": [
    "Lets print out a few input/output pairs to verify that we have made the right sort of stuff!"
   ]
  },
  {
   "cell_type": "code",
   "execution_count": 22,
   "metadata": {},
   "outputs": [
    {
     "name": "stdout",
     "output_type": "stream",
     "text": [
      "input = e eclipses and predominates the whole of her sex it was not that he felt any emotion akin to love fo\n",
      "output = r\n",
      "--------------\n",
      "input = t for drawing the veil from men's motives and actions but for the trained reasoner to admit such int\n",
      "output = r\n"
     ]
    }
   ],
   "source": [
    "# print out a few of the input/output pairs to verify that we've made the right kind of stuff to learn from\n",
    "print('input = ' + inputs[2])\n",
    "print('output = ' + outputs[2])\n",
    "print('--------------')\n",
    "print('input = ' + inputs[100])\n",
    "print('output = ' + outputs[100])"
   ]
  },
  {
   "cell_type": "markdown",
   "metadata": {},
   "source": [
    "Looks good!"
   ]
  },
  {
   "cell_type": "markdown",
   "metadata": {},
   "source": [
    "## 2.4  Wait, what kind of problem is text generation again?\n",
    "\n",
    "In part 1 of this notebook we used the same pre-processing technique - the sliding window - to produce a set of training input/output pairs to tackle the problem of time series prediction *by treating the problem as one of regression*.  So what sort of problem do we have here now, with text generation?  Well, the time series prediction was a regression problem because the output (one value of the time series) was a continuous value.  Here - for character-by-character text generation - each output is a *single character*.  This isn't a continuous value - but a distinct class - therefore **character-by-character text generation is a classification problem**.  \n",
    "\n",
    "How many classes are there in the data?  Well, the number of classes is equal to the number of unique characters we have to predict!  How many of those were there in our dataset again?  Lets print out the value again."
   ]
  },
  {
   "cell_type": "code",
   "execution_count": 23,
   "metadata": {},
   "outputs": [
    {
     "name": "stdout",
     "output_type": "stream",
     "text": [
      "this corpus has 52 unique characters\n",
      "and these characters are \n",
      "[' ', '\"', '$', '%', '&', \"'\", '(', ')', '*', '-', '/', '0', '1', '2', '3', '4', '5', '6', '7', '8', '9', '@', 'a', 'b', 'c', 'd', 'e', 'f', 'g', 'h', 'i', 'j', 'k', 'l', 'm', 'n', 'o', 'p', 'q', 'r', 's', 't', 'u', 'v', 'w', 'x', 'y', 'z', 'à', 'â', 'è', 'é']\n"
     ]
    }
   ],
   "source": [
    "# print out the number of unique characters in the dataset\n",
    "chars = sorted(list(set(text)))\n",
    "print (\"this corpus has \" +  str(len(chars)) + \" unique characters\")\n",
    "print ('and these characters are ')\n",
    "print (chars)"
   ]
  },
  {
   "cell_type": "markdown",
   "metadata": {},
   "source": [
    "Rockin' - so we have a multiclass classification problem on our hands!"
   ]
  },
  {
   "cell_type": "markdown",
   "metadata": {},
   "source": [
    "## 2.5  One-hot encoding characters\n",
    "\n",
    "The last issue we have to deal with is representing our text data as numerical data so that we can use it as an input to a neural network. One of the conceptually simplest ways of doing this is via a 'one-hot encoding' scheme.  Here's how it works.\n",
    "\n",
    "We transform each character in our inputs/outputs into a vector with length equal to the number of unique characters in our text.  This vector is all zeros except one location where we place a 1 - and this location is unique to each character type.  e.g., we transform 'a', 'b', and 'c' as follows\n",
    "\n",
    "$$a\\longleftarrow\\left[\\begin{array}{c}\n",
    "1\\\\\n",
    "0\\\\\n",
    "0\\\\\n",
    "\\vdots\\\\\n",
    "0\\\\\n",
    "0\n",
    "\\end{array}\\right]\\,\\,\\,\\,\\,\\,\\,b\\longleftarrow\\left[\\begin{array}{c}\n",
    "0\\\\\n",
    "1\\\\\n",
    "0\\\\\n",
    "\\vdots\\\\\n",
    "0\\\\\n",
    "0\n",
    "\\end{array}\\right]\\,\\,\\,\\,\\,c\\longleftarrow\\left[\\begin{array}{c}\n",
    "0\\\\\n",
    "0\\\\\n",
    "1\\\\\n",
    "\\vdots\\\\\n",
    "0\\\\\n",
    "0 \n",
    "\\end{array}\\right]\\cdots$$\n",
    "\n",
    "where each vector has 32 entries (or in general: number of entries = number of unique characters in text)."
   ]
  },
  {
   "cell_type": "markdown",
   "metadata": {},
   "source": [
    "The first practical step towards doing this one-hot encoding is to form a dictionary mapping each unique character to a unique integer, and one dictionary to do the reverse mapping.  We can then use these dictionaries to quickly make our one-hot encodings, as well as re-translate (from integers to characters) the results of our trained RNN classification model."
   ]
  },
  {
   "cell_type": "code",
   "execution_count": 24,
   "metadata": {},
   "outputs": [],
   "source": [
    "# this dictionary is a function mapping each unique character to a unique integer\n",
    "chars_to_indices = dict((c, i) for i, c in enumerate(chars))  # map each unique character to unique integer\n",
    "\n",
    "# this dictionary is a function mapping each unique integer back to a unique character\n",
    "indices_to_chars = dict((i, c) for i, c in enumerate(chars))  # map each unique integer back to unique character"
   ]
  },
  {
   "cell_type": "markdown",
   "metadata": {},
   "source": [
    "Now we can transform our input/output pairs - consisting of characters - to equivalent input/output pairs made up of one-hot encoded vectors.  In the next cell we provide a function for doing just this: it takes in the raw character input/outputs and returns their numerical versions.  In particular the numerical input is given as $\\bf{X}$, and numerical output is given as the $\\bf{y}$"
   ]
  },
  {
   "cell_type": "code",
   "execution_count": 25,
   "metadata": {},
   "outputs": [],
   "source": [
    "# transform character-based input/output into equivalent numerical versions\n",
    "def encode_io_pairs(text,window_size,step_size):\n",
    "    # number of unique chars\n",
    "    chars = sorted(list(set(text)))\n",
    "    num_chars = len(chars)\n",
    "    \n",
    "    # cut up text into character input/output pairs\n",
    "    inputs, outputs = window_transform_text(text,window_size,step_size)\n",
    "    \n",
    "    # create empty vessels for one-hot encoded input/output\n",
    "    X = np.zeros((len(inputs), window_size, num_chars), dtype=np.bool)\n",
    "    y = np.zeros((len(inputs), num_chars), dtype=np.bool)\n",
    "    \n",
    "    # loop over inputs/outputs and transform and store in X/y\n",
    "    for i, sentence in enumerate(inputs):\n",
    "        for t, char in enumerate(sentence):\n",
    "            X[i, t, chars_to_indices[char]] = 1\n",
    "        y[i, chars_to_indices[outputs[i]]] = 1\n",
    "        \n",
    "    return X,y"
   ]
  },
  {
   "cell_type": "markdown",
   "metadata": {},
   "source": [
    "Now run the one-hot encoding function by activating the cell below and transform our input/output pairs!"
   ]
  },
  {
   "cell_type": "code",
   "execution_count": 26,
   "metadata": {},
   "outputs": [],
   "source": [
    "# use your function\n",
    "window_size = 100\n",
    "step_size = 5\n",
    "X,y = encode_io_pairs(text,window_size,step_size)"
   ]
  },
  {
   "cell_type": "markdown",
   "metadata": {},
   "source": [
    "<a id='TODO_5'></a>\n",
    "\n",
    "## 2.6 Setting up our RNN\n",
    "\n",
    "With our dataset loaded and the input/output pairs extracted / transformed we can now begin setting up our RNN for training.  Again we will use Keras to quickly build a single hidden layer RNN - where our hidden layer consists of LSTM modules.\n",
    "\n",
    "Time to get to work: build a 3 layer RNN model of the following specification\n",
    "\n",
    "- layer 1 should be an LSTM module with 200 hidden units --> note this should have input_shape = (window_size,len(chars)) where len(chars) = number of unique characters in your cleaned text\n",
    "- layer 2 should be a linear module, fully connected, with len(chars) hidden units --> where len(chars) = number of unique characters in your cleaned text\n",
    "- layer 3 should be a softmax activation ( since we are solving a *multiclass classification*)\n",
    "- Use the **categorical_crossentropy** loss \n",
    "\n",
    "This network can be constructed using just a few lines - as with the RNN network you made in part 1 of this notebook.  See e.g., the [general Keras documentation](https://keras.io/getting-started/sequential-model-guide/) and the [LSTM documentation in particular](https://keras.io/layers/recurrent/) for examples of how to quickly use Keras to build neural network models."
   ]
  },
  {
   "cell_type": "code",
   "execution_count": 27,
   "metadata": {},
   "outputs": [],
   "source": [
    "### necessary functions from the keras library\n",
    "from keras.models import Sequential\n",
    "from keras.layers import Dense, Activation, LSTM\n",
    "from keras.optimizers import RMSprop\n",
    "from keras.utils.data_utils import get_file\n",
    "import keras\n",
    "import random\n",
    "\n",
    "# TODO implement build_part2_RNN in my_answers.py\n",
    "from my_answers import build_part2_RNN\n",
    "\n",
    "model = build_part2_RNN(window_size, len(chars))\n",
    "\n",
    "# initialize optimizer\n",
    "optimizer = keras.optimizers.RMSprop(lr=0.001, rho=0.9, epsilon=1e-08, decay=0.0)\n",
    "\n",
    "# compile model --> make sure initialized optimizer and callbacks - as defined above - are used\n",
    "model.compile(loss='categorical_crossentropy', optimizer=optimizer)"
   ]
  },
  {
   "cell_type": "markdown",
   "metadata": {},
   "source": [
    "## 2.7  Training our RNN model for text generation\n",
    "\n",
    "With our RNN setup we can now train it!  Lets begin by trying it out on a small subset of the larger version.  In the next cell we take the first 10,000 input/output pairs from our training database to learn on."
   ]
  },
  {
   "cell_type": "code",
   "execution_count": 28,
   "metadata": {},
   "outputs": [],
   "source": [
    "# a small subset of our input/output pairs\n",
    "Xsmall = X[:10000,:,:]\n",
    "ysmall = y[:10000,:]"
   ]
  },
  {
   "cell_type": "markdown",
   "metadata": {},
   "source": [
    "Now lets fit our model!"
   ]
  },
  {
   "cell_type": "code",
   "execution_count": 29,
   "metadata": {
    "scrolled": true
   },
   "outputs": [
    {
     "name": "stdout",
     "output_type": "stream",
     "text": [
      "Epoch 1/40\n",
      "10000/10000 [==============================] - 20s 2ms/step - loss: 3.1207\n",
      "Epoch 2/40\n",
      "10000/10000 [==============================] - 19s 2ms/step - loss: 2.8845\n",
      "Epoch 3/40\n",
      "10000/10000 [==============================] - 18s 2ms/step - loss: 2.8574\n",
      "Epoch 4/40\n",
      "10000/10000 [==============================] - 18s 2ms/step - loss: 2.8301\n",
      "Epoch 5/40\n",
      "10000/10000 [==============================] - 18s 2ms/step - loss: 2.7842\n",
      "Epoch 6/40\n",
      "10000/10000 [==============================] - 18s 2ms/step - loss: 2.7303\n",
      "Epoch 7/40\n",
      "10000/10000 [==============================] - 18s 2ms/step - loss: 2.6716\n",
      "Epoch 8/40\n",
      "10000/10000 [==============================] - 18s 2ms/step - loss: 2.6121\n",
      "Epoch 9/40\n",
      "10000/10000 [==============================] - 18s 2ms/step - loss: 2.5613\n",
      "Epoch 10/40\n",
      "10000/10000 [==============================] - 19s 2ms/step - loss: 2.5171\n",
      "Epoch 11/40\n",
      "10000/10000 [==============================] - 18s 2ms/step - loss: 2.4742\n",
      "Epoch 12/40\n",
      "10000/10000 [==============================] - 16s 2ms/step - loss: 2.4399\n",
      "Epoch 13/40\n",
      "10000/10000 [==============================] - 19s 2ms/step - loss: 2.4030\n",
      "Epoch 14/40\n",
      "10000/10000 [==============================] - 18s 2ms/step - loss: 2.3812\n",
      "Epoch 15/40\n",
      "10000/10000 [==============================] - 18s 2ms/step - loss: 2.3474\n",
      "Epoch 16/40\n",
      "10000/10000 [==============================] - 19s 2ms/step - loss: 2.3258\n",
      "Epoch 17/40\n",
      "10000/10000 [==============================] - 19s 2ms/step - loss: 2.3030\n",
      "Epoch 18/40\n",
      "10000/10000 [==============================] - 17s 2ms/step - loss: 2.2841\n",
      "Epoch 19/40\n",
      "10000/10000 [==============================] - 17s 2ms/step - loss: 2.2641\n",
      "Epoch 20/40\n",
      "10000/10000 [==============================] - 17s 2ms/step - loss: 2.2425\n",
      "Epoch 21/40\n",
      "10000/10000 [==============================] - 17s 2ms/step - loss: 2.2285\n",
      "Epoch 22/40\n",
      "10000/10000 [==============================] - 16s 2ms/step - loss: 2.2066\n",
      "Epoch 23/40\n",
      "10000/10000 [==============================] - 19s 2ms/step - loss: 2.1911\n",
      "Epoch 24/40\n",
      "10000/10000 [==============================] - 19s 2ms/step - loss: 2.1729\n",
      "Epoch 25/40\n",
      "10000/10000 [==============================] - 19s 2ms/step - loss: 2.1569\n",
      "Epoch 26/40\n",
      "10000/10000 [==============================] - 19s 2ms/step - loss: 2.1451\n",
      "Epoch 27/40\n",
      "10000/10000 [==============================] - 19s 2ms/step - loss: 2.1217\n",
      "Epoch 28/40\n",
      "10000/10000 [==============================] - 19s 2ms/step - loss: 2.1095\n",
      "Epoch 29/40\n",
      "10000/10000 [==============================] - 20s 2ms/step - loss: 2.0961\n",
      "Epoch 30/40\n",
      "10000/10000 [==============================] - 17s 2ms/step - loss: 2.0813\n",
      "Epoch 31/40\n",
      "10000/10000 [==============================] - 20s 2ms/step - loss: 2.0654\n",
      "Epoch 32/40\n",
      "10000/10000 [==============================] - 20s 2ms/step - loss: 2.0522\n",
      "Epoch 33/40\n",
      "10000/10000 [==============================] - 19s 2ms/step - loss: 2.0378\n",
      "Epoch 34/40\n",
      "10000/10000 [==============================] - 19s 2ms/step - loss: 2.0235\n",
      "Epoch 35/40\n",
      "10000/10000 [==============================] - 17s 2ms/step - loss: 2.0121\n",
      "Epoch 36/40\n",
      "10000/10000 [==============================] - 18s 2ms/step - loss: 1.9975\n",
      "Epoch 37/40\n",
      "10000/10000 [==============================] - 16s 2ms/step - loss: 1.9793\n",
      "Epoch 38/40\n",
      "10000/10000 [==============================] - 16s 2ms/step - loss: 1.9691\n",
      "Epoch 39/40\n",
      "10000/10000 [==============================] - 16s 2ms/step - loss: 1.9501\n",
      "Epoch 40/40\n",
      "10000/10000 [==============================] - 17s 2ms/step - loss: 1.9411\n"
     ]
    }
   ],
   "source": [
    "# train the model\n",
    "model.fit(Xsmall, ysmall, batch_size=500, epochs=40,verbose = 1)\n",
    "\n",
    "# save weights\n",
    "model.save_weights('model_weights/best_RNN_small_textdata_weights.hdf5')"
   ]
  },
  {
   "cell_type": "markdown",
   "metadata": {},
   "source": [
    "How do we make a given number of predictions (characters) based on this fitted model?   \n",
    "\n",
    "First we predict the next character after following any chunk of characters in the text of length equal to our chosen window size.  Then we remove the first character in our input sequence and tack our prediction onto the end.  This gives us a slightly changed sequence of inputs that still has length equal to the size of our window.  We then feed in this updated input sequence into the model to predict the another character.  Together then we have two predicted characters following our original input sequence.  Repeating this process N times gives us N predicted characters.\n",
    "\n",
    "In the next Python cell we provide you with a completed function that does just this - it makes predictions when given a) a trained RNN model, b) a subset of (window_size) characters from the text, and c) a number of characters to predict (to follow our input subset)."
   ]
  },
  {
   "cell_type": "code",
   "execution_count": 30,
   "metadata": {},
   "outputs": [],
   "source": [
    "# function that uses trained model to predict a desired number of future characters\n",
    "def predict_next_chars(model,input_chars,num_to_predict):     \n",
    "    # create output\n",
    "    predicted_chars = ''\n",
    "    for i in range(num_to_predict):\n",
    "        # convert this round's predicted characters to numerical input    \n",
    "        x_test = np.zeros((1, window_size, len(chars)))\n",
    "        for t, char in enumerate(input_chars):\n",
    "            x_test[0, t, chars_to_indices[char]] = 1.\n",
    "\n",
    "        # make this round's prediction\n",
    "        test_predict = model.predict(x_test,verbose = 0)[0]\n",
    "\n",
    "        # translate numerical prediction back to characters\n",
    "        r = np.argmax(test_predict)                           # predict class of each test input\n",
    "        d = indices_to_chars[r] \n",
    "\n",
    "        # update predicted_chars and input\n",
    "        predicted_chars+=d\n",
    "        input_chars+=d\n",
    "        input_chars = input_chars[1:]\n",
    "    return predicted_chars"
   ]
  },
  {
   "cell_type": "markdown",
   "metadata": {},
   "source": [
    "<a id='TODO_6'></a>\n",
    "\n",
    "With your trained model try a few subsets of the complete text as input - note the length of each must be exactly equal to the window size.  For each subset use the function above to predict the next 100 characters that follow each input."
   ]
  },
  {
   "cell_type": "code",
   "execution_count": 31,
   "metadata": {
    "scrolled": true
   },
   "outputs": [
    {
     "name": "stdout",
     "output_type": "stream",
     "text": [
      "------------------\n",
      "input chars = \n",
      "is eyes she eclipses and predominates the whole of her sex it was not that he felt any emotion akin \"\n",
      "\n",
      "predicted chars = \n",
      "the sout the sout the sout the sout the sout the sout the sout the sout the sout the sout the sout t\"\n",
      "\n",
      "------------------\n",
      "input chars = \n",
      "s  a man entered who could hardly have been less than six feet six inches in height with the chest a\"\n",
      "\n",
      "predicted chars = \n",
      "nd the sher whin the sout the sout the sout the sout the sout the sout the sout the sout the sout th\"\n",
      "\n",
      "------------------\n",
      "input chars = \n",
      "ockets he stretched out his legs in front of the fire and laughed heartily for some minutes  \"well r\"\n",
      "\n",
      "predicted chars = \n",
      "eand be the pont in the sout the sout the sout the sout the sout the sout the sout the sout the sout\"\n",
      "\n",
      "------------------\n",
      "input chars = \n",
      "that holmes changed his costume his expression his manner his very soul seemed to vary with every fr\"\n",
      "\n",
      "predicted chars = \n",
      "ome in the she sound and and and and and and and and and and and and and and and and and and and and\"\n",
      "\n",
      "------------------\n",
      "input chars = \n",
      "ut she could not love him \" \"i am in hopes that she does \" \"and why in hopes \" \"because it would spa\"\n",
      "\n",
      "predicted chars = \n",
      "nd and and and and and and and and and and and and and and and and and and and and and and and and a\"\n",
      "\n",
      "------------------\n",
      "input chars = \n",
      " larger than your left you have worked with it and the muscles are more developed \" \"well the snuff \"\n",
      "\n",
      "predicted chars = \n",
      "the pont the sout the sout the sout the sout the sout the sout the sout the sout the sout the sout t\"\n",
      "\n",
      "------------------\n",
      "input chars = \n",
      "y wigs and once by paint i could tell you tales of cobbler's wax which would disgust you with human \"\n",
      "\n",
      "predicted chars = \n",
      "the sout the sout the sout the sout the sout the sout the sout the sout the sout the sout the sout t\"\n",
      "\n",
      "------------------\n",
      "input chars = \n",
      "monplace face is the most difficult to identify but i must be prompt over this matter \" \"what are yo\"\n",
      "\n",
      "predicted chars = \n",
      "u the pont in the sout the sout the sout the sout the sout the sout the sout the sout the sout the s\"\n",
      "\n",
      "------------------\n",
      "input chars = \n",
      " in cornwall the next i've been on his track for years and have never set eyes on him yet \" \"i hope \"\n",
      "\n",
      "predicted chars = \n",
      "the the sout the sout the sout the sout the sout the sout the sout the sout the sout the sout the so\"\n",
      "\n",
      "------------------\n",
      "input chars = \n",
      "him and what was it to them who were playing for thousands they put in the advertisement one rogue h\"\n",
      "\n",
      "predicted chars = \n",
      "ad the sher and and and and and and and and and and and and and and and and and and and and and and \"\n",
      "\n",
      "------------------\n",
      "input chars = \n",
      " the machine and i would give it all to know what has become of mr hosmer angel \" \"why did you come \"\n",
      "\n",
      "predicted chars = \n",
      "the sout the sout the sout the sout the sout the sout the sout the sout the sout the sout the sout t\"\n",
      "\n",
      "------------------\n",
      "input chars = \n",
      "ot write oh it drives me half-mad to think of it and i can't sleep a wink at night \" she pulled a li\"\n",
      "\n",
      "predicted chars = \n",
      "ng the sout the sout the sout the sout the sout the sout the sout the sout the sout the sout the sou\"\n",
      "\n",
      "------------------\n",
      "input chars = \n",
      " slight bow sidled down into the nearest chair  \"good-evening mr james windibank \" said holmes \"i th\"\n",
      "\n",
      "predicted chars = \n",
      "e come the sout the sout the sout the sout the sout the sout the sout the sout the sout the sout the\"\n",
      "\n",
      "------------------\n",
      "input chars = \n",
      "danger also for whoso snatches a delusion from a woman ' there is as much sense in hafiz as in horac\"\n",
      "\n",
      "predicted chars = \n",
      "e and the pand the she sound and and and and and and and and and and and and and and and and and and\"\n",
      "\n",
      "------------------\n",
      "input chars = \n",
      "of the coroner's jury \" \"it was a confession \" i ejaculated  \"no for it was followed by a protestati\"\n",
      "\n",
      "predicted chars = \n",
      " the sowe the sout the sout the sout the sout the sout the sout the sout the sout the sout the sout \"\n",
      "\n",
      "------------------\n",
      "input chars = \n",
      "e read the evidence you have formed some conclusion do you not see some loophole some flaw do you no\"\n",
      "\n",
      "predicted chars = \n",
      "un the sout the sout the sout the sout the sout the sout the sout the sout the sout the sout the sou\"\n",
      "\n",
      "------------------\n",
      "input chars = \n",
      "ve grasped one fact which you seem to find it difficult to get hold of \" replied lestrade with some \"\n",
      "\n",
      "predicted chars = \n",
      "tout the sout the sout the sout the sout the sout the sout the sout the sout the sout the sout the s\"\n",
      "\n",
      "------------------\n",
      "input chars = \n",
      "ty of the criminal \" \"but how did you gain them \" \"you know my method it is founded upon the observa\"\n",
      "\n",
      "predicted chars = \n",
      "n the sout the sout the sout the sout the sout the sout the sout the sout the sout the sout the sout\"\n",
      "\n",
      "------------------\n",
      "input chars = \n",
      "and submitted to the defending counsel old turner lived for seven months after our interview but he \"\n",
      "\n",
      "predicted chars = \n",
      "was dout the sout the sout the sout the sout the sout the sout the sout the sout the sout the sout t\"\n",
      "\n",
      "------------------\n",
      "input chars = \n",
      "ld rusty key which must have belonged to the attic in one hand and a small brass box like a cashbox \"\n",
      "\n",
      "predicted chars = \n",
      "and the sher whin the sout the sout the sout the sout the sout the sout the sout the sout the sout t\"\n",
      "\n",
      "------------------\n",
      "input chars = \n",
      "ed the papers i observed that the small unburned margins which lay amid the ashes were of this parti\"\n",
      "\n",
      "predicted chars = \n",
      "ng the sout the sout the sout the sout the sout the sout the sout the sout the sout the sout the sou\"\n",
      "\n",
      "------------------\n",
      "input chars = \n",
      "on seeds or orange pips in others on receiving this the victim might either openly abjure his former\"\n",
      "\n",
      "predicted chars = \n",
      " and and and and and and and and and and and and and and and and and and and and and and and and and\"\n",
      "\n",
      "------------------\n",
      "input chars = \n",
      "lady clad in some dark-coloured stuff with a black veil entered the room  \"you will excuse my callin\"\n",
      "\n",
      "predicted chars = \n",
      "g and and and and and and and and and and and and and and and and and and and and and and and and an\"\n",
      "\n",
      "------------------\n",
      "input chars = \n",
      "t need you here's half a crown look out for me to-morrow about eleven give her her head so long then\"\n",
      "\n",
      "predicted chars = \n",
      " the sher dound and and and and and and and and and and and and and and and and and and and and and \"\n",
      "\n",
      "------------------\n",
      "input chars = \n",
      "s her presence could be of no help to them in their investigations inspector barton who had charge o\"\n",
      "\n",
      "predicted chars = \n",
      "f the pand the sher whan the sout the sout the sout the sout the sout the sout the sout the sout the\"\n",
      "\n",
      "------------------\n",
      "input chars = \n",
      " a sympathy between us that i should know if evil came upon him on the very day that i saw him last \"\n",
      "\n",
      "predicted chars = \n",
      "and and and and and and and and and and and and and and and and and and and and and and and and and \"\n",
      "\n",
      "------------------\n",
      "input chars = \n",
      "ve them ashamed of their father my god what an exposure what can i do \" sherlock holmes sat down bes\"\n",
      "\n",
      "predicted chars = \n",
      " and the sher whin the sout the sout the sout the sout the sout the sout the sout the sout the sout \"\n",
      "\n",
      "------------------\n",
      "input chars = \n",
      "ranger from his assailants but the man shocked at having broken the window and seeing an official-lo\"\n",
      "\n",
      "predicted chars = \n",
      "f the pared and the sout the sout the sout the sout the sout the sout the sout the sout the sout the\"\n",
      "\n",
      "------------------\n",
      "input chars = \n",
      "ad remained with horner some little time but had finally been called away on returning he found that\"\n",
      "\n",
      "predicted chars = \n",
      " the sher dound and and and and and and and and and and and and and and and and and and and and and \"\n",
      "\n",
      "------------------\n",
      "input chars = \n",
      "on't know him well here's your good health landlord and prosperity to your house good-night \" \"now f\"\n",
      "\n",
      "predicted chars = \n",
      "rot the sout the sout the sout the sout the sout the sout the sout the sout the sout the sout the so\"\n",
      "\n",
      "------------------\n",
      "input chars = \n",
      "ds and all the proofs which i could possibly need so there is little which you need tell me still th\"\n",
      "\n",
      "predicted chars = \n",
      "e sher whan the sout the sout the sout the sout the sout the sout the sout the sout the sout the sou\"\n",
      "\n",
      "------------------\n",
      "input chars = \n",
      "\" i had no keener pleasure than in following holmes in his professional investigations and in admiri\"\n",
      "\n",
      "predicted chars = \n",
      "se and and and and and and and and and and and and and and and and and and and and and and and and a\"\n",
      "\n"
     ]
    },
    {
     "name": "stdout",
     "output_type": "stream",
     "text": [
      "------------------\n",
      "input chars = \n",
      "ne where she sat for some time chatting about her approaching wedding at eleven o'clock she rose to \"\n",
      "\n",
      "predicted chars = \n",
      "the sout the sout the sout the sout the sout the sout the sout the sout the sout the sout the sout t\"\n",
      "\n",
      "------------------\n",
      "input chars = \n",
      "denly dashed open and that a huge man had framed himself in the aperture his costume was a peculiar \"\n",
      "\n",
      "predicted chars = \n",
      "and and and and and and and and and and and and and and and and and and and and and and and and and \"\n",
      "\n",
      "------------------\n",
      "input chars = \n",
      "last pointing to a thick bell-rope which hung down beside the bed the tassel actually lying upon the\"\n",
      "\n",
      "predicted chars = \n",
      " sher whal dound and and and and and and and and and and and and and and and and and and and and and\"\n",
      "\n",
      "------------------\n",
      "input chars = \n",
      "ke a vice upon my wrist in his agitation then he broke into a low laugh and put his lips to my ear  \"\n",
      "\n",
      "predicted chars = \n",
      "has doun the sout the sout the sout the sout the sout the sout the sout the sout the sout the sout t\"\n",
      "\n",
      "------------------\n",
      "input chars = \n",
      "has i believe been told more than once in the newspapers but like all such narratives its effect is \"\n",
      "\n",
      "predicted chars = \n",
      "and the sout the sout the sout the sout the sout the sout the sout the sout the sout the sout the so\"\n",
      "\n",
      "------------------\n",
      "input chars = \n",
      "\"i bowed feeling as flattered as any young man would at such an address 'may i ask who it was who ga\"\n",
      "\n",
      "predicted chars = \n",
      "t the sout the sout the sout the sout the sout the sout the sout the sout the sout the sout the sout\"\n",
      "\n",
      "------------------\n",
      "input chars = \n",
      " shone upon her dark dress i knew that it was a rich material she spoke a few words in a foreign ton\"\n",
      "\n",
      "predicted chars = \n",
      " the sist and the sout the sout the sout the sout the sout the sout the sout the sout the sout the s\"\n",
      "\n",
      "------------------\n",
      "input chars = \n",
      "ard for an instant i could hardly believe that here was indeed a door which led away from death the \"\n",
      "\n",
      "predicted chars = \n",
      "sher dound and and and and and and and and and and and and and and and and and and and and and and a\"\n",
      "\n",
      "------------------\n",
      "input chars = \n",
      "ill and there was a great widespread whitewashed building in front of us spouting fire at every chin\"\n",
      "\n",
      "predicted chars = \n",
      "g the sher dound and and and and and and and and and and and and and and and and and and and and and\"\n",
      "\n",
      "------------------\n",
      "input chars = \n",
      " \" asked holmes yawning  \"oh yes plenty then there is another note in the morning post to say that t\"\n",
      "\n",
      "predicted chars = \n",
      "he sher whal d and and and and and and and and and and and and and and and and and and and and and a\"\n",
      "\n",
      "------------------\n",
      "input chars = \n",
      "he pew handed it up to her again and it did not appear to be the worse for the fall yet when i spoke\"\n",
      "\n",
      "predicted chars = \n",
      " to the sout the sout the sout the sout the sout the sout the sout the sout the sout the sout the so\"\n",
      "\n",
      "------------------\n",
      "input chars = \n",
      " important all the same as to the note it is important also or at least the initials are so i congra\"\n",
      "\n",
      "predicted chars = \n",
      "nd was and and and and and and and and and and and and and and and and and and and and and and and a\"\n",
      "\n",
      "------------------\n",
      "input chars = \n",
      "y somewhere where no one could find them it is likely that we should have gone on to paris to-morrow\"\n",
      "\n",
      "predicted chars = \n",
      "h what he sound and and and and and and and and and and and and and and and and and and and and and \"\n",
      "\n",
      "------------------\n",
      "input chars = \n",
      "l with another effort he braced himself to tell his story  \"i feel that time is of value \" said he \"\"\n",
      "\n",
      "predicted chars = \n",
      " \" \" \" \" \" \" \" \" \" \" \" \" \" \" \" \" \" \" \" \" \" \" \" \" \" \" \" \" \" \" \" \" \" \" \" \" \" \" \" \" \" \" \" \" \" \" \" \" \" \"\"\n",
      "\n",
      "------------------\n",
      "input chars = \n",
      "ittle of what he said he followed me to my room however that night with a very grave face  \"'look he\"\n",
      "\n",
      "predicted chars = \n",
      " was dout the sout the sout the sout the sout the sout the sout the sout the sout the sout the sout \"\n",
      "\n",
      "------------------\n",
      "input chars = \n",
      " whole way out to the southern suburb but sat with his chin upon his breast and his hat drawn over h\"\n",
      "\n",
      "predicted chars = \n",
      "as dound and and and and and and and and and and and and and and and and and and and and and and and\"\n",
      "\n",
      "------------------\n",
      "input chars = \n",
      "\"i only looked in as i passed \" said he \"i am going right on \" \"where to \" \"oh to the other side of \"\n",
      "\n",
      "predicted chars = \n",
      "the pand the she sound and and and and and and and and and and and and and and and and and and and a\"\n",
      "\n",
      "------------------\n",
      "input chars = \n",
      "heart of whom you had already spoken to me and inquiry showed it was so i passed round the garden wi\"\n",
      "\n",
      "predicted chars = \n",
      "th a dould and and and and and and and and and and and and and and and and and and and and and and a\"\n",
      "\n",
      "------------------\n",
      "input chars = \n",
      "if i do not inconvenience you yours faithfully                         \"violet hunter \" \"do you know\"\n",
      "\n",
      "predicted chars = \n",
      " the sould and and and and and and and and and and and and and and and and and and and and and and a\"\n",
      "\n",
      "------------------\n",
      "input chars = \n",
      "t however that before taking the final step i should like to submit the whole matter to your conside\"\n",
      "\n",
      "predicted chars = \n",
      " and the sist and the sout the sout the sout the sout the sout the sout the sout the sout the sout t\"\n",
      "\n",
      "------------------\n",
      "input chars = \n",
      " easy to see that she was passionately devoted both to her husband and to her little son her light g\"\n",
      "\n",
      "predicted chars = \n",
      "ot the sout the sout the sout the sout the sout the sout the sout the sout the sout the sout the sou\"\n",
      "\n",
      "------------------\n",
      "input chars = \n",
      "d and a look on his face which made him a very different person to the round jovial man to whom i wa\"\n",
      "\n",
      "predicted chars = \n",
      "s dout the sout the sout the sout the sout the sout the sout the sout the sout the sout the sout the\"\n",
      "\n",
      "------------------\n",
      "input chars = \n",
      "ed holmes  a loud thudding noise came from somewhere downstairs \"that is mrs toller in the cellar \" \"\n",
      "\n",
      "predicted chars = \n",
      "\"and and the sout the sout the sout the sout the sout the sout the sout the sout the sout the sout t\"\n",
      "\n",
      "------------------\n",
      "input chars = \n",
      " entity to whom you paid the fee as set forth in paragraph 1 e 8  1 b  \"project gutenberg\" is a regi\"\n",
      "\n",
      "predicted chars = \n",
      "t the sout the sout the sout the sout the sout the sout the sout the sout the sout the sout the sout\"\n",
      "\n",
      "------------------\n",
      "input chars = \n",
      "r limitation of certain types of damages if any disclaimer or limitation set forth in this agreement\"\n",
      "\n",
      "predicted chars = \n",
      " and and and and and and and and and and and and and and and and and and and and and and and and and\"\n",
      "\n"
     ]
    }
   ],
   "source": [
    "# TODO: choose an input sequence and use the prediction function in the previous Python cell to predict 100 characters following it\n",
    "# get an appropriately sized chunk of characters from the text\n",
    "start_inds = range(0, len(text), 10000)\n",
    "\n",
    "# load in weights\n",
    "model.load_weights('model_weights/best_RNN_small_textdata_weights.hdf5')\n",
    "for s in start_inds:\n",
    "    start_index = s\n",
    "    input_chars = text[start_index: start_index + window_size]\n",
    "\n",
    "    # use the prediction function\n",
    "    predict_input = predict_next_chars(model,input_chars,num_to_predict = 100)\n",
    "\n",
    "    # print out input characters\n",
    "    print('------------------')\n",
    "    input_line = 'input chars = ' + '\\n' +  input_chars + '\"' + '\\n'\n",
    "    print(input_line)\n",
    "\n",
    "    # print out predicted characters\n",
    "    line = 'predicted chars = ' + '\\n' +  predict_input + '\"' + '\\n'\n",
    "    print(line)"
   ]
  },
  {
   "cell_type": "markdown",
   "metadata": {},
   "source": [
    "This looks ok, but not great.  Now lets try the same experiment with a larger chunk of the data - with the first 100,000 input/output pairs.  \n",
    "\n",
    "Tuning RNNs for a typical character dataset like the one we will use here is a computationally intensive endeavour and thus timely on a typical CPU.  Using a reasonably sized cloud-based GPU can speed up training by a factor of 10.  Also because of the long training time it is highly recommended that you carefully write the output of each step of your process to file.  This is so that all of your results are saved even if you close the web browser you're working out of, as the processes will continue processing in the background but variables/output in the notebook system will not update when you open it again.\n",
    "\n",
    "In the next cell we show you how to create a text file in Python and record data to it.  This sort of setup can be used to record your final predictions."
   ]
  },
  {
   "cell_type": "code",
   "execution_count": 32,
   "metadata": {},
   "outputs": [
    {
     "data": {
      "text/plain": [
       "'this is only a test \\nthe value of x is 2\\n'"
      ]
     },
     "execution_count": 32,
     "metadata": {},
     "output_type": "execute_result"
    }
   ],
   "source": [
    "### A simple way to write output to file\n",
    "f = open('my_test_output.txt', 'w')              # create an output file to write too\n",
    "f.write('this is only a test ' + '\\n')           # print some output text\n",
    "x = 2\n",
    "f.write('the value of x is ' + str(x) + '\\n')    # record a variable value\n",
    "f.close()     \n",
    "\n",
    "# print out the contents of my_test_output.txt\n",
    "f = open('my_test_output.txt', 'r')              # create an output file to write too\n",
    "f.read()"
   ]
  },
  {
   "cell_type": "markdown",
   "metadata": {},
   "source": [
    "With this recording devices we can now more safely perform experiments on larger portions of the text.  In the next cell we will use the first 100,000 input/output pairs to train our RNN model."
   ]
  },
  {
   "cell_type": "markdown",
   "metadata": {},
   "source": [
    "First we fit our model to the dataset, then generate text using the trained model in precisely the same generation method applied before on the small dataset.\n",
    "\n",
    "**Note:** your generated words should be - by and large - more realistic than with the small dataset, but you won't be able to generate perfect English sentences even with this amount of data.  A rule of thumb: your model is working well if you generate sentences that largely contain real English words."
   ]
  },
  {
   "cell_type": "code",
   "execution_count": 33,
   "metadata": {
    "scrolled": true
   },
   "outputs": [
    {
     "name": "stdout",
     "output_type": "stream",
     "text": [
      "Epoch 1/30\n",
      "100000/100000 [==============================] - 174s 2ms/step - loss: 2.0453\n",
      "Epoch 2/30\n",
      "100000/100000 [==============================] - 170s 2ms/step - loss: 1.9661\n",
      "Epoch 3/30\n",
      "100000/100000 [==============================] - 181s 2ms/step - loss: 1.9072\n",
      "Epoch 4/30\n",
      "100000/100000 [==============================] - 193s 2ms/step - loss: 1.8571\n",
      "Epoch 5/30\n",
      "100000/100000 [==============================] - 193s 2ms/step - loss: 1.8129\n",
      "Epoch 6/30\n",
      "100000/100000 [==============================] - 199s 2ms/step - loss: 1.7734\n",
      "Epoch 7/30\n",
      "100000/100000 [==============================] - 175s 2ms/step - loss: 1.7371\n",
      "Epoch 8/30\n",
      "100000/100000 [==============================] - 165s 2ms/step - loss: 1.7035\n",
      "Epoch 9/30\n",
      "100000/100000 [==============================] - 186s 2ms/step - loss: 1.6728\n",
      "Epoch 10/30\n",
      "100000/100000 [==============================] - 170s 2ms/step - loss: 1.6439\n",
      "Epoch 11/30\n",
      "100000/100000 [==============================] - 174s 2ms/step - loss: 1.6161\n",
      "Epoch 12/30\n",
      "100000/100000 [==============================] - 175s 2ms/step - loss: 1.5886\n",
      "Epoch 13/30\n",
      "100000/100000 [==============================] - 174s 2ms/step - loss: 1.5644\n",
      "Epoch 14/30\n",
      "100000/100000 [==============================] - 170s 2ms/step - loss: 1.5392\n",
      "Epoch 15/30\n",
      "100000/100000 [==============================] - 166s 2ms/step - loss: 1.5150\n",
      "Epoch 16/30\n",
      "100000/100000 [==============================] - 158s 2ms/step - loss: 1.4918\n",
      "Epoch 17/30\n",
      "100000/100000 [==============================] - 165s 2ms/step - loss: 1.4681\n",
      "Epoch 18/30\n",
      "100000/100000 [==============================] - 164s 2ms/step - loss: 1.4449\n",
      "Epoch 19/30\n",
      "100000/100000 [==============================] - 178s 2ms/step - loss: 1.4228\n",
      "Epoch 20/30\n",
      "100000/100000 [==============================] - 172s 2ms/step - loss: 1.4007\n",
      "Epoch 21/30\n",
      "100000/100000 [==============================] - 161s 2ms/step - loss: 1.3776\n",
      "Epoch 22/30\n",
      "100000/100000 [==============================] - 164s 2ms/step - loss: 1.3558\n",
      "Epoch 23/30\n",
      "100000/100000 [==============================] - 164s 2ms/step - loss: 1.3344\n",
      "Epoch 24/30\n",
      "100000/100000 [==============================] - 176s 2ms/step - loss: 1.3129\n",
      "Epoch 25/30\n",
      "100000/100000 [==============================] - 200s 2ms/step - loss: 1.2913\n",
      "Epoch 26/30\n",
      "100000/100000 [==============================] - 181s 2ms/step - loss: 1.2696\n",
      "Epoch 27/30\n",
      "100000/100000 [==============================] - 194s 2ms/step - loss: 1.2487\n",
      "Epoch 28/30\n",
      "100000/100000 [==============================] - 164s 2ms/step - loss: 1.2262\n",
      "Epoch 29/30\n",
      "100000/100000 [==============================] - 177s 2ms/step - loss: 1.2068\n",
      "Epoch 30/30\n",
      "100000/100000 [==============================] - 170s 2ms/step - loss: 1.1838\n"
     ]
    }
   ],
   "source": [
    "# a small subset of our input/output pairs\n",
    "Xlarge = X[:100000,:,:]\n",
    "ylarge = y[:100000,:]\n",
    "\n",
    "# TODO: fit to our larger dataset\n",
    "model.fit(Xlarge, ylarge, batch_size=500, epochs=30, verbose=1)\n",
    "\n",
    "# save weights\n",
    "model.save_weights('model_weights/best_RNN_large_textdata_weights.hdf5')"
   ]
  },
  {
   "cell_type": "code",
   "execution_count": 36,
   "metadata": {},
   "outputs": [
    {
     "name": "stdout",
     "output_type": "stream",
     "text": [
      "-------------------\n",
      "\n",
      "input chars = \n",
      "is eyes she eclipses and predominates the whole of her sex it was not that he felt any emotion akin \"\n",
      "\n",
      "predicted chars = \n",
      "the enceed upon at his eye when the care was no longured and the fire of the bed and she cooken alon\"\n",
      "\n",
      "-------------------\n",
      "\n",
      "input chars = \n",
      "s  a man entered who could hardly have been less than six feet six inches in height with the chest a\"\n",
      "\n",
      "predicted chars = \n",
      "nd the street which can he was a smoll was in one of the self---moloor which i had den ampleary comp\"\n",
      "\n",
      "-------------------\n",
      "\n",
      "input chars = \n",
      "ockets he stretched out his legs in front of the fire and laughed heartily for some minutes  \"well r\"\n",
      "\n",
      "predicted chars = \n",
      "e absert do no \" \"there is a remar commany \" \"yes \" \"and you will for you street to you surper that \"\n",
      "\n",
      "-------------------\n",
      "\n",
      "input chars = \n",
      "that holmes changed his costume his expression his manner his very soul seemed to vary with every fr\"\n",
      "\n",
      "predicted chars = \n",
      "om the rest he stoke him as i am alown the distartere of the secent which i had to meath the latter \"\n",
      "\n",
      "-------------------\n",
      "\n",
      "input chars = \n",
      "ut she could not love him \" \"i am in hopes that she does \" \"and why in hopes \" \"because it would spa\"\n",
      "\n",
      "predicted chars = \n",
      "rd it is it is a mird the fire of the morning \" \"i as arready \"but it she lay and the fires \" \"i and\"\n",
      "\n",
      "-------------------\n",
      "\n",
      "input chars = \n",
      " larger than your left you have worked with it and the muscles are more developed \" \"well the snuff \"\n",
      "\n",
      "predicted chars = \n",
      "the morth \" \"i see me to see my door and i have no doubt you that is is a rindly and i am a realy \" \"\n",
      "\n",
      "-------------------\n",
      "\n",
      "input chars = \n",
      "y wigs and once by paint i could tell you tales of cobbler's wax which would disgust you with human \"\n",
      "\n",
      "predicted chars = \n",
      "the street \" \"i as a remarked my end it was the bed and the street \" \"i shall not into the side of t\"\n",
      "\n",
      "-------------------\n",
      "\n",
      "input chars = \n",
      "monplace face is the most difficult to identify but i must be prompt over this matter \" \"what are yo\"\n",
      "\n",
      "predicted chars = \n",
      "u give me to see she come of the morning \" \"i am arread \" \"you was and you some without of the side \"\n",
      "\n",
      "-------------------\n",
      "\n",
      "input chars = \n",
      " in cornwall the next i've been on his track for years and have never set eyes on him yet \" \"i hope \"\n",
      "\n",
      "predicted chars = \n",
      "to you that it is well the trough the man in she may have been seen the stanger of the secent which \"\n",
      "\n",
      "-------------------\n",
      "\n",
      "input chars = \n",
      "him and what was it to them who were playing for thousands they put in the advertisement one rogue h\"\n",
      "\n",
      "predicted chars = \n",
      "e had been do starding up i should be a poor court of the morning and the excect of the window here \"\n",
      "\n",
      "-------------------\n",
      "\n",
      "input chars = \n",
      " the machine and i would give it all to know what has become of mr hosmer angel \" \"why did you come \"\n",
      "\n",
      "predicted chars = \n",
      "it is it is a mird the fire of the matter \" \"it is a prich to me to you surpers as the litter of the\"\n",
      "\n",
      "-------------------\n",
      "\n",
      "input chars = \n",
      "ot write oh it drives me half-mad to think of it and i can't sleep a wink at night \" she pulled a li\"\n",
      "\n",
      "predicted chars = \n",
      "ttle in the lid for her leated where i can of do be the most came i was see it is well the come i wa\"\n",
      "\n",
      "-------------------\n",
      "\n",
      "input chars = \n",
      " slight bow sidled down into the nearest chair  \"good-evening mr james windibank \" said holmes \"i th\"\n",
      "\n",
      "predicted chars = \n",
      "ink that i had the remeres \" \"out the finest the street \" \"i as arready \"there is a sprack and the s\"\n",
      "\n",
      "-------------------\n",
      "\n",
      "input chars = \n",
      "danger also for whoso snatches a delusion from a woman ' there is as much sense in hafiz as in horac\"\n",
      "\n",
      "predicted chars = \n",
      "e you \" \"and i have to deary my friend \" \"it was a rimbly that i have been to the man in she was in \"\n",
      "\n",
      "-------------------\n",
      "\n",
      "input chars = \n",
      "of the coroner's jury \" \"it was a confession \" i ejaculated  \"no for it was followed by a protestati\"\n",
      "\n",
      "predicted chars = \n",
      "on of the seather \" \"then i have to meany it would be no sen out of the self--the then \" \"and you di\"\n",
      "\n",
      "-------------------\n",
      "\n",
      "input chars = \n",
      "e read the evidence you have formed some conclusion do you not see some loophole some flaw do you no\"\n",
      "\n",
      "predicted chars = \n",
      "w that you have not into the without of the morning which i had the pase fer the street \" \"i do not \"\n",
      "\n",
      "-------------------\n",
      "\n",
      "input chars = \n",
      "ve grasped one fact which you seem to find it difficult to get hold of \" replied lestrade with some \"\n",
      "\n",
      "predicted chars = \n",
      "new the little of the secent which i have to me to me the come i was the bed a monet to me that i ha\"\n",
      "\n",
      "-------------------\n",
      "\n",
      "input chars = \n",
      "ty of the criminal \" \"but how did you gain them \" \"you know my method it is founded upon the observa\"\n",
      "\n",
      "predicted chars = \n",
      "tion of the case we was at the matter and with the see which he is absome to and the street of the c\"\n",
      "\n",
      "-------------------\n",
      "\n",
      "input chars = \n",
      "and submitted to the defending counsel old turner lived for seven months after our interview but he \"\n",
      "\n",
      "predicted chars = \n",
      "is to be an and the matter and without hear but the senter of the secent which i have been seen to c\"\n",
      "\n",
      "-------------------\n",
      "\n",
      "input chars = \n",
      "ld rusty key which must have belonged to the attic in one hand and a small brass box like a cashbox \"\n",
      "\n",
      "predicted chars = \n",
      "with a should spore he had been do wo door have been so and you are a mondor's from the matter \" \"it\"\n",
      "\n",
      "-------------------\n",
      "\n",
      "input chars = \n",
      "ed the papers i observed that the small unburned margins which lay amid the ashes were of this parti\"\n",
      "\n",
      "predicted chars = \n",
      "one which i have been seen to compontly and in the distarter \" \"it is all this letter \" \"it is all t\"\n",
      "\n",
      "-------------------\n",
      "\n",
      "input chars = \n",
      "on seeds or orange pips in others on receiving this the victim might either openly abjure his former\"\n",
      "\n",
      "predicted chars = \n",
      " and the firet \" \"in you dread \" \"and you did you all the poot may \" \"no no she but of me i should n\"\n",
      "\n",
      "-------------------\n",
      "\n",
      "input chars = \n",
      "lady clad in some dark-coloured stuff with a black veil entered the room  \"you will excuse my callin\"\n",
      "\n",
      "predicted chars = \n",
      "g of me with a strock and sell which i have to deary my four the senting \" \"i as a remarkace and the\"\n",
      "\n",
      "-------------------\n",
      "\n",
      "input chars = \n",
      "t need you here's half a crown look out for me to-morrow about eleven give her her head so long then\"\n",
      "\n",
      "predicted chars = \n",
      " i was a commoning a very good and that it was glome i was seen the door which i had the day and i d\"\n",
      "\n",
      "-------------------\n",
      "\n",
      "input chars = \n",
      "s her presence could be of no help to them in their investigations inspector barton who had charge o\"\n",
      "\n",
      "predicted chars = \n",
      "f the matter and without her but he houses and the fire of the bed the door which he was at a man co\"\n",
      "\n",
      "-------------------\n",
      "\n",
      "input chars = \n",
      " a sympathy between us that i should know if evil came upon him on the very day that i saw him last \"\n",
      "\n",
      "predicted chars = \n",
      "her been so was it was not in the morning and the corter of the window here who would at the lid the\"\n",
      "\n",
      "-------------------\n",
      "\n",
      "input chars = \n",
      "ve them ashamed of their father my god what an exposure what can i do \" sherlock holmes sat down bes\"\n",
      "\n",
      "predicted chars = \n",
      "ide the sight of the corour ther we was the bear to me when you have been a remoned the street \" \"i \"\n",
      "\n",
      "-------------------\n",
      "\n",
      "input chars = \n",
      "ranger from his assailants but the man shocked at having broken the window and seeing an official-lo\"\n",
      "\n",
      "predicted chars = \n",
      "ok and the corour ther we was the come i was the fire of the case of the man in she was i was seen t\"\n",
      "\n",
      "-------------------\n",
      "\n",
      "input chars = \n",
      "ad remained with horner some little time but had finally been called away on returning he found that\"\n",
      "\n",
      "predicted chars = \n",
      " he had been the was a said for the restracte for the pressen whore the case i was to me the there w\"\n",
      "\n",
      "-------------------\n",
      "\n",
      "input chars = \n",
      "on't know him well here's your good health landlord and prosperity to your house good-night \" \"now f\"\n",
      "\n",
      "predicted chars = \n",
      "or you she was it is i was a rimbly that i have been there is that i have to me to do the matter of \"\n",
      "\n",
      "-------------------\n",
      "\n",
      "input chars = \n",
      "ds and all the proofs which i could possibly need so there is little which you need tell me still th\"\n",
      "\n",
      "predicted chars = \n",
      "at i have do not there is a remains \" \"i am all the proves \" \"in the matter \" \"it is a propiced some\"\n",
      "\n",
      "-------------------\n",
      "\n",
      "input chars = \n",
      "\" i had no keener pleasure than in following holmes in his professional investigations and in admiri\"\n",
      "\n",
      "predicted chars = \n",
      "ng a man of the matter and the street of the stones which i have been a little to me the trought of \"\n",
      "\n"
     ]
    },
    {
     "name": "stdout",
     "output_type": "stream",
     "text": [
      "-------------------\n",
      "\n",
      "input chars = \n",
      "ne where she sat for some time chatting about her approaching wedding at eleven o'clock she rose to \"\n",
      "\n",
      "predicted chars = \n",
      "the matter of the secent which i have been seen to compontion of his cast a deppace and the fire of \"\n",
      "\n",
      "-------------------\n",
      "\n",
      "input chars = \n",
      "denly dashed open and that a huge man had framed himself in the aperture his costume was a peculiar \"\n",
      "\n",
      "predicted chars = \n",
      "of my companion in his case of the matter and without here as i am to the matter of the self---mole \"\n",
      "\n",
      "-------------------\n",
      "\n",
      "input chars = \n",
      "last pointing to a thick bell-rope which hung down beside the bed the tassel actually lying upon the\"\n",
      "\n",
      "predicted chars = \n",
      " seement who was as see it is all this interest the sunders whore he was a smoll and we was the fame\"\n",
      "\n",
      "-------------------\n",
      "\n",
      "input chars = \n",
      "ke a vice upon my wrist in his agitation then he broke into a low laugh and put his lips to my ear  \"\n",
      "\n",
      "predicted chars = \n",
      "\"what is may fet in the street \" \"i should not me to stony state my wits a said a startion \" \"i am a\"\n",
      "\n",
      "-------------------\n",
      "\n",
      "input chars = \n",
      "has i believe been told more than once in the newspapers but like all such narratives its effect is \"\n",
      "\n",
      "predicted chars = \n",
      "and the distarter the secter of the street \" \"i should not into the some \" \"i doon that is a rimple \"\n",
      "\n",
      "-------------------\n",
      "\n",
      "input chars = \n",
      "\"i bowed feeling as flattered as any young man would at such an address 'may i ask who it was who ga\"\n",
      "\n",
      "predicted chars = \n",
      "ve the same is well we shall not be a salfer and the fire of the care was she was as so me to the ma\"\n",
      "\n",
      "-------------------\n",
      "\n",
      "input chars = \n",
      " shone upon her dark dress i knew that it was a rich material she spoke a few words in a foreign ton\"\n",
      "\n",
      "predicted chars = \n",
      "e as a little prop and the firet \" \"it is a sittle me to see you to the matter \" \"it is a propiculy \"\n",
      "\n",
      "-------------------\n",
      "\n",
      "input chars = \n",
      "ard for an instant i could hardly believe that here was indeed a door which led away from death the \"\n",
      "\n",
      "predicted chars = \n",
      "man in she smore had not here and the count of the man in she smore had not her every with the coust\"\n",
      "\n",
      "-------------------\n",
      "\n",
      "input chars = \n",
      "ill and there was a great widespread whitewashed building in front of us spouting fire at every chin\"\n",
      "\n",
      "predicted chars = \n",
      "g and the sines which was have have a see of the window  \"i should be a salfer that it was the bed a\"\n",
      "\n",
      "-------------------\n",
      "\n",
      "input chars = \n",
      " \" asked holmes yawning  \"oh yes plenty then there is another note in the morning post to say that t\"\n",
      "\n",
      "predicted chars = \n",
      "he drees was not ther we was the bear to me when i can he may for the present \" \"it is a sittle mest\"\n",
      "\n",
      "-------------------\n",
      "\n",
      "input chars = \n",
      "he pew handed it up to her again and it did not appear to be the worse for the fall yet when i spoke\"\n",
      "\n",
      "predicted chars = \n",
      " to be the trough the man in she matter of the secent which i have been seen to company that i shoul\"\n",
      "\n",
      "-------------------\n",
      "\n",
      "input chars = \n",
      " important all the same as to the note it is important also or at least the initials are so i congra\"\n",
      "\n",
      "predicted chars = \n",
      "tiont to you she was it is a prop cousts of the most came i was seemed to me the bed at the light of\"\n",
      "\n",
      "-------------------\n",
      "\n",
      "input chars = \n",
      "y somewhere where no one could find them it is likely that we should have gone on to paris to-morrow\"\n",
      "\n",
      "predicted chars = \n",
      " the trought of the sed the gaid of a morather was and the coneress and he was a side of the window \"\n",
      "\n",
      "-------------------\n",
      "\n",
      "input chars = \n",
      "l with another effort he braced himself to tell his story  \"i feel that time is of value \" said he \"\"\n",
      "\n",
      "predicted chars = \n",
      "it is not i can \" \"that is well the led a very son in one of the morning \" \"i am arread \" \"you was a\"\n",
      "\n",
      "-------------------\n",
      "\n",
      "input chars = \n",
      "ittle of what he said he followed me to my room however that night with a very grave face  \"'look he\"\n",
      "\n",
      "predicted chars = \n",
      "ar that you will for have no doubt you that i have been an once it is that i was and you give me to \"\n",
      "\n",
      "-------------------\n",
      "\n",
      "input chars = \n",
      " whole way out to the southern suburb but sat with his chin upon his breast and his hat drawn over h\"\n",
      "\n",
      "predicted chars = \n",
      "is by the case when he was a compleyin for in the matter and with the conered was so net in the matt\"\n",
      "\n",
      "-------------------\n",
      "\n",
      "input chars = \n",
      "\"i only looked in as i passed \" said he \"i am going right on \" \"where to \" \"oh to the other side of \"\n",
      "\n",
      "predicted chars = \n",
      "the morning \" \"i am arread \" \"you was and you think that i have been an allowe to you so i found the\"\n",
      "\n",
      "-------------------\n",
      "\n",
      "input chars = \n",
      "heart of whom you had already spoken to me and inquiry showed it was so i passed round the garden wi\"\n",
      "\n",
      "predicted chars = \n",
      "th the conered was so near the from the two street had not deen sure that the drees which i have bee\"\n",
      "\n",
      "-------------------\n",
      "\n",
      "input chars = \n",
      "if i do not inconvenience you yours faithfully                         \"violet hunter \" \"do you know\"\n",
      "\n",
      "predicted chars = \n",
      " you have no doubt you that is it is very murning of the most company \" \"you all the litter of the s\"\n",
      "\n",
      "-------------------\n",
      "\n",
      "input chars = \n",
      "t however that before taking the final step i should like to submit the whole matter to your conside\"\n",
      "\n",
      "predicted chars = \n",
      "rally and it was the fame to a man of the morning of a moranger and the ore of the self---mole of he\"\n",
      "\n",
      "-------------------\n",
      "\n",
      "input chars = \n",
      " easy to see that she was passionately devoted both to her husband and to her little son her light g\"\n",
      "\n",
      "predicted chars = \n",
      "ave and as in the door which he is absalfer and there we cassed the come of the matter and with the \"\n",
      "\n",
      "-------------------\n",
      "\n",
      "input chars = \n",
      "d and a look on his face which made him a very different person to the round jovial man to whom i wa\"\n",
      "\n",
      "predicted chars = \n",
      "s the bed a beggee of the most came the dier when he was a compley and i do not that it is well the \"\n",
      "\n",
      "-------------------\n",
      "\n",
      "input chars = \n",
      "ed holmes  a loud thudding noise came from somewhere downstairs \"that is mrs toller in the cellar \" \"\n",
      "\n",
      "predicted chars = \n",
      "\"and the lid then \" \"and you dear compleer wood--\" \"then i should not me to stenting in the could \" \"\n",
      "\n",
      "-------------------\n",
      "\n",
      "input chars = \n",
      " entity to whom you paid the fee as set forth in paragraph 1 e 8  1 b  \"project gutenberg\" is a regi\"\n",
      "\n",
      "predicted chars = \n",
      "vely \" \"and you drear \"that i should not be a saguented some and it is it is not conturt you then th\"\n",
      "\n",
      "-------------------\n",
      "\n",
      "input chars = \n",
      "r limitation of certain types of damages if any disclaimer or limitation set forth in this agreement\"\n",
      "\n",
      "predicted chars = \n",
      " who had been surded his sone of the matter and without hear but the senter which he is absome to al\"\n",
      "\n"
     ]
    }
   ],
   "source": [
    "# TODO: choose an input sequence and use the prediction function in the previous Python cell to predict 100 characters following it\n",
    "# get an appropriately sized chunk of characters from the text\n",
    "start_inds = list(range(0, len(text), 10000))\n",
    "\n",
    "# save output\n",
    "f = open('text_gen_output/RNN_large_textdata_output.txt', 'w')  # create an output file to write too\n",
    "\n",
    "# load weights\n",
    "model.load_weights('model_weights/best_RNN_large_textdata_weights.hdf5')\n",
    "for s in start_inds:\n",
    "    start_index = s\n",
    "    input_chars = text[start_index: start_index + window_size]\n",
    "\n",
    "    # use the prediction function\n",
    "    predict_input = predict_next_chars(model,input_chars,num_to_predict = 100)\n",
    "\n",
    "    # print out input characters\n",
    "    line = '-------------------' + '\\n'\n",
    "    print(line)\n",
    "    f.write(line)\n",
    "\n",
    "    input_line = 'input chars = ' + '\\n' +  input_chars + '\"' + '\\n'\n",
    "    print(input_line)\n",
    "    f.write(input_line)\n",
    "\n",
    "    # print out predicted characters\n",
    "    predict_line = 'predicted chars = ' + '\\n' +  predict_input + '\"' + '\\n'\n",
    "    print(predict_line)\n",
    "    f.write(predict_line)\n",
    "f.close()"
   ]
  }
 ],
 "metadata": {
  "anaconda-cloud": {},
  "kernelspec": {
   "display_name": "Python 3",
   "language": "python",
   "name": "python3"
  },
  "language_info": {
   "codemirror_mode": {
    "name": "ipython",
    "version": 3
   },
   "file_extension": ".py",
   "mimetype": "text/x-python",
   "name": "python",
   "nbconvert_exporter": "python",
   "pygments_lexer": "ipython3",
   "version": "3.6.4"
  }
 },
 "nbformat": 4,
 "nbformat_minor": 1
}
