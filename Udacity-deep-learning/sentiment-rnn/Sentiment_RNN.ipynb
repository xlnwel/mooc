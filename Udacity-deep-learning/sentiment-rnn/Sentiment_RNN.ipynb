{
  "nbformat": 4,
  "nbformat_minor": 0,
  "metadata": {
    "colab": {
      "name": "Sentiment_RNN.ipynb",
      "version": "0.3.2",
      "provenance": []
    },
    "kernelspec": {
      "display_name": "Python 3",
      "language": "python",
      "name": "python3"
    },
    "accelerator": "GPU"
  },
  "cells": [
    {
      "metadata": {
        "id": "ekRskkMiw7kE",
        "colab_type": "text"
      },
      "cell_type": "markdown",
      "source": [
        "# Sentiment Analysis with an RNN\n",
        "\n",
        "In this notebook, you'll implement a recurrent neural network that performs sentiment analysis. Using an RNN rather than a feedfoward network is more accurate since we can include information about the *sequence* of words. Here we'll use a dataset of movie reviews, accompanied by labels.\n",
        "\n",
        "The architecture for this network is shown below.\n",
        "\n",
        "<img src=\"https://github.com/xlnwel/deep-learning/blob/master/sentiment-rnn/assets/network_diagram.png?raw=1\" width=400px>\n",
        "\n",
        "Here, we'll pass in words to an embedding layer. We need an embedding layer because we have tens of thousands of words, so we'll need a more efficient representation for our input data than one-hot encoded vectors. You should have seen this before from the word2vec lesson. You can actually train up an embedding with word2vec and use it here. But it's good enough to just have an embedding layer and let the network learn the embedding table on it's own.\n",
        "\n",
        "From the embedding layer, the new representations will be passed to LSTM cells. These will add recurrent connections to the network so we can include information about the sequence of words in the data. Finally, the LSTM cells will go to a sigmoid output layer here. We're using the sigmoid because we're trying to predict if this text has positive or negative sentiment. The output layer will just be a single unit then, with a sigmoid activation function.\n",
        "\n",
        "We don't care about the sigmoid outputs except for the very last one, we can ignore the rest. We'll calculate the cost from the output of the last step and the training label."
      ]
    },
    {
      "metadata": {
        "id": "lU05CEvow7kG",
        "colab_type": "code",
        "colab": {}
      },
      "cell_type": "code",
      "source": [
        "import numpy as np\n",
        "import tensorflow as tf"
      ],
      "execution_count": 0,
      "outputs": []
    },
    {
      "metadata": {
        "id": "ZFnraiQKw7kL",
        "colab_type": "code",
        "colab": {
          "base_uri": "https://localhost:8080/",
          "height": 153
        },
        "outputId": "743c91ee-92bd-420f-9d78-9828500417c5"
      },
      "cell_type": "code",
      "source": [
        "!git clone https://github.com/xlnwel/deep-learning.git\n",
        "%cd deep-learning/sentiment-rnn\n",
        "with open('../sentiment-network/reviews.txt', 'r') as f:\n",
        "    reviews = f.read()\n",
        "with open('../sentiment-network/labels.txt', 'r') as f:\n",
        "    labels = f.read()"
      ],
      "execution_count": 30,
      "outputs": [
        {
          "output_type": "stream",
          "text": [
            "Cloning into 'deep-learning'...\n",
            "remote: Counting objects: 1518, done.\u001b[K\n",
            "remote: Compressing objects: 100% (51/51), done.\u001b[K\n",
            "remote: Total 1518 (delta 15), reused 13 (delta 5), pack-reused 1462\u001b[K\n",
            "Receiving objects: 100% (1518/1518), 80.88 MiB | 37.47 MiB/s, done.\n",
            "Resolving deltas: 100% (633/633), done.\n",
            "/content/deep-learning/sentiment-rnn/deep-learning/sentiment-rnn\n"
          ],
          "name": "stdout"
        }
      ]
    },
    {
      "metadata": {
        "id": "QAXogua1w7kO",
        "colab_type": "code",
        "colab": {
          "base_uri": "https://localhost:8080/",
          "height": 91
        },
        "outputId": "9c424a02-5f33-4c61-f303-7d94e2262944"
      },
      "cell_type": "code",
      "source": [
        "reviews[:2000]"
      ],
      "execution_count": 31,
      "outputs": [
        {
          "output_type": "execute_result",
          "data": {
            "text/plain": [
              "'bromwell high is a cartoon comedy . it ran at the same time as some other programs about school life  such as  teachers  . my   years in the teaching profession lead me to believe that bromwell high  s satire is much closer to reality than is  teachers  . the scramble to survive financially  the insightful students who can see right through their pathetic teachers  pomp  the pettiness of the whole situation  all remind me of the schools i knew and their students . when i saw the episode in which a student repeatedly tried to burn down the school  i immediately recalled . . . . . . . . . at . . . . . . . . . . high . a classic line inspector i  m here to sack one of your teachers . student welcome to bromwell high . i expect that many adults of my age think that bromwell high is far fetched . what a pity that it isn  t   \\nstory of a man who has unnatural feelings for a pig . starts out with a opening scene that is a terrific example of absurd comedy . a formal orchestra audience is turned into an insane  violent mob by the crazy chantings of it  s singers . unfortunately it stays absurd the whole time with no general narrative eventually making it just too off putting . even those from the era should be turned off . the cryptic dialogue would make shakespeare seem easy to a third grader . on a technical level it  s better than you might think with some good cinematography by future great vilmos zsigmond . future stars sally kirkland and frederic forrest can be seen briefly .  \\nhomelessness  or houselessness as george carlin stated  has been an issue for years but never a plan to help those on the street that were once considered human who did everything from going to school  work  or vote for the matter . most people think of the homeless as just a lost cause while worrying about things such as racism  the war on iraq  pressuring kids to succeed  technology  the elections  inflation  or worrying if they  ll be next to end up on the streets .  br    br   but what if y'"
            ]
          },
          "metadata": {
            "tags": []
          },
          "execution_count": 31
        }
      ]
    },
    {
      "metadata": {
        "id": "Q9jtfXO7w7kU",
        "colab_type": "text"
      },
      "cell_type": "markdown",
      "source": [
        "## Data preprocessing\n",
        "\n",
        "The first step when building a neural network model is getting your data into the proper form to feed into the network. Since we're using embedding layers, we'll need to encode each word with an integer. We'll also want to clean it up a bit.\n",
        "\n",
        "You can see an example of the reviews data above. We'll want to get rid of those periods. Also, you might notice that the reviews are delimited with newlines `\\n`. To deal with those, I'm going to split the text into each review using `\\n` as the delimiter. Then I can combined all the reviews back together into one big string.\n",
        "\n",
        "First, let's remove all punctuation. Then get all the text without the newlines and split it into individual words."
      ]
    },
    {
      "metadata": {
        "id": "o0qHVBGAw7kV",
        "colab_type": "code",
        "colab": {}
      },
      "cell_type": "code",
      "source": [
        "from string import punctuation\n",
        "all_text = ''.join([c for c in reviews if c not in punctuation])\n",
        "reviews = all_text.split('\\n')\n",
        "\n",
        "all_text = ' '.join(reviews)\n",
        "words = all_text.split()"
      ],
      "execution_count": 0,
      "outputs": []
    },
    {
      "metadata": {
        "id": "WXQPZr_lw7ke",
        "colab_type": "code",
        "colab": {
          "base_uri": "https://localhost:8080/",
          "height": 91
        },
        "outputId": "9af94aaa-3834-4bde-a7bf-a352fa5e0753"
      },
      "cell_type": "code",
      "source": [
        "all_text[:2000]"
      ],
      "execution_count": 33,
      "outputs": [
        {
          "output_type": "execute_result",
          "data": {
            "text/plain": [
              "'bromwell high is a cartoon comedy  it ran at the same time as some other programs about school life  such as  teachers   my   years in the teaching profession lead me to believe that bromwell high  s satire is much closer to reality than is  teachers   the scramble to survive financially  the insightful students who can see right through their pathetic teachers  pomp  the pettiness of the whole situation  all remind me of the schools i knew and their students  when i saw the episode in which a student repeatedly tried to burn down the school  i immediately recalled          at           high  a classic line inspector i  m here to sack one of your teachers  student welcome to bromwell high  i expect that many adults of my age think that bromwell high is far fetched  what a pity that it isn  t    story of a man who has unnatural feelings for a pig  starts out with a opening scene that is a terrific example of absurd comedy  a formal orchestra audience is turned into an insane  violent mob by the crazy chantings of it  s singers  unfortunately it stays absurd the whole time with no general narrative eventually making it just too off putting  even those from the era should be turned off  the cryptic dialogue would make shakespeare seem easy to a third grader  on a technical level it  s better than you might think with some good cinematography by future great vilmos zsigmond  future stars sally kirkland and frederic forrest can be seen briefly    homelessness  or houselessness as george carlin stated  has been an issue for years but never a plan to help those on the street that were once considered human who did everything from going to school  work  or vote for the matter  most people think of the homeless as just a lost cause while worrying about things such as racism  the war on iraq  pressuring kids to succeed  technology  the elections  inflation  or worrying if they  ll be next to end up on the streets   br    br   but what if you were given a bet to live on the st'"
            ]
          },
          "metadata": {
            "tags": []
          },
          "execution_count": 33
        }
      ]
    },
    {
      "metadata": {
        "id": "v-qx0Bhew7kj",
        "colab_type": "code",
        "colab": {
          "base_uri": "https://localhost:8080/",
          "height": 1734
        },
        "outputId": "e0693ca9-542c-4735-aa9c-4931c4ef4de4"
      },
      "cell_type": "code",
      "source": [
        "words[:100]"
      ],
      "execution_count": 34,
      "outputs": [
        {
          "output_type": "execute_result",
          "data": {
            "text/plain": [
              "['bromwell',\n",
              " 'high',\n",
              " 'is',\n",
              " 'a',\n",
              " 'cartoon',\n",
              " 'comedy',\n",
              " 'it',\n",
              " 'ran',\n",
              " 'at',\n",
              " 'the',\n",
              " 'same',\n",
              " 'time',\n",
              " 'as',\n",
              " 'some',\n",
              " 'other',\n",
              " 'programs',\n",
              " 'about',\n",
              " 'school',\n",
              " 'life',\n",
              " 'such',\n",
              " 'as',\n",
              " 'teachers',\n",
              " 'my',\n",
              " 'years',\n",
              " 'in',\n",
              " 'the',\n",
              " 'teaching',\n",
              " 'profession',\n",
              " 'lead',\n",
              " 'me',\n",
              " 'to',\n",
              " 'believe',\n",
              " 'that',\n",
              " 'bromwell',\n",
              " 'high',\n",
              " 's',\n",
              " 'satire',\n",
              " 'is',\n",
              " 'much',\n",
              " 'closer',\n",
              " 'to',\n",
              " 'reality',\n",
              " 'than',\n",
              " 'is',\n",
              " 'teachers',\n",
              " 'the',\n",
              " 'scramble',\n",
              " 'to',\n",
              " 'survive',\n",
              " 'financially',\n",
              " 'the',\n",
              " 'insightful',\n",
              " 'students',\n",
              " 'who',\n",
              " 'can',\n",
              " 'see',\n",
              " 'right',\n",
              " 'through',\n",
              " 'their',\n",
              " 'pathetic',\n",
              " 'teachers',\n",
              " 'pomp',\n",
              " 'the',\n",
              " 'pettiness',\n",
              " 'of',\n",
              " 'the',\n",
              " 'whole',\n",
              " 'situation',\n",
              " 'all',\n",
              " 'remind',\n",
              " 'me',\n",
              " 'of',\n",
              " 'the',\n",
              " 'schools',\n",
              " 'i',\n",
              " 'knew',\n",
              " 'and',\n",
              " 'their',\n",
              " 'students',\n",
              " 'when',\n",
              " 'i',\n",
              " 'saw',\n",
              " 'the',\n",
              " 'episode',\n",
              " 'in',\n",
              " 'which',\n",
              " 'a',\n",
              " 'student',\n",
              " 'repeatedly',\n",
              " 'tried',\n",
              " 'to',\n",
              " 'burn',\n",
              " 'down',\n",
              " 'the',\n",
              " 'school',\n",
              " 'i',\n",
              " 'immediately',\n",
              " 'recalled',\n",
              " 'at',\n",
              " 'high']"
            ]
          },
          "metadata": {
            "tags": []
          },
          "execution_count": 34
        }
      ]
    },
    {
      "metadata": {
        "id": "x6wkT0_Ew7kq",
        "colab_type": "text"
      },
      "cell_type": "markdown",
      "source": [
        "### Encoding the words\n",
        "\n",
        "The embedding lookup requires that we pass in integers to our network. The easiest way to do this is to create dictionaries that map the words in the vocabulary to integers. Then we can convert each of our reviews into integers so they can be passed into the network.\n",
        "\n",
        "> **Exercise:** Now you're going to encode the words with integers. Build a dictionary that maps words to integers. Later we're going to pad our input vectors with zeros, so make sure the integers **start at 1, not 0**.\n",
        "> Also, convert the reviews to integers and store the reviews in a new list called `reviews_ints`. "
      ]
    },
    {
      "metadata": {
        "id": "HPeNPGy1w7kr",
        "colab_type": "code",
        "colab": {}
      },
      "cell_type": "code",
      "source": [
        "# Create your dictionary that maps vocab words to integers here\n",
        "from collections import Counter\n",
        "count = Counter(words)\n",
        "vocab_to_int = {w: i for i, w in enumerate(sorted(count, key=count.get, reverse=True))}\n",
        "\n",
        "# Convert the reviews to integers, same shape as reviews list, but with integers\n",
        "reviews_ints = [[vocab_to_int[w] for w in review.split()] for review in reviews]"
      ],
      "execution_count": 0,
      "outputs": []
    },
    {
      "metadata": {
        "id": "DltA3bcbw7kv",
        "colab_type": "text"
      },
      "cell_type": "markdown",
      "source": [
        "### Encoding the labels\n",
        "\n",
        "Our labels are \"positive\" or \"negative\". To use these labels in our network, we need to convert them to 0 and 1.\n",
        "\n",
        "> **Exercise:** Convert labels from `positive` and `negative` to 1 and 0, respectively."
      ]
    },
    {
      "metadata": {
        "id": "Kce58FPIw7kw",
        "colab_type": "code",
        "colab": {}
      },
      "cell_type": "code",
      "source": [
        "# Convert labels to 1s and 0s for 'positive' and 'negative'\n",
        "labels = [1 if l == 'positive' else 0 for l in labels.split('\\n')]"
      ],
      "execution_count": 0,
      "outputs": []
    },
    {
      "metadata": {
        "id": "2BAi98DRw7kz",
        "colab_type": "text"
      },
      "cell_type": "markdown",
      "source": [
        "If you built `labels` correctly, you should see the next output."
      ]
    },
    {
      "metadata": {
        "id": "1C6Ofg8pw7kz",
        "colab_type": "code",
        "colab": {
          "base_uri": "https://localhost:8080/",
          "height": 68
        },
        "outputId": "afee0ee6-8f2c-49fd-fd63-d419502a48c5"
      },
      "cell_type": "code",
      "source": [
        "from collections import Counter\n",
        "review_lens = Counter([len(x) for x in reviews_ints])\n",
        "print(\"Zero-length reviews: {}\".format(review_lens[0]))\n",
        "print(\"Maximum review length: {}\".format(max(review_lens)))"
      ],
      "execution_count": 37,
      "outputs": [
        {
          "output_type": "stream",
          "text": [
            "Zero-length reviews: 1\n",
            "Maximum review length: 2514\n"
          ],
          "name": "stdout"
        }
      ]
    },
    {
      "metadata": {
        "id": "7cug-e6Lw7k3",
        "colab_type": "text"
      },
      "cell_type": "markdown",
      "source": [
        "Okay, a couple issues here. We seem to have one review with zero length. And, the maximum review length is way too many steps for our RNN. Let's truncate to 200 steps. For reviews shorter than 200, we'll pad with 0s. For reviews longer than 200, we can truncate them to the first 200 characters.\n",
        "\n",
        "> **Exercise:** First, remove the review with zero length from the `reviews_ints` list."
      ]
    },
    {
      "metadata": {
        "id": "LqDWUUWOw7k4",
        "colab_type": "code",
        "colab": {}
      },
      "cell_type": "code",
      "source": [
        "# Filter out that review with 0 length\n",
        "nonzero_idx = [i for i, r in enumerate(reviews_ints) if len(r) != 0]\n",
        "reviews_ints = [reviews_ints[i] for i in nonzero_idx]\n",
        "labels = np.array([labels[i] for i in nonzero_idx])"
      ],
      "execution_count": 0,
      "outputs": []
    },
    {
      "metadata": {
        "id": "QNFDQ7A8w7k9",
        "colab_type": "text"
      },
      "cell_type": "markdown",
      "source": [
        "> **Exercise:** Now, create an array `features` that contains the data we'll pass to the network. The data should come from `review_ints`, since we want to feed integers to the network. Each row should be 200 elements long. For reviews shorter than 200 words, left pad with 0s. That is, if the review is `['best', 'movie', 'ever']`, `[117, 18, 128]` as integers, the row will look like `[0, 0, 0, ..., 0, 117, 18, 128]`. For reviews longer than 200, use on the first 200 words as the feature vector.\n",
        "\n",
        "This isn't trivial and there are a bunch of ways to do this. But, if you're going to be building your own deep learning networks, you're going to have to get used to preparing your data.\n",
        "\n"
      ]
    },
    {
      "metadata": {
        "id": "7IH4hQ2zw7k-",
        "colab_type": "code",
        "colab": {}
      },
      "cell_type": "code",
      "source": [
        "seq_len = 200\n",
        "features = np.zeros((len(reviews_ints), seq_len), dtype=int)\n",
        "for i, r in enumerate(reviews_ints):\n",
        "    features[i, -len(r):] = r[: seq_len]"
      ],
      "execution_count": 0,
      "outputs": []
    },
    {
      "metadata": {
        "id": "ZxO1kiK3w7lA",
        "colab_type": "text"
      },
      "cell_type": "markdown",
      "source": [
        "If you build features correctly, it should look like that cell output below."
      ]
    },
    {
      "metadata": {
        "id": "J_4OipwFw7lA",
        "colab_type": "code",
        "colab": {
          "base_uri": "https://localhost:8080/",
          "height": 2074
        },
        "outputId": "12cdd15f-255c-46e2-f76b-09c833a76c1b"
      },
      "cell_type": "code",
      "source": [
        "features[:10,:100]"
      ],
      "execution_count": 40,
      "outputs": [
        {
          "output_type": "execute_result",
          "data": {
            "text/plain": [
              "array([[    0,     0,     0,     0,     0,     0,     0,     0,     0,\n",
              "            0,     0,     0,     0,     0,     0,     0,     0,     0,\n",
              "            0,     0,     0,     0,     0,     0,     0,     0,     0,\n",
              "            0,     0,     0,     0,     0,     0,     0,     0,     0,\n",
              "            0,     0,     0,     0,     0,     0,     0,     0,     0,\n",
              "            0,     0,     0,     0,     0,     0,     0,     0,     0,\n",
              "            0,     0,     0,     0,     0,     0, 21024,   307,     5,\n",
              "            2,  1049,   206,     7,  2137,    31,     0,   170,    56,\n",
              "           14,    48,    80,  5784,    43,   381,   109,   139,    14,\n",
              "         5193,    59,   153,     8,     0,  4974,  5851,   474,    70,\n",
              "            4,   259,    11, 21024,   307,    12,  1977,     5,    73,\n",
              "         2394],\n",
              "       [    0,     0,     0,     0,     0,     0,     0,     0,     0,\n",
              "            0,     0,     0,     0,     0,     0,     0,     0,     0,\n",
              "            0,     0,     0,     0,     0,     0,     0,     0,     0,\n",
              "            0,     0,     0,     0,     0,     0,     0,     0,     0,\n",
              "            0,     0,     0,     0,     0,     0,     0,     0,     0,\n",
              "            0,     0,     0,     0,     0,     0,     0,     0,     0,\n",
              "            0,     0,     0,     0,     0,     0,     0,     0,     0,\n",
              "            0,     0,     0,     0,     0,     0,     0,     0,     0,\n",
              "            0,     0,     0,     0,     0,     0,     0,     0,     0,\n",
              "            0,     0,     0,     0,     0,    62,     3,     2,   124,\n",
              "           35,    46,  7471,  1394,    15,     2,  4180,   504,    44,\n",
              "           16],\n",
              "       [22381,    41, 46417,    14,   705, 17138,  3388,    46,    76,\n",
              "           34,  1818,    15,   153,    18,   113,     2,  1304,     4,\n",
              "          335,   146,    21,     0,   856,    11,    69,   280,  1167,\n",
              "          398,    35,   119,   282,    37,   168,     4,   381,   157,\n",
              "           41,  2268,    15,     0,   540,    89,    77,   101,     3,\n",
              "            0,  3243,    14,    42,     2,   406,  1067,   135,  8054,\n",
              "           43,   181,   139,    14,  3042,     0,   319,    21,  4817,\n",
              "        26223,   345,     4,  3089,  2091,     0, 18838, 17938,    41,\n",
              "         8054,    45,    32,   235,    28,   369,     4,   129,    55,\n",
              "           21,     0,  1927,     6,     6,    18,    47,    45,    20,\n",
              "           69,   343,     2,  2098,     4,   407,    21,     0,  1927,\n",
              "           15],\n",
              "       [ 4504,   504,    14,     2,  3341,   161,  8311,  1651,     5,\n",
              "         4818,    55,    16,  4503,  5615,   139, 11724,     4,   995,\n",
              "         4918,  2932,  4461,   565,  1200,    35,     5,  1517,    95,\n",
              "            2,   743,     3, 26224,    12,     4,    26,  3460,     8,\n",
              "        10624,     3,     7,   110,  3012,     4,     0,  1026,    14,\n",
              "            2,  4389,    81,    21,  2048,     5,  4461,   537,  2763,\n",
              "         7072, 37442,    40,   462,     0,  8311, 46418,   301,   122,\n",
              "           14,  4220,    18,  1666,   921,     0,  1651,     5,  6128,\n",
              "        19870,    33,     0,   979,  1750, 22382,   645, 24103,    26,\n",
              "          105, 11725,    12, 14044, 15096, 17939,  2456,   465, 21026,\n",
              "           35,  3265,     0,  6364,  1019,    44,    16,  2694,  2498,\n",
              "           32],\n",
              "       [    0,     0,     0,     0,     0,     0,     0,     0,     0,\n",
              "            0,     0,     0,     0,     0,     0,     0,     0,     0,\n",
              "            0,     0,     0,     0,     0,     0,     0,     0,     0,\n",
              "            0,     0,     0,     0,     0,     0,     0,     0,     0,\n",
              "            0,     0,     0,     0,     0,     0,     0,     0,     0,\n",
              "            0,     0,     0,     0,     0,   519,   118,   112,    33,\n",
              "        16371,  1815,  3736,   116,   884, 21029,   720,     9,    27,\n",
              "          123,   107,     1,   114,   136,     8,  1622,  7690,    25,\n",
              "          329,     4,   588,     0,  6129,    21,   385,     5,     2,\n",
              "          348,    14,    49,    14,   230,     8,  7472, 11398,     0,\n",
              "          190,    21,  8965,     5,    81,   879,   100,   110,  3583,\n",
              "            3],\n",
              "       [    0,     0,     0,     0,     0,     0,     0,     0,     0,\n",
              "            0,     0,     0,     0,     0,     0,     0,     0,     0,\n",
              "            0,     0,     0,     0,     0,     0,     0,     0,     0,\n",
              "            0,     0,     0,     0,     0,     0,     0,     0,     0,\n",
              "            0,     0,     0,     0,     0,     0,     0,     0,     0,\n",
              "            0,     0,     0,     0,     0,     0,     0,     0,     0,\n",
              "           10,    19,  3636,   140,     9,   421,    22,   271,    59,\n",
              "         4354,    21,    31,    83,  3285,    21,     0,   171,     3,\n",
              "            0,   951,   506,    10,  4976,  5360,     4,   573,     3,\n",
              "         1154,    53,    52,  5303,     0,   260,    16,    40,   951,\n",
              "          124,    58,     0,   710,   136,   378,   625,    14,   110,\n",
              "         1508],\n",
              "       [    0,     0,     0,     0,     0,     0,     0,     0,     0,\n",
              "            0,     0,     0,     0,     0,     0,     0,     0,     0,\n",
              "            0,     0,     0,     0,     0,     0,     0,     0,     0,\n",
              "            0,     0,     0,     0,     0,     0,     0,     0,     0,\n",
              "            0,     0,     0,     0,     0,     0,     0,     0,     0,\n",
              "            0,     0,     0,     0,     0,     0,     0,     0,     0,\n",
              "            0,     0,     0,     0,     0,     0,     0,     0,     0,\n",
              "            0,     0,     0,     0,     0,     0,     0,     0,     0,\n",
              "            0,     0,     0,     0,    10,     5,   691,     0,    89,\n",
              "         2155,    19, 11727,     0,  2817,  5194,   248,    91,  3005,\n",
              "            7,   125,    23,   199,     2,   801,   633,     3, 22381,\n",
              "         1000],\n",
              "       [    0,     0,     0,     0,     0,     0,     0,     0,     0,\n",
              "            0,     0,     0,     0,     0,     0,     0,     0,     0,\n",
              "            0,     0,     0,     0,     0,     0,     0,     0,     0,\n",
              "            0,     0,     0,     0,     0,     0,     0,     0,     0,\n",
              "            0,     0,     0,     0,     0,     0,     0,     0,     0,\n",
              "            0,     0,   785,   294,     9,   121,    10,     5,   418,\n",
              "            4,    28,    34,   481,    19,    18,  1280,    32,   141,\n",
              "           27,  2656,    44,  1839,    31,     0,  2777,    36,    77,\n",
              "           96,  2435,    66,  3949,    44,     1,    23,   104,   255,\n",
              "            0,   133,  1570,     1, 12398,   450,    13,   318,    10,\n",
              "           62,     5,    97,  1320,     4,   104,     0,  3766,     3,\n",
              "            2],\n",
              "       [    0,     0,     0,     0,     0,     0,     0,     0,     0,\n",
              "            0,     0,     0,     0,     0,     0,     0,     0,     0,\n",
              "            0,     0,     0,     0,     0,     0,     0,     0,     0,\n",
              "            0,     0,     0,     0,     0,     0,     0,     0,     0,\n",
              "            0,     0,     0,     0,     0,     0,     0,     0,     0,\n",
              "            0,     0,     0,     0,     0,     0,     0,     0,     0,\n",
              "            0,     0,     0,     0,     0,     0,     0,     0,     0,\n",
              "            0,     0,     0,     0,     0,     0,     0,     0,     0,\n",
              "            0,     0,     0,     0,     0,     0,     0,    10,     5,\n",
              "           23,     0,   778,  3686,  2817,    19,     7,    13,    73,\n",
              "          324,  2729,    72,    89,     3,    26,    98,     1,   164,\n",
              "           67],\n",
              "       [   53,     9,    13,   115,    59,   797,   551,    70,   363,\n",
              "            4,     0,   729,     4,    65,  8056,     7,    13,    29,\n",
              "            3,   108,    98,     9,   292,    16,    59,   797,    18,\n",
              "           10,    13,     0,    63,    29,    68,  2499,    44,     3,\n",
              "          233,    92,     9,    67,   113,   107,  8056,   362,    42,\n",
              "         1008,     1,     9,    96,    27,  1430,    44,     0,   356,\n",
              "            3,    59,   109,   204,     7,    47,     2,  1928, 10879,\n",
              "            1,  2123,   353,   411,     3,    12,  6608,     1,  2973,\n",
              "         5147,  2124,  1365,     5,    29,     3,    59,   501,   875,\n",
              "           18,  8056,     5,    33,   226,     0,   246,   411,     3,\n",
              "          581,     3,    26,   598,     8,     0, 13585,   395,     3,\n",
              "        14046]])"
            ]
          },
          "metadata": {
            "tags": []
          },
          "execution_count": 40
        }
      ]
    },
    {
      "metadata": {
        "id": "FcycTkrzw7lC",
        "colab_type": "text"
      },
      "cell_type": "markdown",
      "source": [
        "## Training, Validation, Test\n",
        "\n"
      ]
    },
    {
      "metadata": {
        "id": "n4IuCEyZw7lD",
        "colab_type": "text"
      },
      "cell_type": "markdown",
      "source": [
        "With our data in nice shape, we'll split it into training, validation, and test sets.\n",
        "\n",
        "> **Exercise:** Create the training, validation, and test sets here. You'll need to create sets for the features and the labels, `train_x` and `train_y` for example. Define a split fraction, `split_frac` as the fraction of data to keep in the training set. Usually this is set to 0.8 or 0.9. The rest of the data will be split in half to create the validation and testing data."
      ]
    },
    {
      "metadata": {
        "id": "XKcqO3eAw7lD",
        "colab_type": "code",
        "colab": {
          "base_uri": "https://localhost:8080/",
          "height": 102
        },
        "outputId": "bd3b5c2a-ab1d-49ea-cc9c-27f2542d151a"
      },
      "cell_type": "code",
      "source": [
        "split_frac = 0.8\n",
        "split_point = int(split_frac * len(features))\n",
        "train_x, val_x = features[:split_point], features[split_point:]\n",
        "train_y, val_y = labels[:split_point], labels[split_point:]\n",
        "\n",
        "half = len(val_x) // 2\n",
        "val_x, test_x = val_x[:half], val_x[half:]\n",
        "val_y, test_y = val_y[:half], val_y[half:]\n",
        "\n",
        "print(\"\\t\\t\\tFeature Shapes:\")\n",
        "print(\"Train set: \\t\\t{}\".format(train_x.shape), \n",
        "      \"\\nValidation set: \\t{}\".format(val_x.shape),\n",
        "      \"\\nTest set: \\t\\t{}\".format(test_x.shape))"
      ],
      "execution_count": 41,
      "outputs": [
        {
          "output_type": "stream",
          "text": [
            "\t\t\tFeature Shapes:\n",
            "Train set: \t\t(20000, 200) \n",
            "Validation set: \t(2500, 200) \n",
            "Test set: \t\t(2500, 200)\n"
          ],
          "name": "stdout"
        }
      ]
    },
    {
      "metadata": {
        "id": "1apXSUkjw7lF",
        "colab_type": "text"
      },
      "cell_type": "markdown",
      "source": [
        "With train, validation, and text fractions of 0.8, 0.1, 0.1, the final shapes should look like:\n",
        "```\n",
        "                    Feature Shapes:\n",
        "Train set: \t\t (20000, 200) \n",
        "Validation set: \t(2500, 200) \n",
        "Test set: \t\t  (2500, 200)\n",
        "```"
      ]
    },
    {
      "metadata": {
        "id": "VuIrw6Vdw7lG",
        "colab_type": "text"
      },
      "cell_type": "markdown",
      "source": [
        "## Build the graph\n",
        "\n",
        "Here, we'll build the graph. First up, defining the hyperparameters.\n",
        "\n",
        "* `lstm_size`: Number of units in the hidden layers in the LSTM cells. Usually larger is better performance wise. Common values are 128, 256, 512, etc.\n",
        "* `lstm_layers`: Number of LSTM layers in the network. I'd start with 1, then add more if I'm underfitting.\n",
        "* `batch_size`: The number of reviews to feed the network in one training pass. Typically this should be set as high as you can go without running out of memory.\n",
        "* `learning_rate`: Learning rate"
      ]
    },
    {
      "metadata": {
        "id": "-bHtRoFlw7lH",
        "colab_type": "code",
        "colab": {}
      },
      "cell_type": "code",
      "source": [
        "lstm_size = 256\n",
        "lstm_layers = 1\n",
        "batch_size = 500\n",
        "learning_rate = 0.001"
      ],
      "execution_count": 0,
      "outputs": []
    },
    {
      "metadata": {
        "id": "8z8eSk7Aw7lJ",
        "colab_type": "text"
      },
      "cell_type": "markdown",
      "source": [
        "For the network itself, we'll be passing in our 200 element long review vectors. Each batch will be `batch_size` vectors. We'll also be using dropout on the LSTM layer, so we'll make a placeholder for the keep probability."
      ]
    },
    {
      "metadata": {
        "id": "_thD43h_w7lK",
        "colab_type": "text"
      },
      "cell_type": "markdown",
      "source": [
        "> **Exercise:** Create the `inputs_`, `labels_`, and drop out `keep_prob` placeholders using `tf.placeholder`. `labels_` needs to be two-dimensional to work with some functions later.  Since `keep_prob` is a scalar (a 0-dimensional tensor), you shouldn't provide a size to `tf.placeholder`."
      ]
    },
    {
      "metadata": {
        "id": "liNAtFP9w7lL",
        "colab_type": "code",
        "colab": {}
      },
      "cell_type": "code",
      "source": [
        "n_words = len(vocab_to_int) + 1 # Adding 1 because we use 0's for padding, dictionary started at 1\n",
        "\n",
        "# Create the graph object\n",
        "graph = tf.Graph()\n",
        "# Add nodes to the graph\n",
        "with graph.as_default():\n",
        "    inputs_ = tf.placeholder(tf.int32, (None, None), name='inputs')\n",
        "    labels_ = tf.placeholder(tf.int32, (None, 1), name='labels')\n",
        "    keep_prob = tf.placeholder(tf.float32, name='keep_prob')"
      ],
      "execution_count": 0,
      "outputs": []
    },
    {
      "metadata": {
        "id": "Cb-B96RQw7lN",
        "colab_type": "text"
      },
      "cell_type": "markdown",
      "source": [
        "### Embedding\n",
        "\n",
        "Now we'll add an embedding layer. We need to do this because there are 74000 words in our vocabulary. It is massively inefficient to one-hot encode our classes here. You should remember dealing with this problem from the word2vec lesson. Instead of one-hot encoding, we can have an embedding layer and use that layer as a lookup table. You could train an embedding layer using word2vec, then load it here. But, it's fine to just make a new layer and let the network learn the weights.\n",
        "\n",
        "> **Exercise:** Create the embedding lookup matrix as a `tf.Variable`. Use that embedding matrix to get the embedded vectors to pass to the LSTM cell with [`tf.nn.embedding_lookup`](https://www.tensorflow.org/api_docs/python/tf/nn/embedding_lookup). This function takes the embedding matrix and an input tensor, such as the review vectors. Then, it'll return another tensor with the embedded vectors. So, if the embedding layer has 200 units, the function will return a tensor with size [batch_size, 200].\n",
        "\n"
      ]
    },
    {
      "metadata": {
        "id": "Fp45LhLPw7lN",
        "colab_type": "code",
        "colab": {}
      },
      "cell_type": "code",
      "source": [
        "# Size of the embedding vectors (number of units in the embedding layer)\n",
        "embed_size = 300 \n",
        "\n",
        "with graph.as_default():\n",
        "    embedding = tf.Variable(tf.random_uniform((n_words, embed_size)))\n",
        "    embed = tf.nn.embedding_lookup(embedding, inputs_)"
      ],
      "execution_count": 0,
      "outputs": []
    },
    {
      "metadata": {
        "id": "bZX54qeCw7lQ",
        "colab_type": "text"
      },
      "cell_type": "markdown",
      "source": [
        "### LSTM cell\n",
        "\n",
        "<img src=\"https://github.com/xlnwel/deep-learning/blob/master/sentiment-rnn/assets/network_diagram.png?raw=1\" width=400px>\n",
        "\n",
        "Next, we'll create our LSTM cells to use in the recurrent network ([TensorFlow documentation](https://www.tensorflow.org/api_docs/python/tf/contrib/rnn)). Here we are just defining what the cells look like. This isn't actually building the graph, just defining the type of cells we want in our graph.\n",
        "\n",
        "To create a basic LSTM cell for the graph, you'll want to use `tf.contrib.rnn.BasicLSTMCell`. Looking at the function documentation:\n",
        "\n",
        "```\n",
        "tf.contrib.rnn.BasicLSTMCell(num_units, forget_bias=1.0, input_size=None, state_is_tuple=True, activation=<function tanh at 0x109f1ef28>)\n",
        "```\n",
        "\n",
        "you can see it takes a parameter called `num_units`, the number of units in the cell, called `lstm_size` in this code. So then, you can write something like \n",
        "\n",
        "```\n",
        "lstm = tf.contrib.rnn.BasicLSTMCell(num_units)\n",
        "```\n",
        "\n",
        "to create an LSTM cell with `num_units`. Next, you can add dropout to the cell with `tf.contrib.rnn.DropoutWrapper`. This just wraps the cell in another cell, but with dropout added to the inputs and/or outputs. It's a really convenient way to make your network better with almost no effort! So you'd do something like\n",
        "\n",
        "```\n",
        "drop = tf.contrib.rnn.DropoutWrapper(cell, output_keep_prob=keep_prob)\n",
        "```\n",
        "\n",
        "Most of the time, your network will have better performance with more layers. That's sort of the magic of deep learning, adding more layers allows the network to learn really complex relationships. Again, there is a simple way to create multiple layers of LSTM cells with `tf.contrib.rnn.MultiRNNCell`:\n",
        "\n",
        "```\n",
        "cell = tf.contrib.rnn.MultiRNNCell([drop] * lstm_layers)\n",
        "```\n",
        "\n",
        "Here, `[drop] * lstm_layers` creates a list of cells (`drop`) that is `lstm_layers` long. The `MultiRNNCell` wrapper builds this into multiple layers of RNN cells, one for each cell in the list.\n",
        "\n",
        "So the final cell you're using in the network is actually multiple (or just one) LSTM cells with dropout. But it all works the same from an architectural viewpoint, just a more complicated graph in the cell.\n",
        "\n",
        "> **Exercise:** Below, use `tf.contrib.rnn.BasicLSTMCell` to create an LSTM cell. Then, add drop out to it with `tf.contrib.rnn.DropoutWrapper`. Finally, create multiple LSTM layers with `tf.contrib.rnn.MultiRNNCell`.\n",
        "\n",
        "Here is [a tutorial on building RNNs](https://www.tensorflow.org/tutorials/recurrent) that will help you out.\n"
      ]
    },
    {
      "metadata": {
        "id": "JvpKt2aSw7lQ",
        "colab_type": "code",
        "colab": {}
      },
      "cell_type": "code",
      "source": [
        "with graph.as_default():\n",
        "    def cell():\n",
        "        # Your basic LSTM cell\n",
        "        lstm = tf.contrib.rnn.BasicLSTMCell(lstm_size)\n",
        "\n",
        "        # Add dropout to the cell\n",
        "        drop = tf.contrib.rnn.DropoutWrapper(lstm, output_keep_prob=keep_prob)\n",
        "        \n",
        "        return drop\n",
        "    \n",
        "    # Stack up multiple LSTM layers, for deep learning\n",
        "    cell = tf.contrib.rnn.MultiRNNCell([cell() for _ in range(lstm_layers)])\n",
        "    \n",
        "    # Getting an initial state of all zeros\n",
        "    initial_state = cell.zero_state(batch_size, tf.float32)"
      ],
      "execution_count": 0,
      "outputs": []
    },
    {
      "metadata": {
        "id": "JewVx8Ecw7lT",
        "colab_type": "text"
      },
      "cell_type": "markdown",
      "source": [
        "### RNN forward pass\n",
        "\n",
        "<img src=\"https://github.com/xlnwel/deep-learning/blob/master/sentiment-rnn/assets/network_diagram.png?raw=1\" width=400px>\n",
        "\n",
        "Now we need to actually run the data through the RNN nodes. You can use [`tf.nn.dynamic_rnn`](https://www.tensorflow.org/api_docs/python/tf/nn/dynamic_rnn) to do this. You'd pass in the RNN cell you created (our multiple layered LSTM `cell` for instance), and the inputs to the network.\n",
        "\n",
        "```\n",
        "outputs, final_state = tf.nn.dynamic_rnn(cell, inputs, initial_state=initial_state)\n",
        "```\n",
        "\n",
        "Above I created an initial state, `initial_state`, to pass to the RNN. This is the cell state that is passed between the hidden layers in successive time steps. `tf.nn.dynamic_rnn` takes care of most of the work for us. We pass in our cell and the input to the cell, then it does the unrolling and everything else for us. It returns outputs for each time step and the final_state of the hidden layer.\n",
        "\n",
        "> **Exercise:** Use `tf.nn.dynamic_rnn` to add the forward pass through the RNN. Remember that we're actually passing in vectors from the embedding layer, `embed`.\n",
        "\n"
      ]
    },
    {
      "metadata": {
        "id": "eXkto5XVw7lT",
        "colab_type": "code",
        "colab": {}
      },
      "cell_type": "code",
      "source": [
        "with graph.as_default():\n",
        "    outputs, final_state = tf.nn.dynamic_rnn(cell, embed, initial_state=initial_state)"
      ],
      "execution_count": 0,
      "outputs": []
    },
    {
      "metadata": {
        "id": "JlTgQcvpw7lV",
        "colab_type": "text"
      },
      "cell_type": "markdown",
      "source": [
        "### Output\n",
        "\n",
        "We only care about the final output, we'll be using that as our sentiment prediction. So we need to grab the last output with `outputs[:, -1]`, the calculate the cost from that and `labels_`."
      ]
    },
    {
      "metadata": {
        "id": "wlkDYugQw7lV",
        "colab_type": "code",
        "colab": {}
      },
      "cell_type": "code",
      "source": [
        "with graph.as_default():\n",
        "    predictions = tf.contrib.layers.fully_connected(outputs[:, -1], 1, activation_fn=tf.sigmoid)\n",
        "    cost = tf.losses.mean_squared_error(labels_, predictions)\n",
        "    \n",
        "    optimizer = tf.train.AdamOptimizer(learning_rate).minimize(cost)"
      ],
      "execution_count": 0,
      "outputs": []
    },
    {
      "metadata": {
        "id": "sPksOY20w7lW",
        "colab_type": "text"
      },
      "cell_type": "markdown",
      "source": [
        "### Validation accuracy\n",
        "\n",
        "Here we can add a few nodes to calculate the accuracy which we'll use in the validation pass."
      ]
    },
    {
      "metadata": {
        "id": "dwnQiALkw7lX",
        "colab_type": "code",
        "colab": {}
      },
      "cell_type": "code",
      "source": [
        "with graph.as_default():\n",
        "    correct_pred = tf.equal(tf.cast(tf.round(predictions), tf.int32), labels_)\n",
        "    accuracy = tf.reduce_mean(tf.cast(correct_pred, tf.float32))"
      ],
      "execution_count": 0,
      "outputs": []
    },
    {
      "metadata": {
        "id": "tThbV5Jnw7lY",
        "colab_type": "text"
      },
      "cell_type": "markdown",
      "source": [
        "### Batching\n",
        "\n",
        "This is a simple function for returning batches from our data. First it removes data such that we only have full batches. Then it iterates through the `x` and `y` arrays and returns slices out of those arrays with size `[batch_size]`."
      ]
    },
    {
      "metadata": {
        "id": "CvSolWpVw7lZ",
        "colab_type": "code",
        "colab": {}
      },
      "cell_type": "code",
      "source": [
        "def get_batches(x, y, batch_size=100):\n",
        "    \n",
        "    n_batches = len(x)//batch_size\n",
        "    x, y = x[:n_batches*batch_size], y[:n_batches*batch_size]\n",
        "    for ii in range(0, len(x), batch_size):\n",
        "        yield x[ii:ii+batch_size], y[ii:ii+batch_size]"
      ],
      "execution_count": 0,
      "outputs": []
    },
    {
      "metadata": {
        "id": "Cd8IPSOBw7la",
        "colab_type": "text"
      },
      "cell_type": "markdown",
      "source": [
        "## Training\n",
        "\n",
        "Below is the typical training code. If you want to do this yourself, feel free to delete all this code and implement it yourself. Before you run this, make sure the `checkpoints` directory exists."
      ]
    },
    {
      "metadata": {
        "id": "Hwr9lz63w7la",
        "colab_type": "code",
        "colab": {
          "base_uri": "https://localhost:8080/",
          "height": 1666
        },
        "outputId": "b1a759c0-2b06-49a8-dbf4-ca9f8668d3db"
      },
      "cell_type": "code",
      "source": [
        "epochs = 10\n",
        "\n",
        "with graph.as_default():\n",
        "    saver = tf.train.Saver()\n",
        "\n",
        "with tf.Session(graph=graph) as sess:\n",
        "    sess.run(tf.global_variables_initializer())\n",
        "    iteration = 1\n",
        "    for e in range(epochs):\n",
        "        state = sess.run(initial_state)\n",
        "        \n",
        "        for ii, (x, y) in enumerate(get_batches(train_x, train_y, batch_size), 1):\n",
        "            feed = {inputs_: x,\n",
        "                    labels_: y[:, None],\n",
        "                    keep_prob: 0.5,\n",
        "                    initial_state: state}\n",
        "            loss, state, _ = sess.run([cost, final_state, optimizer], feed_dict=feed)\n",
        "            \n",
        "            if iteration%5==0:\n",
        "                print(\"Epoch: {}/{}\".format(e, epochs),\n",
        "                      \"Iteration: {}\".format(iteration),\n",
        "                      \"Train loss: {:.3f}\".format(loss))\n",
        "\n",
        "            if iteration%25==0:\n",
        "                val_acc = []\n",
        "                val_state = sess.run(cell.zero_state(batch_size, tf.float32))\n",
        "                for x, y in get_batches(val_x, val_y, batch_size):\n",
        "                    feed = {inputs_: x,\n",
        "                            labels_: y[:, None],\n",
        "                            keep_prob: 1,\n",
        "                            initial_state: val_state}\n",
        "                    batch_acc, val_state = sess.run([accuracy, final_state], feed_dict=feed)\n",
        "                    val_acc.append(batch_acc)\n",
        "                print(\"Val acc: {:.3f}\".format(np.mean(val_acc)))\n",
        "            iteration +=1\n",
        "    saver.save(sess, \"checkpoints/sentiment.ckpt\")"
      ],
      "execution_count": 64,
      "outputs": [
        {
          "output_type": "stream",
          "text": [
            "Epoch: 0/10 Iteration: 5 Train loss: 0.313\n",
            "Epoch: 0/10 Iteration: 10 Train loss: 0.271\n",
            "Epoch: 0/10 Iteration: 15 Train loss: 0.258\n",
            "Epoch: 0/10 Iteration: 20 Train loss: 0.260\n",
            "Epoch: 0/10 Iteration: 25 Train loss: 0.257\n",
            "Val acc: 0.500\n",
            "Epoch: 0/10 Iteration: 30 Train loss: 0.250\n",
            "Epoch: 0/10 Iteration: 35 Train loss: 0.255\n",
            "Epoch: 0/10 Iteration: 40 Train loss: 0.250\n",
            "Epoch: 1/10 Iteration: 45 Train loss: 0.252\n",
            "Epoch: 1/10 Iteration: 50 Train loss: 0.247\n",
            "Val acc: 0.530\n",
            "Epoch: 1/10 Iteration: 55 Train loss: 0.249\n",
            "Epoch: 1/10 Iteration: 60 Train loss: 0.247\n",
            "Epoch: 1/10 Iteration: 65 Train loss: 0.251\n",
            "Epoch: 1/10 Iteration: 70 Train loss: 0.249\n",
            "Epoch: 1/10 Iteration: 75 Train loss: 0.246\n",
            "Val acc: 0.540\n",
            "Epoch: 1/10 Iteration: 80 Train loss: 0.248\n",
            "Epoch: 2/10 Iteration: 85 Train loss: 0.246\n",
            "Epoch: 2/10 Iteration: 90 Train loss: 0.248\n",
            "Epoch: 2/10 Iteration: 95 Train loss: 0.247\n",
            "Epoch: 2/10 Iteration: 100 Train loss: 0.243\n",
            "Val acc: 0.547\n",
            "Epoch: 2/10 Iteration: 105 Train loss: 0.246\n",
            "Epoch: 2/10 Iteration: 110 Train loss: 0.248\n",
            "Epoch: 2/10 Iteration: 115 Train loss: 0.239\n",
            "Epoch: 2/10 Iteration: 120 Train loss: 0.238\n",
            "Epoch: 3/10 Iteration: 125 Train loss: 0.266\n",
            "Val acc: 0.512\n",
            "Epoch: 3/10 Iteration: 130 Train loss: 0.261\n",
            "Epoch: 3/10 Iteration: 135 Train loss: 0.249\n",
            "Epoch: 3/10 Iteration: 140 Train loss: 0.241\n",
            "Epoch: 3/10 Iteration: 145 Train loss: 0.238\n",
            "Epoch: 3/10 Iteration: 150 Train loss: 0.241\n",
            "Val acc: 0.551\n",
            "Epoch: 3/10 Iteration: 155 Train loss: 0.230\n",
            "Epoch: 3/10 Iteration: 160 Train loss: 0.225\n",
            "Epoch: 4/10 Iteration: 165 Train loss: 0.215\n",
            "Epoch: 4/10 Iteration: 170 Train loss: 0.225\n",
            "Epoch: 4/10 Iteration: 175 Train loss: 0.215\n",
            "Val acc: 0.593\n",
            "Epoch: 4/10 Iteration: 180 Train loss: 0.220\n",
            "Epoch: 4/10 Iteration: 185 Train loss: 0.202\n",
            "Epoch: 4/10 Iteration: 190 Train loss: 0.204\n",
            "Epoch: 4/10 Iteration: 195 Train loss: 0.178\n",
            "Epoch: 4/10 Iteration: 200 Train loss: 0.208\n",
            "Val acc: 0.677\n",
            "Epoch: 5/10 Iteration: 205 Train loss: 0.178\n",
            "Epoch: 5/10 Iteration: 210 Train loss: 0.190\n",
            "Epoch: 5/10 Iteration: 215 Train loss: 0.194\n",
            "Epoch: 5/10 Iteration: 220 Train loss: 0.182\n",
            "Epoch: 5/10 Iteration: 225 Train loss: 0.158\n",
            "Val acc: 0.720\n",
            "Epoch: 5/10 Iteration: 230 Train loss: 0.152\n",
            "Epoch: 5/10 Iteration: 235 Train loss: 0.190\n",
            "Epoch: 5/10 Iteration: 240 Train loss: 0.219\n",
            "Epoch: 6/10 Iteration: 245 Train loss: 0.211\n",
            "Epoch: 6/10 Iteration: 250 Train loss: 0.209\n",
            "Val acc: 0.588\n",
            "Epoch: 6/10 Iteration: 255 Train loss: 0.197\n",
            "Epoch: 6/10 Iteration: 260 Train loss: 0.177\n",
            "Epoch: 6/10 Iteration: 265 Train loss: 0.158\n",
            "Epoch: 6/10 Iteration: 270 Train loss: 0.157\n",
            "Epoch: 6/10 Iteration: 275 Train loss: 0.188\n",
            "Val acc: 0.557\n",
            "Epoch: 6/10 Iteration: 280 Train loss: 0.213\n",
            "Epoch: 7/10 Iteration: 285 Train loss: 0.203\n",
            "Epoch: 7/10 Iteration: 290 Train loss: 0.207\n",
            "Epoch: 7/10 Iteration: 295 Train loss: 0.205\n",
            "Epoch: 7/10 Iteration: 300 Train loss: 0.160\n",
            "Val acc: 0.654\n",
            "Epoch: 7/10 Iteration: 305 Train loss: 0.122\n",
            "Epoch: 7/10 Iteration: 310 Train loss: 0.182\n",
            "Epoch: 7/10 Iteration: 315 Train loss: 0.161\n",
            "Epoch: 7/10 Iteration: 320 Train loss: 0.178\n",
            "Epoch: 8/10 Iteration: 325 Train loss: 0.150\n",
            "Val acc: 0.656\n",
            "Epoch: 8/10 Iteration: 330 Train loss: 0.140\n",
            "Epoch: 8/10 Iteration: 335 Train loss: 0.199\n",
            "Epoch: 8/10 Iteration: 340 Train loss: 0.178\n",
            "Epoch: 8/10 Iteration: 345 Train loss: 0.170\n",
            "Epoch: 8/10 Iteration: 350 Train loss: 0.168\n",
            "Val acc: 0.641\n",
            "Epoch: 8/10 Iteration: 355 Train loss: 0.118\n",
            "Epoch: 8/10 Iteration: 360 Train loss: 0.129\n",
            "Epoch: 9/10 Iteration: 365 Train loss: 0.360\n",
            "Epoch: 9/10 Iteration: 370 Train loss: 0.219\n",
            "Epoch: 9/10 Iteration: 375 Train loss: 0.250\n",
            "Val acc: 0.526\n",
            "Epoch: 9/10 Iteration: 380 Train loss: 0.223\n",
            "Epoch: 9/10 Iteration: 385 Train loss: 0.219\n",
            "Epoch: 9/10 Iteration: 390 Train loss: 0.215\n",
            "Epoch: 9/10 Iteration: 395 Train loss: 0.203\n",
            "Epoch: 9/10 Iteration: 400 Train loss: 0.210\n",
            "Val acc: 0.573\n"
          ],
          "name": "stdout"
        }
      ]
    },
    {
      "metadata": {
        "id": "XWPRcq_Rw7lb",
        "colab_type": "text"
      },
      "cell_type": "markdown",
      "source": [
        "## Testing"
      ]
    },
    {
      "metadata": {
        "id": "29w-LzHVw7lb",
        "colab_type": "code",
        "colab": {
          "base_uri": "https://localhost:8080/",
          "height": 68
        },
        "outputId": "8dcb5bc9-152e-4d02-9e48-b6d819772f6e"
      },
      "cell_type": "code",
      "source": [
        "test_acc = []\n",
        "with tf.Session(graph=graph) as sess:\n",
        "    saver.restore(sess, tf.train.latest_checkpoint('checkpoints'))\n",
        "    test_state = sess.run(cell.zero_state(batch_size, tf.float32))\n",
        "    for ii, (x, y) in enumerate(get_batches(test_x, test_y, batch_size), 1):\n",
        "        feed = {inputs_: x,\n",
        "                labels_: y[:, None],\n",
        "                keep_prob: 1,\n",
        "                initial_state: test_state}\n",
        "        batch_acc, test_state = sess.run([accuracy, final_state], feed_dict=feed)\n",
        "        test_acc.append(batch_acc)\n",
        "    print(\"Test accuracy: {:.3f}\".format(np.mean(test_acc)))"
      ],
      "execution_count": 65,
      "outputs": [
        {
          "output_type": "stream",
          "text": [
            "INFO:tensorflow:Restoring parameters from checkpoints/sentiment.ckpt\n",
            "Test accuracy: 0.603\n"
          ],
          "name": "stdout"
        }
      ]
    }
  ]
}