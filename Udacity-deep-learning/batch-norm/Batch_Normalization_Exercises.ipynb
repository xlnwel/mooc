{
  "nbformat": 4,
  "nbformat_minor": 0,
  "metadata": {
    "colab": {
      "name": "Batch_Normalization_Exercises.ipynb",
      "version": "0.3.2",
      "provenance": []
    },
    "kernelspec": {
      "display_name": "Python 3",
      "language": "python",
      "name": "python3"
    }
  },
  "cells": [
    {
      "metadata": {
        "id": "0A-hERaftTku",
        "colab_type": "text"
      },
      "cell_type": "markdown",
      "source": [
        "# Batch Normalization – Practice"
      ]
    },
    {
      "metadata": {
        "id": "XdqWLYPStTkw",
        "colab_type": "text"
      },
      "cell_type": "markdown",
      "source": [
        "Batch normalization is most useful when building deep neural networks. To demonstrate this, we'll create a convolutional neural network with 20 convolutional layers, followed by a fully connected layer. We'll use it to classify handwritten digits in the MNIST dataset, which should be familiar to you by now.\n",
        "\n",
        "This is **not** a good network for classfying MNIST digits. You could create a _much_ simpler network and get _better_ results. However, to give you hands-on experience with batch normalization, we had to make an example that was:\n",
        "1. Complicated enough that training would benefit from batch normalization.\n",
        "2. Simple enough that it would train quickly, since this is meant to be a short exercise just to give you some practice adding batch normalization.\n",
        "3. Simple enough that the architecture would be easy to understand without additional resources."
      ]
    },
    {
      "metadata": {
        "id": "454ed9wDtTky",
        "colab_type": "text"
      },
      "cell_type": "markdown",
      "source": [
        "This notebook includes two versions of the network that you can edit. The first uses higher level functions from the `tf.layers` package. The second is the same network, but uses only lower level functions in the `tf.nn` package.\n",
        "\n",
        "1. [Batch Normalization with `tf.layers.batch_normalization`](#example_1)\n",
        "2. [Batch Normalization with `tf.nn.batch_normalization`](#example_2)"
      ]
    },
    {
      "metadata": {
        "id": "20juw5T0tTk0",
        "colab_type": "text"
      },
      "cell_type": "markdown",
      "source": [
        "The following cell loads TensorFlow, downloads the MNIST dataset if necessary, and loads it into an object named `mnist`. You'll need to run this cell before running anything else in the notebook."
      ]
    },
    {
      "metadata": {
        "id": "SH1vAGletTk2",
        "colab_type": "code",
        "colab": {
          "base_uri": "https://localhost:8080/",
          "height": 428
        },
        "outputId": "6ddbb13d-bfab-473b-c548-798d0f85d850"
      },
      "cell_type": "code",
      "source": [
        "import tensorflow as tf\n",
        "from tensorflow.examples.tutorials.mnist import input_data\n",
        "mnist = input_data.read_data_sets(\"MNIST_data/\", one_hot=True, reshape=False)"
      ],
      "execution_count": 1,
      "outputs": [
        {
          "output_type": "stream",
          "text": [
            "WARNING:tensorflow:From <ipython-input-1-868c89712c65>:3: read_data_sets (from tensorflow.contrib.learn.python.learn.datasets.mnist) is deprecated and will be removed in a future version.\n",
            "Instructions for updating:\n",
            "Please use alternatives such as official/mnist/dataset.py from tensorflow/models.\n",
            "WARNING:tensorflow:From /usr/local/lib/python3.6/dist-packages/tensorflow/contrib/learn/python/learn/datasets/mnist.py:260: maybe_download (from tensorflow.contrib.learn.python.learn.datasets.base) is deprecated and will be removed in a future version.\n",
            "Instructions for updating:\n",
            "Please write your own downloading logic.\n",
            "WARNING:tensorflow:From /usr/local/lib/python3.6/dist-packages/tensorflow/contrib/learn/python/learn/datasets/mnist.py:262: extract_images (from tensorflow.contrib.learn.python.learn.datasets.mnist) is deprecated and will be removed in a future version.\n",
            "Instructions for updating:\n",
            "Please use tf.data to implement this functionality.\n",
            "Extracting MNIST_data/train-images-idx3-ubyte.gz\n",
            "WARNING:tensorflow:From /usr/local/lib/python3.6/dist-packages/tensorflow/contrib/learn/python/learn/datasets/mnist.py:267: extract_labels (from tensorflow.contrib.learn.python.learn.datasets.mnist) is deprecated and will be removed in a future version.\n",
            "Instructions for updating:\n",
            "Please use tf.data to implement this functionality.\n",
            "Extracting MNIST_data/train-labels-idx1-ubyte.gz\n",
            "WARNING:tensorflow:From /usr/local/lib/python3.6/dist-packages/tensorflow/contrib/learn/python/learn/datasets/mnist.py:110: dense_to_one_hot (from tensorflow.contrib.learn.python.learn.datasets.mnist) is deprecated and will be removed in a future version.\n",
            "Instructions for updating:\n",
            "Please use tf.one_hot on tensors.\n",
            "Extracting MNIST_data/t10k-images-idx3-ubyte.gz\n",
            "Extracting MNIST_data/t10k-labels-idx1-ubyte.gz\n",
            "WARNING:tensorflow:From /usr/local/lib/python3.6/dist-packages/tensorflow/contrib/learn/python/learn/datasets/mnist.py:290: DataSet.__init__ (from tensorflow.contrib.learn.python.learn.datasets.mnist) is deprecated and will be removed in a future version.\n",
            "Instructions for updating:\n",
            "Please use alternatives such as official/mnist/dataset.py from tensorflow/models.\n"
          ],
          "name": "stdout"
        }
      ]
    },
    {
      "metadata": {
        "id": "fklcwdZqtTk8",
        "colab_type": "text"
      },
      "cell_type": "markdown",
      "source": [
        "# Batch Normalization using `tf.layers.batch_normalization`<a id=\"example_1\"></a>\n",
        "\n",
        "This version of the network uses `tf.layers` for almost everything, and expects you to implement batch normalization using [`tf.layers.batch_normalization`](https://www.tensorflow.org/api_docs/python/tf/layers/batch_normalization) "
      ]
    },
    {
      "metadata": {
        "id": "fyZIgfwMtTk-",
        "colab_type": "text"
      },
      "cell_type": "markdown",
      "source": [
        "We'll use the following function to create fully connected layers in our network. We'll create them with the specified number of neurons and a ReLU activation function.\n",
        "\n",
        "This version of the function does not include batch normalization."
      ]
    },
    {
      "metadata": {
        "id": "WzNiL97utTk_",
        "colab_type": "code",
        "colab": {}
      },
      "cell_type": "code",
      "source": [
        "\"\"\"\n",
        "DO NOT MODIFY THIS CELL\n",
        "\"\"\"\n",
        "def fully_connected(prev_layer, num_units):\n",
        "    \"\"\"\n",
        "    Create a fully connectd layer with the given layer as input and the given number of neurons.\n",
        "    \n",
        "    :param prev_layer: Tensor\n",
        "        The Tensor that acts as input into this layer\n",
        "    :param num_units: int\n",
        "        The size of the layer. That is, the number of units, nodes, or neurons.\n",
        "    :returns Tensor\n",
        "        A new fully connected layer\n",
        "    \"\"\"\n",
        "    layer = tf.layers.dense(prev_layer, num_units, activation=tf.nn.relu)\n",
        "    return layer"
      ],
      "execution_count": 0,
      "outputs": []
    },
    {
      "metadata": {
        "id": "wf8tQKyWtTlC",
        "colab_type": "text"
      },
      "cell_type": "markdown",
      "source": [
        "We'll use the following function to create convolutional layers in our network. They are very basic: we're always using a 3x3 kernel, ReLU activation functions, strides of 1x1 on layers with odd depths, and strides of 2x2 on layers with even depths. We aren't bothering with pooling layers at all in this network.\n",
        "\n",
        "This version of the function does not include batch normalization."
      ]
    },
    {
      "metadata": {
        "id": "l1buR9jGtTlD",
        "colab_type": "code",
        "colab": {}
      },
      "cell_type": "code",
      "source": [
        "\"\"\"\n",
        "DO NOT MODIFY THIS CELL\n",
        "\"\"\"\n",
        "def conv_layer(prev_layer, layer_depth):\n",
        "    \"\"\"\n",
        "    Create a convolutional layer with the given layer as input.\n",
        "    \n",
        "    :param prev_layer: Tensor\n",
        "        The Tensor that acts as input into this layer\n",
        "    :param layer_depth: int\n",
        "        We'll set the strides and number of feature maps based on the layer's depth in the network.\n",
        "        This is *not* a good way to make a CNN, but it helps us create this example with very little code.\n",
        "    :returns Tensor\n",
        "        A new convolutional layer\n",
        "    \"\"\"\n",
        "    strides = 2 if layer_depth % 3 == 0 else 1\n",
        "    conv_layer = tf.layers.conv2d(prev_layer, layer_depth*4, 3, strides, 'same', activation=tf.nn.relu)\n",
        "    return conv_layer"
      ],
      "execution_count": 0,
      "outputs": []
    },
    {
      "metadata": {
        "id": "Ok_zLEgstTlF",
        "colab_type": "text"
      },
      "cell_type": "markdown",
      "source": [
        "**Run the following cell**, along with the earlier cells (to load the dataset and define the necessary functions). \n",
        "\n",
        "This cell builds the network **without** batch normalization, then trains it on the MNIST dataset. It displays loss and accuracy data periodically while training."
      ]
    },
    {
      "metadata": {
        "id": "o3gmWl1HtTlG",
        "colab_type": "code",
        "colab": {
          "base_uri": "https://localhost:8080/",
          "height": 629
        },
        "outputId": "df1cc8a4-978d-4747-cfd8-2328c0d3ac81"
      },
      "cell_type": "code",
      "source": [
        "\"\"\"\n",
        "DO NOT MODIFY THIS CELL\n",
        "\"\"\"\n",
        "def train(num_batches, batch_size, learning_rate):\n",
        "    # Build placeholders for the input samples and labels \n",
        "    inputs = tf.placeholder(tf.float32, [None, 28, 28, 1])\n",
        "    labels = tf.placeholder(tf.float32, [None, 10])\n",
        "    \n",
        "    # Feed the inputs into a series of 20 convolutional layers \n",
        "    layer = inputs\n",
        "    for layer_i in range(1, 20):\n",
        "        layer = conv_layer(layer, layer_i)\n",
        "\n",
        "    # Flatten the output from the convolutional layers \n",
        "    orig_shape = layer.get_shape().as_list()\n",
        "    layer = tf.reshape(layer, shape=[-1, orig_shape[1] * orig_shape[2] * orig_shape[3]])\n",
        "\n",
        "    # Add one fully connected layer\n",
        "    layer = fully_connected(layer, 100)\n",
        "\n",
        "    # Create the output layer with 1 node for each \n",
        "    logits = tf.layers.dense(layer, 10)\n",
        "    \n",
        "    # Define loss and training operations\n",
        "    model_loss = tf.reduce_mean(tf.nn.sigmoid_cross_entropy_with_logits(logits=logits, labels=labels))\n",
        "    train_opt = tf.train.AdamOptimizer(learning_rate).minimize(model_loss)\n",
        "    \n",
        "    # Create operations to test accuracy\n",
        "    correct_prediction = tf.equal(tf.argmax(logits,1), tf.argmax(labels,1))\n",
        "    accuracy = tf.reduce_mean(tf.cast(correct_prediction, tf.float32))\n",
        "    \n",
        "    # Train and test the network\n",
        "    with tf.Session() as sess:\n",
        "        sess.run(tf.global_variables_initializer())\n",
        "        for batch_i in range(num_batches):\n",
        "            batch_xs, batch_ys = mnist.train.next_batch(batch_size)\n",
        "\n",
        "            # train this batch\n",
        "            sess.run(train_opt, {inputs: batch_xs, labels: batch_ys})\n",
        "            \n",
        "            # Periodically check the validation or training loss and accuracy\n",
        "            if batch_i % 100 == 0:\n",
        "                loss, acc = sess.run([model_loss, accuracy], {inputs: mnist.validation.images,\n",
        "                                                              labels: mnist.validation.labels})\n",
        "                print('Batch: {:>2}: Validation loss: {:>3.5f}, Validation accuracy: {:>3.5f}'.format(batch_i, loss, acc))\n",
        "            elif batch_i % 25 == 0:\n",
        "                loss, acc = sess.run([model_loss, accuracy], {inputs: batch_xs, labels: batch_ys})\n",
        "                print('Batch: {:>2}: Training loss: {:>3.5f}, Training accuracy: {:>3.5f}'.format(batch_i, loss, acc))\n",
        "\n",
        "        # At the end, score the final accuracy for both the validation and test sets\n",
        "        acc = sess.run(accuracy, {inputs: mnist.validation.images,\n",
        "                                  labels: mnist.validation.labels})\n",
        "        print('Final validation accuracy: {:>3.5f}'.format(acc))\n",
        "        acc = sess.run(accuracy, {inputs: mnist.test.images,\n",
        "                                  labels: mnist.test.labels})\n",
        "        print('Final test accuracy: {:>3.5f}'.format(acc))\n",
        "        \n",
        "        # Score the first 100 test images individually. This won't work if batch normalization isn't implemented correctly.\n",
        "        correct = 0\n",
        "        for i in range(100):\n",
        "            correct += sess.run(accuracy,feed_dict={inputs: [mnist.test.images[i]],\n",
        "                                                    labels: [mnist.test.labels[i]]})\n",
        "\n",
        "        print(\"Accuracy on 100 samples:\", correct/100)\n",
        "\n",
        "\n",
        "num_batches = 800\n",
        "batch_size = 64\n",
        "learning_rate = 0.002\n",
        "\n",
        "tf.reset_default_graph()\n",
        "with tf.Graph().as_default():\n",
        "    train(num_batches, batch_size, learning_rate)"
      ],
      "execution_count": 4,
      "outputs": [
        {
          "output_type": "stream",
          "text": [
            "Batch:  0: Validation loss: 0.69034, Validation accuracy: 0.09760\n",
            "Batch: 25: Training loss: 0.47981, Training accuracy: 0.15625\n",
            "Batch: 50: Training loss: 0.32574, Training accuracy: 0.18750\n",
            "Batch: 75: Training loss: 0.32552, Training accuracy: 0.09375\n",
            "Batch: 100: Validation loss: 0.32561, Validation accuracy: 0.11260\n",
            "Batch: 125: Training loss: 0.32435, Training accuracy: 0.10938\n",
            "Batch: 150: Training loss: 0.32439, Training accuracy: 0.09375\n",
            "Batch: 175: Training loss: 0.32479, Training accuracy: 0.10938\n",
            "Batch: 200: Validation loss: 0.32507, Validation accuracy: 0.11260\n",
            "Batch: 225: Training loss: 0.32818, Training accuracy: 0.10938\n",
            "Batch: 250: Training loss: 0.32689, Training accuracy: 0.06250\n",
            "Batch: 275: Training loss: 0.32373, Training accuracy: 0.06250\n",
            "Batch: 300: Validation loss: 0.32574, Validation accuracy: 0.09860\n",
            "Batch: 325: Training loss: 0.32546, Training accuracy: 0.06250\n",
            "Batch: 350: Training loss: 0.32431, Training accuracy: 0.14062\n",
            "Batch: 375: Training loss: 0.32549, Training accuracy: 0.12500\n",
            "Batch: 400: Validation loss: 0.32537, Validation accuracy: 0.09580\n",
            "Batch: 425: Training loss: 0.32505, Training accuracy: 0.09375\n",
            "Batch: 450: Training loss: 0.32340, Training accuracy: 0.12500\n",
            "Batch: 475: Training loss: 0.32579, Training accuracy: 0.04688\n",
            "Batch: 500: Validation loss: 0.32532, Validation accuracy: 0.11260\n",
            "Batch: 525: Training loss: 0.32526, Training accuracy: 0.10938\n",
            "Batch: 550: Training loss: 0.32589, Training accuracy: 0.09375\n",
            "Batch: 575: Training loss: 0.32625, Training accuracy: 0.09375\n",
            "Batch: 600: Validation loss: 0.32547, Validation accuracy: 0.11260\n",
            "Batch: 625: Training loss: 0.32422, Training accuracy: 0.09375\n",
            "Batch: 650: Training loss: 0.32657, Training accuracy: 0.14062\n",
            "Batch: 675: Training loss: 0.32933, Training accuracy: 0.06250\n",
            "Batch: 700: Validation loss: 0.32535, Validation accuracy: 0.11260\n",
            "Batch: 725: Training loss: 0.32721, Training accuracy: 0.09375\n",
            "Batch: 750: Training loss: 0.32539, Training accuracy: 0.09375\n",
            "Batch: 775: Training loss: 0.32689, Training accuracy: 0.04688\n",
            "Final validation accuracy: 0.09580\n",
            "Final test accuracy: 0.09800\n",
            "Accuracy on 100 samples: 0.08\n"
          ],
          "name": "stdout"
        }
      ]
    },
    {
      "metadata": {
        "id": "AwL6GodhtTlI",
        "colab_type": "text"
      },
      "cell_type": "markdown",
      "source": [
        "With this many layers, it's going to take a lot of iterations for this network to learn. By the time you're done training these 800 batches, your final test and validation accuracies probably won't be much better than 10%. (It will be different each time, but will most likely be less than 15%.)\n",
        "\n",
        "Using batch normalization, you'll be able to train this same network to over 90% in that same number of batches.\n",
        "\n",
        "\n",
        "# Add batch normalization\n",
        "\n",
        "We've copied the previous three cells to get you started. **Edit these cells** to add batch normalization to the network. For this exercise, you should use [`tf.layers.batch_normalization`](https://www.tensorflow.org/api_docs/python/tf/layers/batch_normalization) to handle most of the math, but you'll need to make a few other changes to your network to integrate batch normalization. You may want to refer back to the lesson notebook to remind yourself of important things, like how your graph operations need to know whether or not you are performing training or inference. \n",
        "\n",
        "If you get stuck, you can check out the `Batch_Normalization_Solutions` notebook to see how we did things."
      ]
    },
    {
      "metadata": {
        "id": "9f1B3SC8tTlI",
        "colab_type": "text"
      },
      "cell_type": "markdown",
      "source": [
        "**TODO:** Modify `fully_connected` to add batch normalization to the fully connected layers it creates. Feel free to change the function's parameters if it helps."
      ]
    },
    {
      "metadata": {
        "id": "dWizkO2UtTlJ",
        "colab_type": "code",
        "colab": {}
      },
      "cell_type": "code",
      "source": [
        "def fully_connected(prev_layer, num_units, training):\n",
        "    \"\"\"\n",
        "    Create a fully connectd layer with the given layer as input and the given number of neurons.\n",
        "    \n",
        "    :param prev_layer: Tensor\n",
        "        The Tensor that acts as input into this layer\n",
        "    :param num_units: int\n",
        "        The size of the layer. That is, the number of units, nodes, or neurons.\n",
        "    :returns Tensor\n",
        "        A new fully connected layer\n",
        "    \"\"\"\n",
        "    layer = tf.layers.dense(prev_layer, num_units)\n",
        "    layer = tf.layers.batch_normalization(layer, training=training)\n",
        "    return tf.nn.relu(layer)"
      ],
      "execution_count": 0,
      "outputs": []
    },
    {
      "metadata": {
        "id": "3cTh2MfJtTlL",
        "colab_type": "text"
      },
      "cell_type": "markdown",
      "source": [
        "**TODO:** Modify `conv_layer` to add batch normalization to the convolutional layers it creates. Feel free to change the function's parameters if it helps."
      ]
    },
    {
      "metadata": {
        "id": "GG_Z50pOtTlL",
        "colab_type": "code",
        "colab": {}
      },
      "cell_type": "code",
      "source": [
        "def conv_layer(prev_layer, layer_depth, training):\n",
        "    \"\"\"\n",
        "    Create a convolutional layer with the given layer as input.\n",
        "    \n",
        "    :param prev_layer: Tensor\n",
        "        The Tensor that acts as input into this layer\n",
        "    :param layer_depth: int\n",
        "        We'll set the strides and number of feature maps based on the layer's depth in the network.\n",
        "        This is *not* a good way to make a CNN, but it helps us create this example with very little code.\n",
        "    :returns Tensor\n",
        "        A new convolutional layer\n",
        "    \"\"\"\n",
        "    strides = 2 if layer_depth % 3 == 0 else 1\n",
        "    conv_layer = tf.layers.conv2d(prev_layer, layer_depth*4, 3, strides, 'same')\n",
        "    conv_layer = tf.layers.batch_normalization(conv_layer, training=training)\n",
        "    return tf.nn.relu(conv_layer)"
      ],
      "execution_count": 0,
      "outputs": []
    },
    {
      "metadata": {
        "id": "aOQ_0eQ8tTlN",
        "colab_type": "text"
      },
      "cell_type": "markdown",
      "source": [
        "**TODO:** Edit the `train` function to support batch normalization. You'll need to make sure the network knows whether or not it is training, and you'll need to make sure it updates and uses its population statistics correctly."
      ]
    },
    {
      "metadata": {
        "id": "aTJnzvmwtTlO",
        "colab_type": "code",
        "colab": {
          "base_uri": "https://localhost:8080/",
          "height": 629
        },
        "outputId": "372a8b5a-869a-4160-f3c0-fa18a265b369"
      },
      "cell_type": "code",
      "source": [
        "def train(num_batches, batch_size, learning_rate):\n",
        "    # Build placeholders for the input samples and labels \n",
        "    inputs = tf.placeholder(tf.float32, [None, 28, 28, 1])\n",
        "    labels = tf.placeholder(tf.float32, [None, 10])\n",
        "    training = tf.placeholder(tf.bool)\n",
        "    \n",
        "    # Feed the inputs into a series of 20 convolutional layers \n",
        "    layer = inputs\n",
        "    for layer_i in range(1, 20):\n",
        "        layer = conv_layer(layer, layer_i, training)\n",
        "\n",
        "    # Flatten the output from the convolutional layers \n",
        "    orig_shape = layer.get_shape().as_list()\n",
        "    layer = tf.reshape(layer, shape=[-1, orig_shape[1] * orig_shape[2] * orig_shape[3]])\n",
        "\n",
        "    # Add one fully connected layer\n",
        "    layer = fully_connected(layer, 100, training)\n",
        "\n",
        "    # Create the output layer with 1 node for each \n",
        "    logits = tf.layers.dense(layer, 10)\n",
        "    \n",
        "    # Define loss and training operations\n",
        "    model_loss = tf.reduce_mean(tf.nn.sigmoid_cross_entropy_with_logits(logits=logits, labels=labels))\n",
        "    with tf.control_dependencies(tf.get_collection(tf.GraphKeys.UPDATE_OPS)):\n",
        "        train_opt = tf.train.AdamOptimizer(learning_rate).minimize(model_loss)\n",
        "    \n",
        "    # Create operations to test accuracy\n",
        "    correct_prediction = tf.equal(tf.argmax(logits,1), tf.argmax(labels,1))\n",
        "    accuracy = tf.reduce_mean(tf.cast(correct_prediction, tf.float32))\n",
        "    \n",
        "    # Train and test the network\n",
        "    with tf.Session() as sess:\n",
        "        sess.run(tf.global_variables_initializer())\n",
        "        for batch_i in range(num_batches):\n",
        "            batch_xs, batch_ys = mnist.train.next_batch(batch_size)\n",
        "\n",
        "            # train this batch\n",
        "            sess.run(train_opt, {inputs: batch_xs, labels: batch_ys, training: True})\n",
        "            \n",
        "            # Periodically check the validation or training loss and accuracy\n",
        "            if batch_i % 100 == 0:\n",
        "                loss, acc = sess.run([model_loss, accuracy], {inputs: mnist.validation.images,\n",
        "                                                              labels: mnist.validation.labels,\n",
        "                                                              training: False})\n",
        "                print('Batch: {:>2}: Validation loss: {:>3.5f}, Validation accuracy: {:>3.5f}'.format(batch_i, loss, acc))\n",
        "            elif batch_i % 25 == 0:\n",
        "                loss, acc = sess.run([model_loss, accuracy], {inputs: batch_xs, labels: batch_ys, training: False})\n",
        "                print('Batch: {:>2}: Training loss: {:>3.5f}, Training accuracy: {:>3.5f}'.format(batch_i, loss, acc))\n",
        "\n",
        "        # At the end, score the final accuracy for both the validation and test sets\n",
        "        acc = sess.run(accuracy, {inputs: mnist.validation.images,\n",
        "                                  labels: mnist.validation.labels,\n",
        "                                  training: False})\n",
        "        print('Final validation accuracy: {:>3.5f}'.format(acc))\n",
        "        acc = sess.run(accuracy, {inputs: mnist.test.images,\n",
        "                                  labels: mnist.test.labels,\n",
        "                                  training: False})\n",
        "        print('Final test accuracy: {:>3.5f}'.format(acc))\n",
        "        \n",
        "        # Score the first 100 test images individually. This won't work if batch normalization isn't implemented correctly.\n",
        "        correct = 0\n",
        "        for i in range(100):\n",
        "            correct += sess.run(accuracy,feed_dict={inputs: [mnist.test.images[i]],\n",
        "                                                    labels: [mnist.test.labels[i]],\n",
        "                                                    training: False})\n",
        "\n",
        "        print(\"Accuracy on 100 samples:\", correct/100)\n",
        "\n",
        "\n",
        "num_batches = 800\n",
        "batch_size = 64\n",
        "learning_rate = 0.002\n",
        "\n",
        "tf.reset_default_graph()\n",
        "with tf.Graph().as_default():\n",
        "    train(num_batches, batch_size, learning_rate)"
      ],
      "execution_count": 7,
      "outputs": [
        {
          "output_type": "stream",
          "text": [
            "Batch:  0: Validation loss: 0.68979, Validation accuracy: 0.10020\n",
            "Batch: 25: Training loss: 0.56259, Training accuracy: 0.04688\n",
            "Batch: 50: Training loss: 0.45900, Training accuracy: 0.04688\n",
            "Batch: 75: Training loss: 0.39485, Training accuracy: 0.06250\n",
            "Batch: 100: Validation loss: 0.35451, Validation accuracy: 0.10700\n",
            "Batch: 125: Training loss: 0.34596, Training accuracy: 0.12500\n",
            "Batch: 150: Training loss: 0.31756, Training accuracy: 0.18750\n",
            "Batch: 175: Training loss: 0.31400, Training accuracy: 0.31250\n",
            "Batch: 200: Validation loss: 0.28605, Validation accuracy: 0.32840\n",
            "Batch: 225: Training loss: 0.15683, Training accuracy: 0.76562\n",
            "Batch: 250: Training loss: 0.10440, Training accuracy: 0.89062\n",
            "Batch: 275: Training loss: 0.07204, Training accuracy: 0.92188\n",
            "Batch: 300: Validation loss: 0.07387, Validation accuracy: 0.88440\n",
            "Batch: 325: Training loss: 0.07162, Training accuracy: 0.87500\n",
            "Batch: 350: Training loss: 0.10322, Training accuracy: 0.84375\n",
            "Batch: 375: Training loss: 0.03377, Training accuracy: 0.95312\n",
            "Batch: 400: Validation loss: 0.04217, Validation accuracy: 0.93960\n",
            "Batch: 425: Training loss: 0.08857, Training accuracy: 0.90625\n",
            "Batch: 450: Training loss: 0.04594, Training accuracy: 0.95312\n",
            "Batch: 475: Training loss: 0.01692, Training accuracy: 0.96875\n",
            "Batch: 500: Validation loss: 0.03009, Validation accuracy: 0.95680\n",
            "Batch: 525: Training loss: 0.01755, Training accuracy: 0.95312\n",
            "Batch: 550: Training loss: 0.04173, Training accuracy: 0.93750\n",
            "Batch: 575: Training loss: 0.02395, Training accuracy: 0.96875\n",
            "Batch: 600: Validation loss: 0.03606, Validation accuracy: 0.95180\n",
            "Batch: 625: Training loss: 0.01857, Training accuracy: 0.98438\n",
            "Batch: 650: Training loss: 0.07818, Training accuracy: 0.90625\n",
            "Batch: 675: Training loss: 0.11024, Training accuracy: 0.89062\n",
            "Batch: 700: Validation loss: 0.03128, Validation accuracy: 0.95540\n",
            "Batch: 725: Training loss: 0.01946, Training accuracy: 0.95312\n",
            "Batch: 750: Training loss: 0.04824, Training accuracy: 0.95312\n",
            "Batch: 775: Training loss: 0.01583, Training accuracy: 0.96875\n",
            "Final validation accuracy: 0.96600\n",
            "Final test accuracy: 0.96300\n",
            "Accuracy on 100 samples: 0.99\n"
          ],
          "name": "stdout"
        }
      ]
    },
    {
      "metadata": {
        "id": "BY6zL4_5tTlP",
        "colab_type": "text"
      },
      "cell_type": "markdown",
      "source": [
        "With batch normalization, you should now get an accuracy over 90%. Notice also the last line of the output: `Accuracy on 100 samples`. If this value is low while everything else looks good, that means you did not implement batch normalization correctly. Specifically, it means you either did not calculate the population mean and variance while training, or you are not using those values during inference.\n",
        "\n",
        "# Batch Normalization using `tf.nn.batch_normalization`<a id=\"example_2\"></a>\n",
        "\n",
        "Most of the time you will be able to use higher level functions exclusively, but sometimes you may want to work at a lower level. For example, if you ever want to implement a new feature – something new enough that TensorFlow does not already include a high-level implementation of it, like batch normalization in an LSTM – then you may need to know these sorts of things.\n",
        "\n",
        "This version of the network uses `tf.nn` for almost everything, and expects you to implement batch normalization using [`tf.nn.batch_normalization`](https://www.tensorflow.org/api_docs/python/tf/nn/batch_normalization).\n",
        "\n",
        "**Optional TODO:** You can run the next three cells before you edit them just to see how the network performs without batch normalization. However, the results should be pretty much the same as you saw with the previous example before you added batch normalization. \n",
        "\n",
        "**TODO:** Modify `fully_connected` to add batch normalization to the fully connected layers it creates. Feel free to change the function's parameters if it helps.\n",
        "\n",
        "**Note:** For convenience, we continue to use `tf.layers.dense` for the `fully_connected` layer. By this point in the class, you should have no problem replacing that with matrix operations between the `prev_layer` and explicit weights and biases variables."
      ]
    },
    {
      "metadata": {
        "id": "K7cIWqvktTlQ",
        "colab_type": "code",
        "colab": {}
      },
      "cell_type": "code",
      "source": [
        "def fully_connected(prev_layer, num_units, training):\n",
        "    \"\"\"\n",
        "    Create a fully connectd layer with the given layer as input and the given number of neurons.\n",
        "    \n",
        "    :param prev_layer: Tensor\n",
        "        The Tensor that acts as input into this layer\n",
        "    :param num_units: int\n",
        "        The size of the layer. That is, the number of units, nodes, or neurons.\n",
        "    :returns Tensor\n",
        "        A new fully connected layer\n",
        "    \"\"\"\n",
        "    layer = tf.layers.dense(prev_layer, num_units, activation=tf.nn.relu)\n",
        "    \n",
        "    # batch normalization\n",
        "    global_mean = tf.Variable(tf.zeros([1, num_units]))\n",
        "    global_var = tf.Variable(tf.ones([1, num_units]))\n",
        "    \n",
        "    gamma = tf.Variable(tf.ones([1, num_units]))\n",
        "    beta = tf.Variable(tf.zeros([1, num_units]))\n",
        "    \n",
        "    epsilon = 1e-3\n",
        "    \n",
        "    def batch_norm_training():\n",
        "        batch_mean, batch_var = tf.nn.moments(layer, [0], keep_dims=True)\n",
        "        \n",
        "        decay=0.9\n",
        "        new_mean = tf.assign(global_mean, decay * global_mean + (1 - decay) * batch_mean)\n",
        "        new_var = tf.assign(global_var, decay * global_var + (1 - decay) * batch_var)\n",
        "        \n",
        "        with tf.control_dependencies([new_mean, new_var]):\n",
        "            return tf.nn.batch_normalization(layer, batch_mean, batch_var, beta, gamma, epsilon)\n",
        "    \n",
        "    def batch_norm_inference():\n",
        "        return tf.nn.batch_normalization(layer, global_mean, global_var, beta, gamma, epsilon)\n",
        "    \n",
        "    layer = tf.cond(training, batch_norm_training, batch_norm_inference)\n",
        "    return tf.nn.relu(layer)"
      ],
      "execution_count": 0,
      "outputs": []
    },
    {
      "metadata": {
        "id": "bpmAPi8AtTlS",
        "colab_type": "text"
      },
      "cell_type": "markdown",
      "source": [
        "**TODO:** Modify `conv_layer` to add batch normalization to the fully connected layers it creates. Feel free to change the function's parameters if it helps.\n",
        "\n",
        "**Note:** Unlike in the previous example that used `tf.layers`, adding batch normalization to these convolutional layers _does_ require some slight differences to what you did in `fully_connected`. "
      ]
    },
    {
      "metadata": {
        "id": "YeOx8GWstTlT",
        "colab_type": "code",
        "colab": {}
      },
      "cell_type": "code",
      "source": [
        "def conv_layer(prev_layer, layer_depth, training):\n",
        "    \"\"\"\n",
        "    Create a convolutional layer with the given layer as input.\n",
        "    \n",
        "    :param prev_layer: Tensor\n",
        "        The Tensor that acts as input into this layer\n",
        "    :param layer_depth: int\n",
        "        We'll set the strides and number of feature maps based on the layer's depth in the network.\n",
        "        This is *not* a good way to make a CNN, but it helps us create this example with very little code.\n",
        "    :returns Tensor\n",
        "        A new convolutional layer\n",
        "    \"\"\"\n",
        "    strides = 2 if layer_depth % 3 == 0 else 1\n",
        "\n",
        "    in_channels = prev_layer.get_shape().as_list()[3]\n",
        "    out_channels = layer_depth*4\n",
        "    \n",
        "    weights = tf.Variable(\n",
        "        tf.truncated_normal([3, 3, in_channels, out_channels], stddev=0.05))\n",
        "    \n",
        "    bias = tf.Variable(tf.zeros(out_channels))\n",
        "\n",
        "    conv_layer = tf.nn.conv2d(prev_layer, weights, strides=[1,strides, strides, 1], padding='SAME')\n",
        "    conv_layer = tf.nn.bias_add(conv_layer, bias)\n",
        "    \n",
        "    # batch normalization\n",
        "    global_mean = tf.Variable(tf.zeros([1, 1, 1, out_channels]))\n",
        "    global_var = tf.Variable(tf.ones([1, 1, 1, out_channels]))\n",
        "    \n",
        "    gamma = tf.Variable(tf.ones([1, 1, 1, out_channels]))\n",
        "    beta = tf.Variable(tf.zeros([1, 1, 1, out_channels]))\n",
        "    \n",
        "    epsilon = 1e-3\n",
        "    \n",
        "    def batch_norm_training():\n",
        "        batch_mean, batch_var = tf.nn.moments(conv_layer, [0, 1, 2], keep_dims=True)\n",
        "        \n",
        "        decay=0.9\n",
        "        new_mean = tf.assign(global_mean, decay * global_mean + (1 - decay) * batch_mean)\n",
        "        new_var = tf.assign(global_var, decay * global_var + (1 - decay) * batch_var)\n",
        "        \n",
        "        with tf.control_dependencies([new_mean, new_var]):\n",
        "            return tf.nn.batch_normalization(conv_layer, batch_mean, batch_var, beta, gamma, epsilon)\n",
        "    \n",
        "    def batch_norm_inference():\n",
        "        return tf.nn.batch_normalization(conv_layer, global_mean, global_var, beta, gamma, epsilon)\n",
        "    \n",
        "    conv_layer = tf.cond(training, batch_norm_training, batch_norm_inference)\n",
        "\n",
        "    return tf.nn.relu(conv_layer)"
      ],
      "execution_count": 0,
      "outputs": []
    },
    {
      "metadata": {
        "id": "8vyRO5SAtTlU",
        "colab_type": "text"
      },
      "cell_type": "markdown",
      "source": [
        "**TODO:** Edit the `train` function to support batch normalization. You'll need to make sure the network knows whether or not it is training."
      ]
    },
    {
      "metadata": {
        "id": "f_gr0acvtTlU",
        "colab_type": "code",
        "colab": {
          "base_uri": "https://localhost:8080/",
          "height": 629
        },
        "outputId": "7c01bcf7-39f3-4500-e3a1-8e4a2bbcc5a1"
      },
      "cell_type": "code",
      "source": [
        "def train(num_batches, batch_size, learning_rate):\n",
        "    # Build placeholders for the input samples and labels \n",
        "    inputs = tf.placeholder(tf.float32, [None, 28, 28, 1])\n",
        "    labels = tf.placeholder(tf.float32, [None, 10])\n",
        "    training = tf.placeholder(tf.bool)\n",
        "    \n",
        "    # Feed the inputs into a series of 20 convolutional layers \n",
        "    layer = inputs\n",
        "    for layer_i in range(1, 20):\n",
        "        layer = conv_layer(layer, layer_i, training)\n",
        "\n",
        "    # Flatten the output from the convolutional layers \n",
        "    orig_shape = layer.get_shape().as_list()\n",
        "    layer = tf.reshape(layer, shape=[-1, orig_shape[1] * orig_shape[2] * orig_shape[3]])\n",
        "\n",
        "    # Add one fully connected layer\n",
        "    layer = fully_connected(layer, 100, training)\n",
        "\n",
        "    # Create the output layer with 1 node for each \n",
        "    logits = tf.layers.dense(layer, 10)\n",
        "    \n",
        "    # Define loss and training operations\n",
        "    model_loss = tf.reduce_mean(tf.nn.sigmoid_cross_entropy_with_logits(logits=logits, labels=labels))\n",
        "    train_opt = tf.train.AdamOptimizer(learning_rate).minimize(model_loss)\n",
        "    \n",
        "    # Create operations to test accuracy\n",
        "    correct_prediction = tf.equal(tf.argmax(logits,1), tf.argmax(labels,1))\n",
        "    accuracy = tf.reduce_mean(tf.cast(correct_prediction, tf.float32))\n",
        "    \n",
        "    # Train and test the network\n",
        "    with tf.Session() as sess:\n",
        "        sess.run(tf.global_variables_initializer())\n",
        "        for batch_i in range(num_batches):\n",
        "            batch_xs, batch_ys = mnist.train.next_batch(batch_size)\n",
        "\n",
        "            # train this batch\n",
        "            sess.run(train_opt, {inputs: batch_xs, labels: batch_ys, training: True})\n",
        "            \n",
        "            # Periodically check the validation or training loss and accuracy\n",
        "            if batch_i % 100 == 0:\n",
        "                loss, acc = sess.run([model_loss, accuracy], {inputs: mnist.validation.images,\n",
        "                                                              labels: mnist.validation.labels,\n",
        "                                                              training: False})\n",
        "                print('Batch: {:>2}: Validation loss: {:>3.5f}, Validation accuracy: {:>3.5f}'.format(batch_i, loss, acc))\n",
        "            elif batch_i % 25 == 0:\n",
        "                loss, acc = sess.run([model_loss, accuracy], {inputs: batch_xs, labels: batch_ys, training: False})\n",
        "                print('Batch: {:>2}: Training loss: {:>3.5f}, Training accuracy: {:>3.5f}'.format(batch_i, loss, acc))\n",
        "\n",
        "        # At the end, score the final accuracy for both the validation and test sets\n",
        "        acc = sess.run(accuracy, {inputs: mnist.validation.images,\n",
        "                                  labels: mnist.validation.labels,\n",
        "                                  training: False})\n",
        "        print('Final validation accuracy: {:>3.5f}'.format(acc))\n",
        "        acc = sess.run(accuracy, {inputs: mnist.test.images,\n",
        "                                  labels: mnist.test.labels,\n",
        "                                  training: False})\n",
        "        print('Final test accuracy: {:>3.5f}'.format(acc))\n",
        "        \n",
        "        # Score the first 100 test images individually. This won't work if batch normalization isn't implemented correctly.\n",
        "        correct = 0\n",
        "        for i in range(100):\n",
        "            correct += sess.run(accuracy,feed_dict={inputs: [mnist.test.images[i]],\n",
        "                                                    labels: [mnist.test.labels[i]],\n",
        "                                                    training: False})\n",
        "\n",
        "        print(\"Accuracy on 100 samples:\", correct/100)\n",
        "\n",
        "\n",
        "num_batches = 800\n",
        "batch_size = 64\n",
        "learning_rate = 0.002\n",
        "\n",
        "tf.reset_default_graph()\n",
        "with tf.Graph().as_default():\n",
        "    train(num_batches, batch_size, learning_rate)"
      ],
      "execution_count": 14,
      "outputs": [
        {
          "output_type": "stream",
          "text": [
            "Batch:  0: Validation loss: 0.69183, Validation accuracy: 0.09240\n",
            "Batch: 25: Training loss: 0.44541, Training accuracy: 0.03125\n",
            "Batch: 50: Training loss: 0.56610, Training accuracy: 0.07812\n",
            "Batch: 75: Training loss: 0.14074, Training accuracy: 0.79688\n",
            "Batch: 100: Validation loss: 0.09563, Validation accuracy: 0.83040\n",
            "Batch: 125: Training loss: 0.04442, Training accuracy: 0.93750\n",
            "Batch: 150: Training loss: 0.09791, Training accuracy: 0.84375\n",
            "Batch: 175: Training loss: 0.04860, Training accuracy: 0.90625\n",
            "Batch: 200: Validation loss: 0.05496, Validation accuracy: 0.90720\n",
            "Batch: 225: Training loss: 0.05600, Training accuracy: 0.90625\n",
            "Batch: 250: Training loss: 0.02815, Training accuracy: 0.93750\n",
            "Batch: 275: Training loss: 0.07596, Training accuracy: 0.87500\n",
            "Batch: 300: Validation loss: 0.03613, Validation accuracy: 0.94220\n",
            "Batch: 325: Training loss: 0.03404, Training accuracy: 0.90625\n",
            "Batch: 350: Training loss: 0.06715, Training accuracy: 0.89062\n",
            "Batch: 375: Training loss: 0.01416, Training accuracy: 0.98438\n",
            "Batch: 400: Validation loss: 0.03412, Validation accuracy: 0.94840\n",
            "Batch: 425: Training loss: 0.01133, Training accuracy: 0.98438\n",
            "Batch: 450: Training loss: 0.02403, Training accuracy: 0.96875\n",
            "Batch: 475: Training loss: 0.04476, Training accuracy: 0.92188\n",
            "Batch: 500: Validation loss: 0.02577, Validation accuracy: 0.95880\n",
            "Batch: 525: Training loss: 0.00914, Training accuracy: 0.98438\n",
            "Batch: 550: Training loss: 0.04920, Training accuracy: 0.87500\n",
            "Batch: 575: Training loss: 0.05246, Training accuracy: 0.89062\n",
            "Batch: 600: Validation loss: 0.01984, Validation accuracy: 0.97020\n",
            "Batch: 625: Training loss: 0.03049, Training accuracy: 0.93750\n",
            "Batch: 650: Training loss: 0.01183, Training accuracy: 0.98438\n",
            "Batch: 675: Training loss: 0.06165, Training accuracy: 0.92188\n",
            "Batch: 700: Validation loss: 0.02327, Validation accuracy: 0.96520\n",
            "Batch: 725: Training loss: 0.02445, Training accuracy: 0.98438\n",
            "Batch: 750: Training loss: 0.01209, Training accuracy: 0.96875\n",
            "Batch: 775: Training loss: 0.01403, Training accuracy: 0.96875\n",
            "Final validation accuracy: 0.97420\n",
            "Final test accuracy: 0.97560\n",
            "Accuracy on 100 samples: 0.99\n"
          ],
          "name": "stdout"
        }
      ]
    },
    {
      "metadata": {
        "id": "DpqfzYlutTlV",
        "colab_type": "text"
      },
      "cell_type": "markdown",
      "source": [
        "Once again, the model with batch normalization should reach an accuracy over 90%. There are plenty of details that can go wrong when implementing at this low level, so if you got it working - great job! If not, do not worry, just look at the `Batch_Normalization_Solutions` notebook to see what went wrong."
      ]
    }
  ]
}