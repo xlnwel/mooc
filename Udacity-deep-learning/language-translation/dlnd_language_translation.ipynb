{
  "nbformat": 4,
  "nbformat_minor": 0,
  "metadata": {
    "colab": {
      "name": "dlnd_language_translation.ipynb",
      "version": "0.3.2",
      "provenance": []
    },
    "kernelspec": {
      "display_name": "Python 3",
      "language": "python",
      "name": "python3"
    },
    "accelerator": "GPU"
  },
  "cells": [
    {
      "metadata": {
        "id": "lWJF0ByS1U-4",
        "colab_type": "text"
      },
      "cell_type": "markdown",
      "source": [
        "# Language Translation\n",
        "In this project, you’re going to take a peek into the realm of neural network machine translation.  You’ll be training a sequence to sequence model on a dataset of English and French sentences that can translate new sentences from English to French.\n",
        "## Get the Data\n",
        "Since translating the whole language of English to French will take lots of time to train, we have provided you with a small portion of the English corpus."
      ]
    },
    {
      "metadata": {
        "id": "0Te7pdYN1U-6",
        "colab_type": "code",
        "colab": {
          "base_uri": "https://localhost:8080/",
          "height": 153
        },
        "outputId": "f7296c09-ad5b-453e-c7ed-6939236edbe7"
      },
      "cell_type": "code",
      "source": [
        "\"\"\"\n",
        "DON'T MODIFY ANYTHING IN THIS CELL\n",
        "\"\"\"\n",
        "!git clone https://github.com/xlnwel/deep-learning.git\n",
        "%cd deep-learning/language-translation\n",
        "import helper\n",
        "import problem_unittests as tests\n",
        "\n",
        "source_path = 'data/small_vocab_en'\n",
        "target_path = 'data/small_vocab_fr'\n",
        "source_text = helper.load_data(source_path)\n",
        "target_text = helper.load_data(target_path)"
      ],
      "execution_count": 1,
      "outputs": [
        {
          "output_type": "stream",
          "text": [
            "Cloning into 'deep-learning'...\n",
            "remote: Counting objects: 1554, done.\u001b[K\n",
            "remote: Compressing objects: 100% (87/87), done.\u001b[K\n",
            "remote: Total 1554 (delta 29), reused 13 (delta 5), pack-reused 1462\u001b[K\n",
            "Receiving objects: 100% (1554/1554), 81.07 MiB | 36.78 MiB/s, done.\n",
            "Resolving deltas: 100% (647/647), done.\n",
            "/content/deep-learning/language-translation\n"
          ],
          "name": "stdout"
        }
      ]
    },
    {
      "metadata": {
        "id": "CGCDUTpc1U--",
        "colab_type": "text"
      },
      "cell_type": "markdown",
      "source": [
        "## Explore the Data\n",
        "Play around with view_sentence_range to view different parts of the data."
      ]
    },
    {
      "metadata": {
        "id": "csZ0wAdE1U-_",
        "colab_type": "code",
        "colab": {
          "base_uri": "https://localhost:8080/",
          "height": 510
        },
        "outputId": "3d87f202-249b-40b1-e261-603208d2b56d"
      },
      "cell_type": "code",
      "source": [
        "view_sentence_range = (0, 10)\n",
        "\n",
        "\"\"\"\n",
        "DON'T MODIFY ANYTHING IN THIS CELL\n",
        "\"\"\"\n",
        "import numpy as np\n",
        "\n",
        "print('Dataset Stats')\n",
        "print('Roughly the number of unique words: {}'.format(len({word: None for word in source_text.split()})))\n",
        "\n",
        "sentences = source_text.split('\\n')\n",
        "word_counts = [len(sentence.split()) for sentence in sentences]\n",
        "print('Number of sentences: {}'.format(len(sentences)))\n",
        "print('Average number of words in a sentence: {}'.format(np.average(word_counts)))\n",
        "\n",
        "print()\n",
        "print('English sentences {} to {}:'.format(*view_sentence_range))\n",
        "print('\\n'.join(source_text.split('\\n')[view_sentence_range[0]:view_sentence_range[1]]))\n",
        "print()\n",
        "print('French sentences {} to {}:'.format(*view_sentence_range))\n",
        "print('\\n'.join(target_text.split('\\n')[view_sentence_range[0]:view_sentence_range[1]]))"
      ],
      "execution_count": 2,
      "outputs": [
        {
          "output_type": "stream",
          "text": [
            "Dataset Stats\n",
            "Roughly the number of unique words: 227\n",
            "Number of sentences: 137861\n",
            "Average number of words in a sentence: 13.225277634719028\n",
            "\n",
            "English sentences 0 to 10:\n",
            "new jersey is sometimes quiet during autumn , and it is snowy in april .\n",
            "the united states is usually chilly during july , and it is usually freezing in november .\n",
            "california is usually quiet during march , and it is usually hot in june .\n",
            "the united states is sometimes mild during june , and it is cold in september .\n",
            "your least liked fruit is the grape , but my least liked is the apple .\n",
            "his favorite fruit is the orange , but my favorite is the grape .\n",
            "paris is relaxing during december , but it is usually chilly in july .\n",
            "new jersey is busy during spring , and it is never hot in march .\n",
            "our least liked fruit is the lemon , but my least liked is the grape .\n",
            "the united states is sometimes busy during january , and it is sometimes warm in november .\n",
            "\n",
            "French sentences 0 to 10:\n",
            "new jersey est parfois calme pendant l' automne , et il est neigeux en avril .\n",
            "les états-unis est généralement froid en juillet , et il gèle habituellement en novembre .\n",
            "california est généralement calme en mars , et il est généralement chaud en juin .\n",
            "les états-unis est parfois légère en juin , et il fait froid en septembre .\n",
            "votre moins aimé fruit est le raisin , mais mon moins aimé est la pomme .\n",
            "son fruit préféré est l'orange , mais mon préféré est le raisin .\n",
            "paris est relaxant en décembre , mais il est généralement froid en juillet .\n",
            "new jersey est occupé au printemps , et il est jamais chaude en mars .\n",
            "notre fruit est moins aimé le citron , mais mon moins aimé est le raisin .\n",
            "les états-unis est parfois occupé en janvier , et il est parfois chaud en novembre .\n"
          ],
          "name": "stdout"
        }
      ]
    },
    {
      "metadata": {
        "id": "KuRtutPe1U_D",
        "colab_type": "text"
      },
      "cell_type": "markdown",
      "source": [
        "## Implement Preprocessing Function\n",
        "### Text to Word Ids\n",
        "As you did with other RNNs, you must turn the text into a number so the computer can understand it. In the function `text_to_ids()`, you'll turn `source_text` and `target_text` from words to ids.  However, you need to add the `<EOS>` word id at the end of `target_text`.  This will help the neural network predict when the sentence should end.\n",
        "\n",
        "You can get the `<EOS>` word id by doing:\n",
        "```python\n",
        "target_vocab_to_int['<EOS>']\n",
        "```\n",
        "You can get other word ids using `source_vocab_to_int` and `target_vocab_to_int`."
      ]
    },
    {
      "metadata": {
        "id": "yebsB-X21U_E",
        "colab_type": "code",
        "colab": {
          "base_uri": "https://localhost:8080/",
          "height": 51
        },
        "outputId": "8de0d54c-0669-4cf8-9a9b-6070761d4895"
      },
      "cell_type": "code",
      "source": [
        "def text_to_ids(source_text, target_text, source_vocab_to_int, target_vocab_to_int):\n",
        "    \"\"\"\n",
        "    Convert source and target text to proper word ids\n",
        "    :param source_text: String that contains all the source text.\n",
        "    :param target_text: String that contains all the target text.\n",
        "    :param source_vocab_to_int: Dictionary to go from the source words to an id\n",
        "    :param target_vocab_to_int: Dictionary to go from the target words to an id\n",
        "    :return: A tuple of lists (source_id_text, target_id_text)\n",
        "    \"\"\"\n",
        "    # TODO: Implement Function\n",
        "    source_id_text = [[source_vocab_to_int[w] for w in s.split()] for s in source_text.split('\\n')]\n",
        "    target_id_text = [[target_vocab_to_int[w] for w in s.split()] for s in target_text.split('\\n')]\n",
        "    for s in target_id_text:\n",
        "        s.append(target_vocab_to_int['<EOS>'])\n",
        "    return source_id_text, target_id_text\n",
        "\n",
        "\"\"\"\n",
        "DON'T MODIFY ANYTHING IN THIS CELL THAT IS BELOW THIS LINE\n",
        "\"\"\"\n",
        "tests.test_text_to_ids(text_to_ids)"
      ],
      "execution_count": 3,
      "outputs": [
        {
          "output_type": "stream",
          "text": [
            "Tests Passed\n"
          ],
          "name": "stdout"
        }
      ]
    },
    {
      "metadata": {
        "id": "b37aOrhu1U_H",
        "colab_type": "text"
      },
      "cell_type": "markdown",
      "source": [
        "### Preprocess all the data and save it\n",
        "Running the code cell below will preprocess all the data and save it to file."
      ]
    },
    {
      "metadata": {
        "id": "clFWRGlk1U_I",
        "colab_type": "code",
        "colab": {}
      },
      "cell_type": "code",
      "source": [
        "\"\"\"\n",
        "DON'T MODIFY ANYTHING IN THIS CELL\n",
        "\"\"\"\n",
        "helper.preprocess_and_save_data(source_path, target_path, text_to_ids)"
      ],
      "execution_count": 0,
      "outputs": []
    },
    {
      "metadata": {
        "id": "jIfF5d9t1U_L",
        "colab_type": "text"
      },
      "cell_type": "markdown",
      "source": [
        "# Check Point\n",
        "This is your first checkpoint. If you ever decide to come back to this notebook or have to restart the notebook, you can start from here. The preprocessed data has been saved to disk."
      ]
    },
    {
      "metadata": {
        "id": "7A4eqDSo1U_M",
        "colab_type": "code",
        "colab": {}
      },
      "cell_type": "code",
      "source": [
        "\"\"\"\n",
        "DON'T MODIFY ANYTHING IN THIS CELL\n",
        "\"\"\"\n",
        "import numpy as np\n",
        "import helper\n",
        "import problem_unittests as tests\n",
        "\n",
        "(source_int_text, target_int_text), (source_vocab_to_int, target_vocab_to_int), _ = helper.load_preprocess()"
      ],
      "execution_count": 0,
      "outputs": []
    },
    {
      "metadata": {
        "id": "YJdv1Pda1U_P",
        "colab_type": "text"
      },
      "cell_type": "markdown",
      "source": [
        "### Check the Version of TensorFlow and Access to GPU\n",
        "This will check to make sure you have the correct version of TensorFlow and access to a GPU"
      ]
    },
    {
      "metadata": {
        "id": "MHlhduxT1U_Q",
        "colab_type": "code",
        "colab": {
          "base_uri": "https://localhost:8080/",
          "height": 68
        },
        "outputId": "bfbf3067-c988-4ce0-f6c4-8fc636388b03"
      },
      "cell_type": "code",
      "source": [
        "\"\"\"\n",
        "DON'T MODIFY ANYTHING IN THIS CELL\n",
        "\"\"\"\n",
        "from distutils.version import LooseVersion\n",
        "import warnings\n",
        "import tensorflow as tf\n",
        "from tensorflow.python.layers.core import Dense\n",
        "\n",
        "# Check TensorFlow Version\n",
        "assert LooseVersion(tf.__version__) >= LooseVersion('1.1'), 'Please use TensorFlow version 1.1 or newer'\n",
        "print('TensorFlow Version: {}'.format(tf.__version__))\n",
        "\n",
        "# Check for a GPU\n",
        "if not tf.test.gpu_device_name():\n",
        "    warnings.warn('No GPU found. Please use a GPU to train your neural network.')\n",
        "else:\n",
        "    print('Default GPU Device: {}'.format(tf.test.gpu_device_name()))"
      ],
      "execution_count": 6,
      "outputs": [
        {
          "output_type": "stream",
          "text": [
            "TensorFlow Version: 1.10.0\n",
            "Default GPU Device: /device:GPU:0\n"
          ],
          "name": "stdout"
        }
      ]
    },
    {
      "metadata": {
        "id": "H5nYDzfq1U_S",
        "colab_type": "text"
      },
      "cell_type": "markdown",
      "source": [
        "## Build the Neural Network\n",
        "You'll build the components necessary to build a Sequence-to-Sequence model by implementing the following functions below:\n",
        "- `model_inputs`\n",
        "- `process_decoder_input`\n",
        "- `encoding_layer`\n",
        "- `decoding_layer_train`\n",
        "- `decoding_layer_infer`\n",
        "- `decoding_layer`\n",
        "- `seq2seq_model`\n",
        "\n",
        "### Input\n",
        "Implement the `model_inputs()` function to create TF Placeholders for the Neural Network. It should create the following placeholders:\n",
        "\n",
        "- Input text placeholder named \"input\" using the TF Placeholder name parameter with rank 2.\n",
        "- Targets placeholder with rank 2.\n",
        "- Learning rate placeholder with rank 0.\n",
        "- Keep probability placeholder named \"keep_prob\" using the TF Placeholder name parameter with rank 0.\n",
        "- Target sequence length placeholder named \"target_sequence_length\" with rank 1\n",
        "- Max target sequence length tensor named \"max_target_len\" getting its value from applying tf.reduce_max on the target_sequence_length placeholder. Rank 0.\n",
        "- Source sequence length placeholder named \"source_sequence_length\" with rank 1\n",
        "\n",
        "Return the placeholders in the following the tuple (input, targets, learning rate, keep probability, target sequence length, max target sequence length, source sequence length)"
      ]
    },
    {
      "metadata": {
        "id": "WziOK6cF1U_S",
        "colab_type": "code",
        "colab": {
          "base_uri": "https://localhost:8080/",
          "height": 51
        },
        "outputId": "3a611c6a-f6ef-41a9-fdc3-5fd1e9cfaa1f"
      },
      "cell_type": "code",
      "source": [
        "def model_inputs():\n",
        "    \"\"\"\n",
        "    Create TF Placeholders for input, targets, learning rate, and lengths of source and target sequences.\n",
        "    :return: Tuple (input, targets, learning rate, keep probability, target sequence length,\n",
        "    max target sequence length, source sequence length)\n",
        "    \"\"\"\n",
        "    # TODO: Implement Function\n",
        "    input = tf.placeholder(tf.int32, [None, None], name='input')\n",
        "    targets = tf.placeholder(tf.int32, [None, None], name='targets')\n",
        "    learning_rate = tf.placeholder(tf.float32, name='learning_rate')\n",
        "    keep_prob = tf.placeholder(tf.float32, name='keep_prob')\n",
        "    target_len = tf.placeholder(tf.int32, [None], name='target_sequence_length')\n",
        "    max_target_len = tf.reduce_max(target_len, name='max_target_len')\n",
        "    source_len = tf.placeholder(tf.int32, [None], name='source_sequence_length')\n",
        "    return input, targets, learning_rate, keep_prob, target_len, max_target_len, source_len\n",
        "\n",
        "\n",
        "\"\"\"\n",
        "DON'T MODIFY ANYTHING IN THIS CELL THAT IS BELOW THIS LINE\n",
        "\"\"\"\n",
        "tests.test_model_inputs(model_inputs)"
      ],
      "execution_count": 7,
      "outputs": [
        {
          "output_type": "stream",
          "text": [
            "Tests Passed\n"
          ],
          "name": "stdout"
        }
      ]
    },
    {
      "metadata": {
        "id": "AOPI8lII1U_U",
        "colab_type": "text"
      },
      "cell_type": "markdown",
      "source": [
        "### Process Decoder Input\n",
        "Implement `process_decoder_input` by removing the last word id from each batch in `target_data` and concat the GO ID to the begining of each batch."
      ]
    },
    {
      "metadata": {
        "id": "cOt2QSIV1U_V",
        "colab_type": "code",
        "colab": {
          "base_uri": "https://localhost:8080/",
          "height": 51
        },
        "outputId": "74bbce9e-4e3c-4099-e070-fc5fceb59208"
      },
      "cell_type": "code",
      "source": [
        "def process_decoder_input(target_data, target_vocab_to_int, batch_size):\n",
        "    \"\"\"\n",
        "    Preprocess target data for encoding\n",
        "    :param target_data: Target Placehoder\n",
        "    :param target_vocab_to_int: Dictionary to go from the target words to an id\n",
        "    :param batch_size: Batch Size\n",
        "    :return: Preprocessed target data\n",
        "    \"\"\"\n",
        "    # TODO: Implement Function\n",
        "    go = tf.constant(target_vocab_to_int['<GO>'], shape=[batch_size, 1])\n",
        "    \n",
        "    return tf.concat([go, target_data[:, :-1]], 1)\n",
        "\n",
        "\"\"\"\n",
        "DON'T MODIFY ANYTHING IN THIS CELL THAT IS BELOW THIS LINE\n",
        "\"\"\"\n",
        "tests.test_process_encoding_input(process_decoder_input)"
      ],
      "execution_count": 8,
      "outputs": [
        {
          "output_type": "stream",
          "text": [
            "Tests Passed\n"
          ],
          "name": "stdout"
        }
      ]
    },
    {
      "metadata": {
        "id": "XtVDWqXA1U_Y",
        "colab_type": "text"
      },
      "cell_type": "markdown",
      "source": [
        "### Encoding\n",
        "Implement `encoding_layer()` to create a Encoder RNN layer:\n",
        " * Embed the encoder input using [`tf.contrib.layers.embed_sequence`](https://www.tensorflow.org/api_docs/python/tf/contrib/layers/embed_sequence)\n",
        " * Construct a [stacked](https://github.com/tensorflow/tensorflow/blob/6947f65a374ebf29e74bb71e36fd82760056d82c/tensorflow/docs_src/tutorials/recurrent.md#stacking-multiple-lstms) [`tf.contrib.rnn.LSTMCell`](https://www.tensorflow.org/api_docs/python/tf/contrib/rnn/LSTMCell) wrapped in a [`tf.contrib.rnn.DropoutWrapper`](https://www.tensorflow.org/api_docs/python/tf/contrib/rnn/DropoutWrapper)\n",
        " * Pass cell and embedded input to [`tf.nn.dynamic_rnn()`](https://www.tensorflow.org/api_docs/python/tf/nn/dynamic_rnn)"
      ]
    },
    {
      "metadata": {
        "id": "GYU5Jz9F1U_Y",
        "colab_type": "code",
        "colab": {
          "base_uri": "https://localhost:8080/",
          "height": 51
        },
        "outputId": "82e0c160-7d0c-4a49-d7eb-a888fa0f6ea0"
      },
      "cell_type": "code",
      "source": [
        "from imp import reload\n",
        "reload(tests)\n",
        "\n",
        "def encoding_layer(rnn_inputs, rnn_size, num_layers, keep_prob, \n",
        "                   source_sequence_length, source_vocab_size, \n",
        "                   encoding_embedding_size):\n",
        "    \"\"\"\n",
        "    Create encoding layer\n",
        "    :param rnn_inputs: Inputs for the RNN\n",
        "    :param rnn_size: RNN Size\n",
        "    :param num_layers: Number of layers\n",
        "    :param keep_prob: Dropout keep probability\n",
        "    :param source_sequence_length: a list of the lengths of each sequence in the batch\n",
        "    :param source_vocab_size: vocabulary size of source data\n",
        "    :param encoding_embedding_size: embedding size of source data\n",
        "    :return: tuple (RNN output, RNN state)\n",
        "    \"\"\"\n",
        "    \n",
        "    embed = tf.contrib.layers.embed_sequence(rnn_inputs, source_vocab_size, encoding_embedding_size)\n",
        "    \n",
        "    def make_cell():\n",
        "        cell = tf.contrib.rnn.LSTMCell(rnn_size)\n",
        "        \n",
        "        dropout = tf.contrib.rnn.DropoutWrapper(cell, output_keep_prob=keep_prob)\n",
        "        \n",
        "        return dropout\n",
        "    \n",
        "    cell = tf.contrib.rnn.MultiRNNCell([make_cell() for _ in range(num_layers)])\n",
        "    \n",
        "    # we don't pass initial state here, since every time we pass in a batch of complete sentences\n",
        "    out, final_state = tf.nn.dynamic_rnn(cell, embed, sequence_length=source_sequence_length, dtype=tf.float32)\n",
        "    \n",
        "    return out, final_state\n",
        "\n",
        "\"\"\"\n",
        "DON'T MODIFY ANYTHING IN THIS CELL THAT IS BELOW THIS LINE\n",
        "\"\"\"\n",
        "tests.test_encoding_layer(encoding_layer)"
      ],
      "execution_count": 9,
      "outputs": [
        {
          "output_type": "stream",
          "text": [
            "Tests Passed\n"
          ],
          "name": "stdout"
        }
      ]
    },
    {
      "metadata": {
        "id": "YfUDdABA1U_a",
        "colab_type": "text"
      },
      "cell_type": "markdown",
      "source": [
        "### Decoding - Training\n",
        "Create a training decoding layer:\n",
        "* Create a [`tf.contrib.seq2seq.TrainingHelper`](https://www.tensorflow.org/api_docs/python/tf/contrib/seq2seq/TrainingHelper) \n",
        "* Create a [`tf.contrib.seq2seq.BasicDecoder`](https://www.tensorflow.org/api_docs/python/tf/contrib/seq2seq/BasicDecoder)\n",
        "* Obtain the decoder outputs from [`tf.contrib.seq2seq.dynamic_decode`](https://www.tensorflow.org/api_docs/python/tf/contrib/seq2seq/dynamic_decode)"
      ]
    },
    {
      "metadata": {
        "id": "MSytZdvw1U_b",
        "colab_type": "code",
        "colab": {
          "base_uri": "https://localhost:8080/",
          "height": 51
        },
        "outputId": "68d26504-a56e-412e-bc38-8245381ec802"
      },
      "cell_type": "code",
      "source": [
        "\n",
        "def decoding_layer_train(encoder_state, dec_cell, dec_embed_input, \n",
        "                         target_sequence_length, max_summary_length, \n",
        "                         output_layer, keep_prob):\n",
        "    \"\"\"\n",
        "    Create a decoding layer for training\n",
        "    :param encoder_state: Encoder State\n",
        "    :param dec_cell: Decoder RNN Cell\n",
        "    :param dec_embed_input: Decoder embedded input\n",
        "    :param target_sequence_length: The lengths of each sequence in the target batch\n",
        "    :param max_summary_length: The length of the longest sequence in the batch\n",
        "    :param output_layer: Function to apply the output layer\n",
        "    :param keep_prob: Dropout keep probability\n",
        "    :return: BasicDecoderOutput containing training logits and sample_id\n",
        "    \"\"\"\n",
        "    # TODO: Implement Function\n",
        "    training_helper = tf.contrib.seq2seq.TrainingHelper(dec_embed_input, \n",
        "                                                        target_sequence_length)\n",
        "\n",
        "    # dec_cell is the LSTM cell used in the decoder\n",
        "    # training_helper reads the input to the dec_cell\n",
        "    # encoder_state is the hidden&cell state to the LSTM, inheriting from encoder\n",
        "    # output_layer is the layer applied to LSTM\n",
        "    training_decoder = tf.contrib.seq2seq.BasicDecoder(dec_cell,\n",
        "                                                       training_helper,\n",
        "                                                       encoder_state,\n",
        "                                                       output_layer)\n",
        "\n",
        "    # perform dynamic decoding, analogous to dynamic_rnn to LSTM cell\n",
        "    training_decoder_output = tf.contrib.seq2seq.dynamic_decode(training_decoder,\n",
        "                                                                impute_finished=True,\n",
        "                                                                maximum_iterations=max_summary_length)[0]\n",
        "        \n",
        "        \n",
        "    return training_decoder_output\n",
        "\n",
        "\n",
        "\n",
        "\"\"\"\n",
        "DON'T MODIFY ANYTHING IN THIS CELL THAT IS BELOW THIS LINE\n",
        "\"\"\"\n",
        "tests.test_decoding_layer_train(decoding_layer_train)"
      ],
      "execution_count": 10,
      "outputs": [
        {
          "output_type": "stream",
          "text": [
            "Tests Passed\n"
          ],
          "name": "stdout"
        }
      ]
    },
    {
      "metadata": {
        "id": "qan3EMAa1U_c",
        "colab_type": "text"
      },
      "cell_type": "markdown",
      "source": [
        "### Decoding - Inference\n",
        "Create inference decoder:\n",
        "* Create a [`tf.contrib.seq2seq.GreedyEmbeddingHelper`](https://www.tensorflow.org/api_docs/python/tf/contrib/seq2seq/GreedyEmbeddingHelper)\n",
        "* Create a [`tf.contrib.seq2seq.BasicDecoder`](https://www.tensorflow.org/api_docs/python/tf/contrib/seq2seq/BasicDecoder)\n",
        "* Obtain the decoder outputs from [`tf.contrib.seq2seq.dynamic_decode`](https://www.tensorflow.org/api_docs/python/tf/contrib/seq2seq/dynamic_decode)"
      ]
    },
    {
      "metadata": {
        "id": "KfmTVZVW1U_c",
        "colab_type": "code",
        "colab": {
          "base_uri": "https://localhost:8080/",
          "height": 51
        },
        "outputId": "1518a88b-8d1e-4fc8-ca5e-02971e978f7a"
      },
      "cell_type": "code",
      "source": [
        "def decoding_layer_infer(encoder_state, dec_cell, dec_embeddings, start_of_sequence_id,\n",
        "                         end_of_sequence_id, max_target_sequence_length,\n",
        "                         vocab_size, output_layer, batch_size, keep_prob):\n",
        "    \"\"\"\n",
        "    Create a decoding layer for inference\n",
        "    :param encoder_state: Encoder state\n",
        "    :param dec_cell: Decoder RNN Cell\n",
        "    :param dec_embeddings: Decoder embeddings\n",
        "    :param start_of_sequence_id: GO ID\n",
        "    :param end_of_sequence_id: EOS Id\n",
        "    :param max_target_sequence_length: Maximum length of target sequences\n",
        "    :param vocab_size: Size of decoder/target vocabulary\n",
        "    :param decoding_scope: TenorFlow Variable Scope for decoding\n",
        "    :param output_layer: Function to apply the output layer\n",
        "    :param batch_size: Batch size\n",
        "    :param keep_prob: Dropout keep probability\n",
        "    :return: BasicDecoderOutput containing inference logits and sample_id\n",
        "    \"\"\"\n",
        "    # TODO: Implement Function\n",
        "\n",
        "    start_tokens = tf.fill([batch_size], start_of_sequence_id)\n",
        "\n",
        "    infer_helper = tf.contrib.seq2seq.GreedyEmbeddingHelper(dec_embeddings, \n",
        "                                                            start_tokens,\n",
        "                                                            end_of_sequence_id)\n",
        "\n",
        "    infer_decoder = tf.contrib.seq2seq.BasicDecoder(dec_cell, \n",
        "                                                    infer_helper,\n",
        "                                                    encoder_state,\n",
        "                                                    output_layer)\n",
        "\n",
        "    infer_decoder_output = tf.contrib.seq2seq.dynamic_decode(infer_decoder,\n",
        "                                                             impute_finished=True,\n",
        "                                                             maximum_iterations=max_target_sequence_length)[0]\n",
        "    return infer_decoder_output\n",
        "\n",
        "\n",
        "\n",
        "\"\"\"\n",
        "DON'T MODIFY ANYTHING IN THIS CELL THAT IS BELOW THIS LINE\n",
        "\"\"\"\n",
        "tests.test_decoding_layer_infer(decoding_layer_infer)"
      ],
      "execution_count": 11,
      "outputs": [
        {
          "output_type": "stream",
          "text": [
            "Tests Passed\n"
          ],
          "name": "stdout"
        }
      ]
    },
    {
      "metadata": {
        "id": "dmzSXrTY1U_d",
        "colab_type": "text"
      },
      "cell_type": "markdown",
      "source": [
        "### Build the Decoding Layer\n",
        "Implement `decoding_layer()` to create a Decoder RNN layer.\n",
        "\n",
        "* Embed the target sequences\n",
        "* Construct the decoder LSTM cell (just like you constructed the encoder cell above)\n",
        "* Create an output layer to map the outputs of the decoder to the elements of our vocabulary\n",
        "* Use the your `decoding_layer_train(encoder_state, dec_cell, dec_embed_input, target_sequence_length, max_target_sequence_length, output_layer, keep_prob)` function to get the training logits.\n",
        "* Use your `decoding_layer_infer(encoder_state, dec_cell, dec_embeddings, start_of_sequence_id, end_of_sequence_id, max_target_sequence_length, vocab_size, output_layer, batch_size, keep_prob)` function to get the inference logits.\n",
        "\n",
        "Note: You'll need to use [tf.variable_scope](https://www.tensorflow.org/api_docs/python/tf/variable_scope) to share variables between training and inference."
      ]
    },
    {
      "metadata": {
        "id": "5RmKEols1U_e",
        "colab_type": "code",
        "colab": {
          "base_uri": "https://localhost:8080/",
          "height": 51
        },
        "outputId": "f891fa5b-61d6-4fac-bb7a-8233fa199873"
      },
      "cell_type": "code",
      "source": [
        "def decoding_layer(dec_input, encoder_state,\n",
        "                   target_sequence_length, max_target_sequence_length,\n",
        "                   rnn_size,\n",
        "                   num_layers, target_vocab_to_int, target_vocab_size,\n",
        "                   batch_size, keep_prob, decoding_embedding_size):\n",
        "    \"\"\"\n",
        "    Create decoding layer\n",
        "    :param dec_input: Decoder input\n",
        "    :param encoder_state: Encoder state\n",
        "    :param target_sequence_length: The lengths of each sequence in the target batch\n",
        "    :param max_target_sequence_length: Maximum length of target sequences\n",
        "    :param rnn_size: RNN Size\n",
        "    :param num_layers: Number of layers\n",
        "    :param target_vocab_to_int: Dictionary to go from the target words to an id\n",
        "    :param target_vocab_size: Size of target vocabulary\n",
        "    :param batch_size: The size of the batch\n",
        "    :param keep_prob: Dropout keep probability\n",
        "    :param decoding_embedding_size: Decoding embedding size\n",
        "    :return: Tuple of (Training BasicDecoderOutput, Inference BasicDecoderOutput)\n",
        "    \"\"\"\n",
        "    # TODO: Implement Function\n",
        "    # here we use embedding_lookup instead of embed_sequence \n",
        "    # because we'll reuse embedding latter in the inference decoder\n",
        "    dec_embeddings = tf.Variable(tf.random_uniform([target_vocab_size, decoding_embedding_size]))\n",
        "    dec_embed_input = tf.nn.embedding_lookup(dec_embeddings, dec_input)\n",
        "    \n",
        "    def make_cell():\n",
        "        cell = tf.contrib.rnn.BasicLSTMCell(rnn_size)\n",
        "        \n",
        "        dropout = tf.contrib.rnn.DropoutWrapper(cell, output_keep_prob=keep_prob)\n",
        "        \n",
        "        return dropout\n",
        "    \n",
        "    dec_cell = tf.contrib.rnn.MultiRNNCell([make_cell() for _ in range(num_layers)])\n",
        "    \n",
        "    output_layer = tf.layers.Dense(target_vocab_size, kernel_initializer=tf.variance_scaling_initializer())\n",
        "    \n",
        "    with tf.variable_scope('decode'):\n",
        "        train_dec_output = decoding_layer_train(encoder_state, dec_cell, dec_embed_input, \n",
        "                                                target_sequence_length, max_target_sequence_length, \n",
        "                                                output_layer, keep_prob)\n",
        "    \n",
        "    start_of_sequence_id = target_vocab_to_int['<GO>']\n",
        "    end_of_sequence_id = target_vocab_to_int['<EOS>']\n",
        "    with tf.variable_scope('decode', reuse=True):\n",
        "        infer_dec_output = decoding_layer_infer(encoder_state, dec_cell, dec_embeddings, start_of_sequence_id,\n",
        "                                                end_of_sequence_id, max_target_sequence_length,\n",
        "                                                target_vocab_size, output_layer, batch_size, keep_prob)\n",
        "\n",
        "    return train_dec_output, infer_dec_output\n",
        "\n",
        "\n",
        "\n",
        "\"\"\"\n",
        "DON'T MODIFY ANYTHING IN THIS CELL THAT IS BELOW THIS LINE\n",
        "\"\"\"\n",
        "tests.test_decoding_layer(decoding_layer)"
      ],
      "execution_count": 12,
      "outputs": [
        {
          "output_type": "stream",
          "text": [
            "Tests Passed\n"
          ],
          "name": "stdout"
        }
      ]
    },
    {
      "metadata": {
        "id": "jilL3EH71U_f",
        "colab_type": "text"
      },
      "cell_type": "markdown",
      "source": [
        "### Build the Neural Network\n",
        "Apply the functions you implemented above to:\n",
        "\n",
        "- Encode the input using your `encoding_layer(rnn_inputs, rnn_size, num_layers, keep_prob,  source_sequence_length, source_vocab_size, encoding_embedding_size)`.\n",
        "- Process target data using your `process_decoder_input(target_data, target_vocab_to_int, batch_size)` function.\n",
        "- Decode the encoded input using your `decoding_layer(dec_input, enc_state, target_sequence_length, max_target_sentence_length, rnn_size, num_layers, target_vocab_to_int, target_vocab_size, batch_size, keep_prob, dec_embedding_size)` function."
      ]
    },
    {
      "metadata": {
        "id": "Y5ER2ByZ1U_f",
        "colab_type": "code",
        "colab": {
          "base_uri": "https://localhost:8080/",
          "height": 51
        },
        "outputId": "63a160b4-0221-4f61-df8d-ce55fec9abf2"
      },
      "cell_type": "code",
      "source": [
        "def seq2seq_model(input_data, target_data, keep_prob, batch_size,\n",
        "                  source_sequence_length, target_sequence_length,\n",
        "                  max_target_sentence_length,\n",
        "                  source_vocab_size, target_vocab_size,\n",
        "                  enc_embedding_size, dec_embedding_size,\n",
        "                  rnn_size, num_layers, target_vocab_to_int):\n",
        "    \"\"\"\n",
        "    Build the Sequence-to-Sequence part of the neural network\n",
        "    :param input_data: Input placeholder\n",
        "    :param target_data: Target placeholder\n",
        "    :param keep_prob: Dropout keep probability placeholder\n",
        "    :param batch_size: Batch Size\n",
        "    :param source_sequence_length: Sequence Lengths of source sequences in the batch\n",
        "    :param target_sequence_length: Sequence Lengths of target sequences in the batch\n",
        "    :param source_vocab_size: Source vocabulary size\n",
        "    :param target_vocab_size: Target vocabulary size\n",
        "    :param enc_embedding_size: Decoder embedding size\n",
        "    :param dec_embedding_size: Encoder embedding size\n",
        "    :param rnn_size: RNN Size\n",
        "    :param num_layers: Number of layers\n",
        "    :param target_vocab_to_int: Dictionary to go from the target words to an id\n",
        "    :return: Tuple of (Training BasicDecoderOutput, Inference BasicDecoderOutput)\n",
        "    \"\"\"\n",
        "    # TODO: Implement Function\n",
        "    _, encoder_state = encoding_layer(input_data, rnn_size, num_layers, keep_prob, \n",
        "                                      source_sequence_length, source_vocab_size, \n",
        "                                      enc_embedding_size)\n",
        "    dec_input = process_decoder_input(target_data, target_vocab_to_int, batch_size)\n",
        "    \n",
        "    train_dec_output, infer_dec_output = decoding_layer(dec_input, encoder_state,\n",
        "                                                        target_sequence_length, max_target_sentence_length,\n",
        "                                                        rnn_size,\n",
        "                                                        num_layers, target_vocab_to_int, target_vocab_size,\n",
        "                                                        batch_size, keep_prob, dec_embedding_size)\n",
        "    return train_dec_output, infer_dec_output\n",
        "\n",
        "\n",
        "\"\"\"\n",
        "DON'T MODIFY ANYTHING IN THIS CELL THAT IS BELOW THIS LINE\n",
        "\"\"\"\n",
        "tests.test_seq2seq_model(seq2seq_model)"
      ],
      "execution_count": 13,
      "outputs": [
        {
          "output_type": "stream",
          "text": [
            "Tests Passed\n"
          ],
          "name": "stdout"
        }
      ]
    },
    {
      "metadata": {
        "id": "8Rx72rgh1U_h",
        "colab_type": "text"
      },
      "cell_type": "markdown",
      "source": [
        "## Neural Network Training\n",
        "### Hyperparameters\n",
        "Tune the following parameters:\n",
        "\n",
        "- Set `epochs` to the number of epochs.\n",
        "- Set `batch_size` to the batch size.\n",
        "- Set `rnn_size` to the size of the RNNs.\n",
        "- Set `num_layers` to the number of layers.\n",
        "- Set `encoding_embedding_size` to the size of the embedding for the encoder.\n",
        "- Set `decoding_embedding_size` to the size of the embedding for the decoder.\n",
        "- Set `learning_rate` to the learning rate.\n",
        "- Set `keep_probability` to the Dropout keep probability\n",
        "- Set `display_step` to state how many steps between each debug output statement"
      ]
    },
    {
      "metadata": {
        "id": "Td8A1hbl1U_h",
        "colab_type": "code",
        "colab": {}
      },
      "cell_type": "code",
      "source": [
        "# Number of Epochs\n",
        "epochs = 20\n",
        "# Batch Size\n",
        "batch_size = 128\n",
        "# RNN Size\n",
        "rnn_size = 64\n",
        "# Number of Layers\n",
        "num_layers = 2\n",
        "# Embedding Size\n",
        "encoding_embedding_size = 32\n",
        "decoding_embedding_size = 32\n",
        "# Learning Rate\n",
        "learning_rate = 1e-3\n",
        "# Dropout Keep Probability\n",
        "keep_probability = 0.5\n",
        "display_step = 100"
      ],
      "execution_count": 0,
      "outputs": []
    },
    {
      "metadata": {
        "id": "e0aO3Gd-1U_i",
        "colab_type": "text"
      },
      "cell_type": "markdown",
      "source": [
        "### Build the Graph\n",
        "Build the graph using the neural network you implemented."
      ]
    },
    {
      "metadata": {
        "id": "hwarf0y_1U_j",
        "colab_type": "code",
        "colab": {}
      },
      "cell_type": "code",
      "source": [
        "\"\"\"\n",
        "DON'T MODIFY ANYTHING IN THIS CELL\n",
        "\"\"\"\n",
        "save_path = 'checkpoints/dev'\n",
        "(source_int_text, target_int_text), (source_vocab_to_int, target_vocab_to_int), _ = helper.load_preprocess()\n",
        "max_target_sentence_length = max([len(sentence) for sentence in source_int_text])\n",
        "\n",
        "train_graph = tf.Graph()\n",
        "with train_graph.as_default():\n",
        "    input_data, targets, lr, keep_prob, target_sequence_length, max_target_sequence_length, source_sequence_length = model_inputs()\n",
        "\n",
        "    #sequence_length = tf.placeholder_with_default(max_target_sentence_length, None, name='sequence_length')\n",
        "    input_shape = tf.shape(input_data)\n",
        "\n",
        "    train_logits, inference_logits = seq2seq_model(tf.reverse(input_data, [-1]),\n",
        "                                                   targets,\n",
        "                                                   keep_prob,\n",
        "                                                   batch_size,\n",
        "                                                   source_sequence_length,\n",
        "                                                   target_sequence_length,\n",
        "                                                   max_target_sequence_length,\n",
        "                                                   len(source_vocab_to_int),\n",
        "                                                   len(target_vocab_to_int),\n",
        "                                                   encoding_embedding_size,\n",
        "                                                   decoding_embedding_size,\n",
        "                                                   rnn_size,\n",
        "                                                   num_layers,\n",
        "                                                   target_vocab_to_int)\n",
        "\n",
        "\n",
        "    training_logits = tf.identity(train_logits.rnn_output, name='logits')\n",
        "    inference_logits = tf.identity(inference_logits.sample_id, name='predictions')\n",
        "\n",
        "    masks = tf.sequence_mask(target_sequence_length, max_target_sequence_length, dtype=tf.float32, name='masks')\n",
        "\n",
        "    with tf.name_scope(\"optimization\"):\n",
        "        # Loss function\n",
        "        cost = tf.contrib.seq2seq.sequence_loss(\n",
        "            training_logits,\n",
        "            targets,\n",
        "            masks)\n",
        "\n",
        "        # Optimizer\n",
        "        optimizer = tf.train.AdamOptimizer(lr)\n",
        "\n",
        "        # Gradient Clipping\n",
        "        gradients = optimizer.compute_gradients(cost)\n",
        "        capped_gradients = [(tf.clip_by_value(grad, -1., 1.), var) for grad, var in gradients if grad is not None]\n",
        "        train_op = optimizer.apply_gradients(capped_gradients)\n"
      ],
      "execution_count": 0,
      "outputs": []
    },
    {
      "metadata": {
        "id": "yMJMhqWX1U_k",
        "colab_type": "text"
      },
      "cell_type": "markdown",
      "source": [
        "Batch and pad the source and target sequences"
      ]
    },
    {
      "metadata": {
        "id": "yFajWvII1U_k",
        "colab_type": "code",
        "colab": {}
      },
      "cell_type": "code",
      "source": [
        "\"\"\"\n",
        "DON'T MODIFY ANYTHING IN THIS CELL\n",
        "\"\"\"\n",
        "def pad_sentence_batch(sentence_batch, pad_int):\n",
        "    \"\"\"Pad sentences with <PAD> so that each sentence of a batch has the same length\"\"\"\n",
        "    max_sentence = max([len(sentence) for sentence in sentence_batch])\n",
        "    return [sentence + [pad_int] * (max_sentence - len(sentence)) for sentence in sentence_batch]\n",
        "\n",
        "\n",
        "def get_batches(sources, targets, batch_size, source_pad_int, target_pad_int):\n",
        "    \"\"\"Batch targets, sources, and the lengths of their sentences together\"\"\"\n",
        "    for batch_i in range(0, len(sources)//batch_size):\n",
        "        start_i = batch_i * batch_size\n",
        "\n",
        "        # Slice the right amount for the batch\n",
        "        sources_batch = sources[start_i:start_i + batch_size]\n",
        "        targets_batch = targets[start_i:start_i + batch_size]\n",
        "\n",
        "        # Pad\n",
        "        pad_sources_batch = np.array(pad_sentence_batch(sources_batch, source_pad_int))\n",
        "        pad_targets_batch = np.array(pad_sentence_batch(targets_batch, target_pad_int))\n",
        "\n",
        "        # Need the lengths for the _lengths parameters\n",
        "        pad_targets_lengths = []\n",
        "        for target in pad_targets_batch:\n",
        "            pad_targets_lengths.append(len(target))\n",
        "\n",
        "        pad_source_lengths = []\n",
        "        for source in pad_sources_batch:\n",
        "            pad_source_lengths.append(len(source))\n",
        "\n",
        "        yield pad_sources_batch, pad_targets_batch, pad_source_lengths, pad_targets_lengths\n"
      ],
      "execution_count": 0,
      "outputs": []
    },
    {
      "metadata": {
        "id": "788U_YvX1U_m",
        "colab_type": "text"
      },
      "cell_type": "markdown",
      "source": [
        "### Train\n",
        "Train the neural network on the preprocessed data. If you have a hard time getting a good loss, check the forms to see if anyone is having the same problem."
      ]
    },
    {
      "metadata": {
        "id": "bfVhRPoL1U_m",
        "colab_type": "code",
        "colab": {
          "base_uri": "https://localhost:8080/",
          "height": 3451
        },
        "outputId": "3696d2f6-cf10-43e0-b5d5-5e4ce19c561d"
      },
      "cell_type": "code",
      "source": [
        "\"\"\"\n",
        "DON'T MODIFY ANYTHING IN THIS CELL\n",
        "\"\"\"\n",
        "def get_accuracy(target, logits):\n",
        "    \"\"\"\n",
        "    Calculate accuracy\n",
        "    \"\"\"\n",
        "    max_seq = max(target.shape[1], logits.shape[1])\n",
        "    if max_seq - target.shape[1]:\n",
        "        target = np.pad(\n",
        "            target,\n",
        "            [(0,0),(0,max_seq - target.shape[1])],\n",
        "            'constant')\n",
        "    if max_seq - logits.shape[1]:\n",
        "        logits = np.pad(\n",
        "            logits,\n",
        "            [(0,0),(0,max_seq - logits.shape[1])],\n",
        "            'constant')\n",
        "\n",
        "    return np.mean(np.equal(target, logits))\n",
        "\n",
        "# Split data to training and validation sets\n",
        "train_source = source_int_text[batch_size:]\n",
        "train_target = target_int_text[batch_size:]\n",
        "valid_source = source_int_text[:batch_size]\n",
        "valid_target = target_int_text[:batch_size]\n",
        "(valid_sources_batch, valid_targets_batch, valid_sources_lengths, valid_targets_lengths ) = next(get_batches(valid_source,\n",
        "                                                                                                             valid_target,\n",
        "                                                                                                             batch_size,\n",
        "                                                                                                             source_vocab_to_int['<PAD>'],\n",
        "                                                                                                             target_vocab_to_int['<PAD>']))                                                                                                  \n",
        "with tf.Session(graph=train_graph) as sess:\n",
        "    sess.run(tf.global_variables_initializer())\n",
        "\n",
        "    for epoch_i in range(epochs):\n",
        "        for batch_i, (source_batch, target_batch, sources_lengths, targets_lengths) in enumerate(\n",
        "                get_batches(train_source, train_target, batch_size,\n",
        "                            source_vocab_to_int['<PAD>'],\n",
        "                            target_vocab_to_int['<PAD>'])):\n",
        "\n",
        "            _, loss = sess.run(\n",
        "                [train_op, cost],\n",
        "                {input_data: source_batch,\n",
        "                 targets: target_batch,\n",
        "                 lr: learning_rate,\n",
        "                 target_sequence_length: targets_lengths,\n",
        "                 source_sequence_length: sources_lengths,\n",
        "                 keep_prob: keep_probability})\n",
        "\n",
        "\n",
        "            if batch_i % display_step == 0 and batch_i > 0:\n",
        "\n",
        "\n",
        "                batch_train_logits = sess.run(\n",
        "                    inference_logits,\n",
        "                    {input_data: source_batch,\n",
        "                     source_sequence_length: sources_lengths,\n",
        "                     target_sequence_length: targets_lengths,\n",
        "                     keep_prob: 1.0})\n",
        "\n",
        "\n",
        "                batch_valid_logits = sess.run(\n",
        "                    inference_logits,\n",
        "                    {input_data: valid_sources_batch,\n",
        "                     source_sequence_length: valid_sources_lengths,\n",
        "                     target_sequence_length: valid_targets_lengths,\n",
        "                     keep_prob: 1.0})\n",
        "\n",
        "                train_acc = get_accuracy(target_batch, batch_train_logits)\n",
        "\n",
        "                valid_acc = get_accuracy(valid_targets_batch, batch_valid_logits)\n",
        "\n",
        "                print('Epoch {:>3} Batch {:>4}/{} - Train Accuracy: {:>6.4f}, Validation Accuracy: {:>6.4f}, Loss: {:>6.4f}'\n",
        "                      .format(epoch_i, batch_i, len(source_int_text) // batch_size, train_acc, valid_acc, loss))\n",
        "\n",
        "    # Save Model\n",
        "    saver = tf.train.Saver()\n",
        "    saver.save(sess, save_path)\n",
        "    print('Model Trained and Saved')"
      ],
      "execution_count": 18,
      "outputs": [
        {
          "output_type": "stream",
          "text": [
            "Epoch   0 Batch  100/1077 - Train Accuracy: 0.3750, Validation Accuracy: 0.4396, Loss: 3.0666\n",
            "Epoch   0 Batch  200/1077 - Train Accuracy: 0.4266, Validation Accuracy: 0.4918, Loss: 2.5399\n",
            "Epoch   0 Batch  300/1077 - Train Accuracy: 0.4050, Validation Accuracy: 0.4979, Loss: 2.3250\n",
            "Epoch   0 Batch  400/1077 - Train Accuracy: 0.4391, Validation Accuracy: 0.5082, Loss: 1.8867\n",
            "Epoch   0 Batch  500/1077 - Train Accuracy: 0.4477, Validation Accuracy: 0.4890, Loss: 1.6844\n",
            "Epoch   0 Batch  600/1077 - Train Accuracy: 0.4937, Validation Accuracy: 0.4996, Loss: 1.4733\n",
            "Epoch   0 Batch  700/1077 - Train Accuracy: 0.4441, Validation Accuracy: 0.5202, Loss: 1.3942\n",
            "Epoch   0 Batch  800/1077 - Train Accuracy: 0.4418, Validation Accuracy: 0.5146, Loss: 1.3727\n",
            "Epoch   0 Batch  900/1077 - Train Accuracy: 0.4645, Validation Accuracy: 0.5224, Loss: 1.3042\n",
            "Epoch   0 Batch 1000/1077 - Train Accuracy: 0.5398, Validation Accuracy: 0.5323, Loss: 1.1326\n",
            "Epoch   1 Batch  100/1077 - Train Accuracy: 0.5199, Validation Accuracy: 0.5543, Loss: 1.0972\n",
            "Epoch   1 Batch  200/1077 - Train Accuracy: 0.4875, Validation Accuracy: 0.5518, Loss: 1.0697\n",
            "Epoch   1 Batch  300/1077 - Train Accuracy: 0.4905, Validation Accuracy: 0.5550, Loss: 1.0612\n",
            "Epoch   1 Batch  400/1077 - Train Accuracy: 0.5363, Validation Accuracy: 0.5572, Loss: 0.9797\n",
            "Epoch   1 Batch  500/1077 - Train Accuracy: 0.5359, Validation Accuracy: 0.5721, Loss: 0.9496\n",
            "Epoch   1 Batch  600/1077 - Train Accuracy: 0.5759, Validation Accuracy: 0.5746, Loss: 0.9077\n",
            "Epoch   1 Batch  700/1077 - Train Accuracy: 0.5508, Validation Accuracy: 0.5430, Loss: 0.8735\n",
            "Epoch   1 Batch  800/1077 - Train Accuracy: 0.5199, Validation Accuracy: 0.5948, Loss: 0.9012\n",
            "Epoch   1 Batch  900/1077 - Train Accuracy: 0.5375, Validation Accuracy: 0.5735, Loss: 0.8927\n",
            "Epoch   1 Batch 1000/1077 - Train Accuracy: 0.6079, Validation Accuracy: 0.6062, Loss: 0.7921\n",
            "Epoch   2 Batch  100/1077 - Train Accuracy: 0.6000, Validation Accuracy: 0.6129, Loss: 0.8308\n",
            "Epoch   2 Batch  200/1077 - Train Accuracy: 0.5805, Validation Accuracy: 0.6090, Loss: 0.8233\n",
            "Epoch   2 Batch  300/1077 - Train Accuracy: 0.5962, Validation Accuracy: 0.6179, Loss: 0.8097\n",
            "Epoch   2 Batch  400/1077 - Train Accuracy: 0.5949, Validation Accuracy: 0.6165, Loss: 0.7623\n",
            "Epoch   2 Batch  500/1077 - Train Accuracy: 0.5922, Validation Accuracy: 0.6257, Loss: 0.7455\n",
            "Epoch   2 Batch  600/1077 - Train Accuracy: 0.6097, Validation Accuracy: 0.6239, Loss: 0.7114\n",
            "Epoch   2 Batch  700/1077 - Train Accuracy: 0.5828, Validation Accuracy: 0.6211, Loss: 0.7268\n",
            "Epoch   2 Batch  800/1077 - Train Accuracy: 0.5703, Validation Accuracy: 0.6278, Loss: 0.7139\n",
            "Epoch   2 Batch  900/1077 - Train Accuracy: 0.6223, Validation Accuracy: 0.6374, Loss: 0.7311\n",
            "Epoch   2 Batch 1000/1077 - Train Accuracy: 0.6555, Validation Accuracy: 0.6406, Loss: 0.6371\n",
            "Epoch   3 Batch  100/1077 - Train Accuracy: 0.6266, Validation Accuracy: 0.6442, Loss: 0.7109\n",
            "Epoch   3 Batch  200/1077 - Train Accuracy: 0.6172, Validation Accuracy: 0.6442, Loss: 0.6796\n",
            "Epoch   3 Batch  300/1077 - Train Accuracy: 0.6176, Validation Accuracy: 0.6431, Loss: 0.6993\n",
            "Epoch   3 Batch  400/1077 - Train Accuracy: 0.6301, Validation Accuracy: 0.6442, Loss: 0.6651\n",
            "Epoch   3 Batch  500/1077 - Train Accuracy: 0.6324, Validation Accuracy: 0.6463, Loss: 0.6358\n",
            "Epoch   3 Batch  600/1077 - Train Accuracy: 0.6213, Validation Accuracy: 0.6374, Loss: 0.6140\n",
            "Epoch   3 Batch  700/1077 - Train Accuracy: 0.6059, Validation Accuracy: 0.6491, Loss: 0.5998\n",
            "Epoch   3 Batch  800/1077 - Train Accuracy: 0.5996, Validation Accuracy: 0.6470, Loss: 0.6235\n",
            "Epoch   3 Batch  900/1077 - Train Accuracy: 0.6547, Validation Accuracy: 0.6474, Loss: 0.6261\n",
            "Epoch   3 Batch 1000/1077 - Train Accuracy: 0.6871, Validation Accuracy: 0.6548, Loss: 0.5571\n",
            "Epoch   4 Batch  100/1077 - Train Accuracy: 0.6605, Validation Accuracy: 0.6644, Loss: 0.5974\n",
            "Epoch   4 Batch  200/1077 - Train Accuracy: 0.6324, Validation Accuracy: 0.6694, Loss: 0.6070\n",
            "Epoch   4 Batch  300/1077 - Train Accuracy: 0.6447, Validation Accuracy: 0.6680, Loss: 0.6098\n",
            "Epoch   4 Batch  400/1077 - Train Accuracy: 0.6691, Validation Accuracy: 0.6680, Loss: 0.5667\n",
            "Epoch   4 Batch  500/1077 - Train Accuracy: 0.6715, Validation Accuracy: 0.6673, Loss: 0.5476\n",
            "Epoch   4 Batch  600/1077 - Train Accuracy: 0.6678, Validation Accuracy: 0.6680, Loss: 0.5281\n",
            "Epoch   4 Batch  700/1077 - Train Accuracy: 0.6516, Validation Accuracy: 0.6754, Loss: 0.5389\n",
            "Epoch   4 Batch  800/1077 - Train Accuracy: 0.6340, Validation Accuracy: 0.6726, Loss: 0.5528\n",
            "Epoch   4 Batch  900/1077 - Train Accuracy: 0.7035, Validation Accuracy: 0.6808, Loss: 0.5648\n",
            "Epoch   4 Batch 1000/1077 - Train Accuracy: 0.7180, Validation Accuracy: 0.6722, Loss: 0.4904\n",
            "Epoch   5 Batch  100/1077 - Train Accuracy: 0.6672, Validation Accuracy: 0.6964, Loss: 0.5173\n",
            "Epoch   5 Batch  200/1077 - Train Accuracy: 0.6535, Validation Accuracy: 0.6989, Loss: 0.5534\n",
            "Epoch   5 Batch  300/1077 - Train Accuracy: 0.6908, Validation Accuracy: 0.7045, Loss: 0.5190\n",
            "Epoch   5 Batch  400/1077 - Train Accuracy: 0.6914, Validation Accuracy: 0.7024, Loss: 0.5008\n",
            "Epoch   5 Batch  500/1077 - Train Accuracy: 0.6965, Validation Accuracy: 0.6974, Loss: 0.4871\n",
            "Epoch   5 Batch  600/1077 - Train Accuracy: 0.6983, Validation Accuracy: 0.6836, Loss: 0.4902\n",
            "Epoch   5 Batch  700/1077 - Train Accuracy: 0.6977, Validation Accuracy: 0.7319, Loss: 0.4753\n",
            "Epoch   5 Batch  800/1077 - Train Accuracy: 0.6758, Validation Accuracy: 0.7202, Loss: 0.4858\n",
            "Epoch   5 Batch  900/1077 - Train Accuracy: 0.7246, Validation Accuracy: 0.7223, Loss: 0.4945\n",
            "Epoch   5 Batch 1000/1077 - Train Accuracy: 0.7366, Validation Accuracy: 0.7269, Loss: 0.4471\n",
            "Epoch   6 Batch  100/1077 - Train Accuracy: 0.7340, Validation Accuracy: 0.7326, Loss: 0.4720\n",
            "Epoch   6 Batch  200/1077 - Train Accuracy: 0.6902, Validation Accuracy: 0.7347, Loss: 0.4814\n",
            "Epoch   6 Batch  300/1077 - Train Accuracy: 0.7389, Validation Accuracy: 0.7330, Loss: 0.4408\n",
            "Epoch   6 Batch  400/1077 - Train Accuracy: 0.7520, Validation Accuracy: 0.7397, Loss: 0.4458\n",
            "Epoch   6 Batch  500/1077 - Train Accuracy: 0.7387, Validation Accuracy: 0.7429, Loss: 0.4211\n",
            "Epoch   6 Batch  600/1077 - Train Accuracy: 0.7392, Validation Accuracy: 0.7326, Loss: 0.4345\n",
            "Epoch   6 Batch  700/1077 - Train Accuracy: 0.7215, Validation Accuracy: 0.7227, Loss: 0.4177\n",
            "Epoch   6 Batch  800/1077 - Train Accuracy: 0.7387, Validation Accuracy: 0.7567, Loss: 0.4205\n",
            "Epoch   6 Batch  900/1077 - Train Accuracy: 0.7891, Validation Accuracy: 0.7408, Loss: 0.4439\n",
            "Epoch   6 Batch 1000/1077 - Train Accuracy: 0.7742, Validation Accuracy: 0.7322, Loss: 0.3850\n",
            "Epoch   7 Batch  100/1077 - Train Accuracy: 0.7566, Validation Accuracy: 0.7543, Loss: 0.4194\n",
            "Epoch   7 Batch  200/1077 - Train Accuracy: 0.7320, Validation Accuracy: 0.7571, Loss: 0.4473\n",
            "Epoch   7 Batch  300/1077 - Train Accuracy: 0.7919, Validation Accuracy: 0.7599, Loss: 0.3916\n",
            "Epoch   7 Batch  400/1077 - Train Accuracy: 0.7520, Validation Accuracy: 0.7727, Loss: 0.4120\n",
            "Epoch   7 Batch  500/1077 - Train Accuracy: 0.7742, Validation Accuracy: 0.7770, Loss: 0.3750\n",
            "Epoch   7 Batch  600/1077 - Train Accuracy: 0.7679, Validation Accuracy: 0.7628, Loss: 0.3852\n",
            "Epoch   7 Batch  700/1077 - Train Accuracy: 0.7898, Validation Accuracy: 0.7607, Loss: 0.3750\n",
            "Epoch   7 Batch  800/1077 - Train Accuracy: 0.7762, Validation Accuracy: 0.7695, Loss: 0.3716\n",
            "Epoch   7 Batch  900/1077 - Train Accuracy: 0.8023, Validation Accuracy: 0.7575, Loss: 0.3874\n",
            "Epoch   7 Batch 1000/1077 - Train Accuracy: 0.8028, Validation Accuracy: 0.7678, Loss: 0.3432\n",
            "Epoch   8 Batch  100/1077 - Train Accuracy: 0.7672, Validation Accuracy: 0.7852, Loss: 0.3619\n",
            "Epoch   8 Batch  200/1077 - Train Accuracy: 0.7871, Validation Accuracy: 0.7862, Loss: 0.3861\n",
            "Epoch   8 Batch  300/1077 - Train Accuracy: 0.8117, Validation Accuracy: 0.7692, Loss: 0.3781\n",
            "Epoch   8 Batch  400/1077 - Train Accuracy: 0.7922, Validation Accuracy: 0.7752, Loss: 0.3756\n",
            "Epoch   8 Batch  500/1077 - Train Accuracy: 0.8129, Validation Accuracy: 0.7724, Loss: 0.3392\n",
            "Epoch   8 Batch  600/1077 - Train Accuracy: 0.8013, Validation Accuracy: 0.7624, Loss: 0.3328\n",
            "Epoch   8 Batch  700/1077 - Train Accuracy: 0.8094, Validation Accuracy: 0.7614, Loss: 0.3382\n",
            "Epoch   8 Batch  800/1077 - Train Accuracy: 0.7914, Validation Accuracy: 0.7638, Loss: 0.3492\n",
            "Epoch   8 Batch  900/1077 - Train Accuracy: 0.8172, Validation Accuracy: 0.7830, Loss: 0.3501\n",
            "Epoch   8 Batch 1000/1077 - Train Accuracy: 0.8114, Validation Accuracy: 0.7958, Loss: 0.3259\n",
            "Epoch   9 Batch  100/1077 - Train Accuracy: 0.8125, Validation Accuracy: 0.8001, Loss: 0.3428\n",
            "Epoch   9 Batch  200/1077 - Train Accuracy: 0.8066, Validation Accuracy: 0.7923, Loss: 0.3549\n",
            "Epoch   9 Batch  300/1077 - Train Accuracy: 0.8335, Validation Accuracy: 0.7660, Loss: 0.3235\n",
            "Epoch   9 Batch  400/1077 - Train Accuracy: 0.8063, Validation Accuracy: 0.8018, Loss: 0.3502\n",
            "Epoch   9 Batch  500/1077 - Train Accuracy: 0.8102, Validation Accuracy: 0.7816, Loss: 0.3081\n",
            "Epoch   9 Batch  600/1077 - Train Accuracy: 0.8110, Validation Accuracy: 0.7745, Loss: 0.3246\n",
            "Epoch   9 Batch  700/1077 - Train Accuracy: 0.8281, Validation Accuracy: 0.7944, Loss: 0.3057\n",
            "Epoch   9 Batch  800/1077 - Train Accuracy: 0.8184, Validation Accuracy: 0.7720, Loss: 0.3335\n",
            "Epoch   9 Batch  900/1077 - Train Accuracy: 0.8266, Validation Accuracy: 0.7859, Loss: 0.3378\n",
            "Epoch   9 Batch 1000/1077 - Train Accuracy: 0.8207, Validation Accuracy: 0.7891, Loss: 0.2933\n",
            "Epoch  10 Batch  100/1077 - Train Accuracy: 0.8246, Validation Accuracy: 0.8001, Loss: 0.3033\n",
            "Epoch  10 Batch  200/1077 - Train Accuracy: 0.8160, Validation Accuracy: 0.8029, Loss: 0.3168\n",
            "Epoch  10 Batch  300/1077 - Train Accuracy: 0.8631, Validation Accuracy: 0.7983, Loss: 0.3121\n",
            "Epoch  10 Batch  400/1077 - Train Accuracy: 0.8313, Validation Accuracy: 0.8175, Loss: 0.3010\n",
            "Epoch  10 Batch  500/1077 - Train Accuracy: 0.8387, Validation Accuracy: 0.7979, Loss: 0.2693\n",
            "Epoch  10 Batch  600/1077 - Train Accuracy: 0.8415, Validation Accuracy: 0.8139, Loss: 0.2761\n",
            "Epoch  10 Batch  700/1077 - Train Accuracy: 0.8605, Validation Accuracy: 0.8295, Loss: 0.2711\n",
            "Epoch  10 Batch  800/1077 - Train Accuracy: 0.8375, Validation Accuracy: 0.8161, Loss: 0.2797\n",
            "Epoch  10 Batch  900/1077 - Train Accuracy: 0.8547, Validation Accuracy: 0.8004, Loss: 0.3093\n",
            "Epoch  10 Batch 1000/1077 - Train Accuracy: 0.8531, Validation Accuracy: 0.8185, Loss: 0.2743\n",
            "Epoch  11 Batch  100/1077 - Train Accuracy: 0.8582, Validation Accuracy: 0.8413, Loss: 0.2625\n",
            "Epoch  11 Batch  200/1077 - Train Accuracy: 0.8547, Validation Accuracy: 0.8335, Loss: 0.2852\n",
            "Epoch  11 Batch  300/1077 - Train Accuracy: 0.8869, Validation Accuracy: 0.8381, Loss: 0.2764\n",
            "Epoch  11 Batch  400/1077 - Train Accuracy: 0.8395, Validation Accuracy: 0.8246, Loss: 0.2875\n",
            "Epoch  11 Batch  500/1077 - Train Accuracy: 0.8664, Validation Accuracy: 0.8288, Loss: 0.2564\n",
            "Epoch  11 Batch  600/1077 - Train Accuracy: 0.8527, Validation Accuracy: 0.8320, Loss: 0.2726\n",
            "Epoch  11 Batch  700/1077 - Train Accuracy: 0.8953, Validation Accuracy: 0.8228, Loss: 0.2434\n",
            "Epoch  11 Batch  800/1077 - Train Accuracy: 0.8727, Validation Accuracy: 0.8338, Loss: 0.2482\n",
            "Epoch  11 Batch  900/1077 - Train Accuracy: 0.8906, Validation Accuracy: 0.8356, Loss: 0.2771\n",
            "Epoch  11 Batch 1000/1077 - Train Accuracy: 0.8880, Validation Accuracy: 0.8565, Loss: 0.2509\n",
            "Epoch  12 Batch  100/1077 - Train Accuracy: 0.8477, Validation Accuracy: 0.8477, Loss: 0.2489\n",
            "Epoch  12 Batch  200/1077 - Train Accuracy: 0.8520, Validation Accuracy: 0.8526, Loss: 0.2667\n",
            "Epoch  12 Batch  300/1077 - Train Accuracy: 0.9128, Validation Accuracy: 0.8459, Loss: 0.2593\n",
            "Epoch  12 Batch  400/1077 - Train Accuracy: 0.8574, Validation Accuracy: 0.8516, Loss: 0.2500\n",
            "Epoch  12 Batch  500/1077 - Train Accuracy: 0.9020, Validation Accuracy: 0.8469, Loss: 0.2228\n",
            "Epoch  12 Batch  600/1077 - Train Accuracy: 0.8735, Validation Accuracy: 0.8363, Loss: 0.2329\n",
            "Epoch  12 Batch  700/1077 - Train Accuracy: 0.8969, Validation Accuracy: 0.8342, Loss: 0.2302\n",
            "Epoch  12 Batch  800/1077 - Train Accuracy: 0.8910, Validation Accuracy: 0.8498, Loss: 0.2261\n",
            "Epoch  12 Batch  900/1077 - Train Accuracy: 0.9086, Validation Accuracy: 0.8484, Loss: 0.2474\n",
            "Epoch  12 Batch 1000/1077 - Train Accuracy: 0.9018, Validation Accuracy: 0.8516, Loss: 0.2206\n",
            "Epoch  13 Batch  100/1077 - Train Accuracy: 0.8742, Validation Accuracy: 0.8501, Loss: 0.2397\n",
            "Epoch  13 Batch  200/1077 - Train Accuracy: 0.8469, Validation Accuracy: 0.8555, Loss: 0.2499\n",
            "Epoch  13 Batch  300/1077 - Train Accuracy: 0.9149, Validation Accuracy: 0.8601, Loss: 0.2222\n",
            "Epoch  13 Batch  400/1077 - Train Accuracy: 0.8918, Validation Accuracy: 0.8580, Loss: 0.2291\n",
            "Epoch  13 Batch  500/1077 - Train Accuracy: 0.9074, Validation Accuracy: 0.8572, Loss: 0.1935\n",
            "Epoch  13 Batch  600/1077 - Train Accuracy: 0.9010, Validation Accuracy: 0.8583, Loss: 0.2239\n",
            "Epoch  13 Batch  700/1077 - Train Accuracy: 0.9039, Validation Accuracy: 0.8473, Loss: 0.2018\n",
            "Epoch  13 Batch  800/1077 - Train Accuracy: 0.8902, Validation Accuracy: 0.8590, Loss: 0.1986\n",
            "Epoch  13 Batch  900/1077 - Train Accuracy: 0.9039, Validation Accuracy: 0.8377, Loss: 0.2182\n",
            "Epoch  13 Batch 1000/1077 - Train Accuracy: 0.9018, Validation Accuracy: 0.8569, Loss: 0.2113\n",
            "Epoch  14 Batch  100/1077 - Train Accuracy: 0.8660, Validation Accuracy: 0.8800, Loss: 0.2169\n",
            "Epoch  14 Batch  200/1077 - Train Accuracy: 0.8633, Validation Accuracy: 0.8707, Loss: 0.2066\n",
            "Epoch  14 Batch  300/1077 - Train Accuracy: 0.9104, Validation Accuracy: 0.8683, Loss: 0.2039\n",
            "Epoch  14 Batch  400/1077 - Train Accuracy: 0.8879, Validation Accuracy: 0.8714, Loss: 0.2095\n",
            "Epoch  14 Batch  500/1077 - Train Accuracy: 0.8922, Validation Accuracy: 0.8778, Loss: 0.1879\n",
            "Epoch  14 Batch  600/1077 - Train Accuracy: 0.8899, Validation Accuracy: 0.8551, Loss: 0.2068\n",
            "Epoch  14 Batch  700/1077 - Train Accuracy: 0.9129, Validation Accuracy: 0.8551, Loss: 0.1959\n",
            "Epoch  14 Batch  800/1077 - Train Accuracy: 0.8883, Validation Accuracy: 0.8647, Loss: 0.1939\n",
            "Epoch  14 Batch  900/1077 - Train Accuracy: 0.9133, Validation Accuracy: 0.8622, Loss: 0.2188\n",
            "Epoch  14 Batch 1000/1077 - Train Accuracy: 0.9126, Validation Accuracy: 0.8743, Loss: 0.1820\n",
            "Epoch  15 Batch  100/1077 - Train Accuracy: 0.8777, Validation Accuracy: 0.8832, Loss: 0.2043\n",
            "Epoch  15 Batch  200/1077 - Train Accuracy: 0.8852, Validation Accuracy: 0.8672, Loss: 0.2221\n",
            "Epoch  15 Batch  300/1077 - Train Accuracy: 0.9260, Validation Accuracy: 0.8523, Loss: 0.1866\n",
            "Epoch  15 Batch  400/1077 - Train Accuracy: 0.8770, Validation Accuracy: 0.8572, Loss: 0.2061\n",
            "Epoch  15 Batch  500/1077 - Train Accuracy: 0.9297, Validation Accuracy: 0.8658, Loss: 0.1725\n",
            "Epoch  15 Batch  600/1077 - Train Accuracy: 0.9156, Validation Accuracy: 0.8754, Loss: 0.1961\n",
            "Epoch  15 Batch  700/1077 - Train Accuracy: 0.9242, Validation Accuracy: 0.8643, Loss: 0.1851\n",
            "Epoch  15 Batch  800/1077 - Train Accuracy: 0.9090, Validation Accuracy: 0.8746, Loss: 0.1774\n",
            "Epoch  15 Batch  900/1077 - Train Accuracy: 0.9105, Validation Accuracy: 0.8651, Loss: 0.2246\n",
            "Epoch  15 Batch 1000/1077 - Train Accuracy: 0.9159, Validation Accuracy: 0.8619, Loss: 0.1886\n",
            "Epoch  16 Batch  100/1077 - Train Accuracy: 0.8754, Validation Accuracy: 0.8793, Loss: 0.1968\n",
            "Epoch  16 Batch  200/1077 - Train Accuracy: 0.8746, Validation Accuracy: 0.8700, Loss: 0.1996\n",
            "Epoch  16 Batch  300/1077 - Train Accuracy: 0.9363, Validation Accuracy: 0.8604, Loss: 0.1748\n",
            "Epoch  16 Batch  400/1077 - Train Accuracy: 0.9102, Validation Accuracy: 0.8775, Loss: 0.1951\n",
            "Epoch  16 Batch  500/1077 - Train Accuracy: 0.9262, Validation Accuracy: 0.8874, Loss: 0.1812\n",
            "Epoch  16 Batch  600/1077 - Train Accuracy: 0.9189, Validation Accuracy: 0.8817, Loss: 0.1907\n",
            "Epoch  16 Batch  700/1077 - Train Accuracy: 0.9195, Validation Accuracy: 0.8629, Loss: 0.1635\n",
            "Epoch  16 Batch  800/1077 - Train Accuracy: 0.9137, Validation Accuracy: 0.8935, Loss: 0.1732\n",
            "Epoch  16 Batch  900/1077 - Train Accuracy: 0.9223, Validation Accuracy: 0.8707, Loss: 0.2043\n",
            "Epoch  16 Batch 1000/1077 - Train Accuracy: 0.9174, Validation Accuracy: 0.8892, Loss: 0.1562\n",
            "Epoch  17 Batch  100/1077 - Train Accuracy: 0.9043, Validation Accuracy: 0.8835, Loss: 0.1937\n",
            "Epoch  17 Batch  200/1077 - Train Accuracy: 0.8742, Validation Accuracy: 0.8885, Loss: 0.2058\n",
            "Epoch  17 Batch  300/1077 - Train Accuracy: 0.9272, Validation Accuracy: 0.8675, Loss: 0.1758\n",
            "Epoch  17 Batch  400/1077 - Train Accuracy: 0.8992, Validation Accuracy: 0.8711, Loss: 0.1882\n",
            "Epoch  17 Batch  500/1077 - Train Accuracy: 0.9238, Validation Accuracy: 0.8629, Loss: 0.1626\n",
            "Epoch  17 Batch  600/1077 - Train Accuracy: 0.8899, Validation Accuracy: 0.8704, Loss: 0.1709\n",
            "Epoch  17 Batch  700/1077 - Train Accuracy: 0.9328, Validation Accuracy: 0.8718, Loss: 0.1584\n",
            "Epoch  17 Batch  800/1077 - Train Accuracy: 0.9113, Validation Accuracy: 0.8810, Loss: 0.1770\n",
            "Epoch  17 Batch  900/1077 - Train Accuracy: 0.9230, Validation Accuracy: 0.8601, Loss: 0.1919\n",
            "Epoch  17 Batch 1000/1077 - Train Accuracy: 0.9241, Validation Accuracy: 0.8849, Loss: 0.1614\n",
            "Epoch  18 Batch  100/1077 - Train Accuracy: 0.8859, Validation Accuracy: 0.8835, Loss: 0.1763\n",
            "Epoch  18 Batch  200/1077 - Train Accuracy: 0.8781, Validation Accuracy: 0.8810, Loss: 0.1778\n",
            "Epoch  18 Batch  300/1077 - Train Accuracy: 0.9367, Validation Accuracy: 0.8729, Loss: 0.1630\n",
            "Epoch  18 Batch  400/1077 - Train Accuracy: 0.8930, Validation Accuracy: 0.8683, Loss: 0.1702\n",
            "Epoch  18 Batch  500/1077 - Train Accuracy: 0.9336, Validation Accuracy: 0.8693, Loss: 0.1408\n",
            "Epoch  18 Batch  600/1077 - Train Accuracy: 0.9215, Validation Accuracy: 0.9002, Loss: 0.1686\n",
            "Epoch  18 Batch  700/1077 - Train Accuracy: 0.9262, Validation Accuracy: 0.8899, Loss: 0.1398\n",
            "Epoch  18 Batch  800/1077 - Train Accuracy: 0.9129, Validation Accuracy: 0.8874, Loss: 0.1372\n",
            "Epoch  18 Batch  900/1077 - Train Accuracy: 0.9234, Validation Accuracy: 0.8871, Loss: 0.1943\n",
            "Epoch  18 Batch 1000/1077 - Train Accuracy: 0.9222, Validation Accuracy: 0.8814, Loss: 0.1578\n",
            "Epoch  19 Batch  100/1077 - Train Accuracy: 0.9012, Validation Accuracy: 0.8796, Loss: 0.1673\n",
            "Epoch  19 Batch  200/1077 - Train Accuracy: 0.8863, Validation Accuracy: 0.8679, Loss: 0.1562\n",
            "Epoch  19 Batch  300/1077 - Train Accuracy: 0.9223, Validation Accuracy: 0.8814, Loss: 0.1694\n",
            "Epoch  19 Batch  400/1077 - Train Accuracy: 0.9043, Validation Accuracy: 0.8991, Loss: 0.1585\n",
            "Epoch  19 Batch  500/1077 - Train Accuracy: 0.9309, Validation Accuracy: 0.8761, Loss: 0.1417\n",
            "Epoch  19 Batch  600/1077 - Train Accuracy: 0.9345, Validation Accuracy: 0.8839, Loss: 0.1705\n",
            "Epoch  19 Batch  700/1077 - Train Accuracy: 0.9238, Validation Accuracy: 0.8821, Loss: 0.1538\n",
            "Epoch  19 Batch  800/1077 - Train Accuracy: 0.9078, Validation Accuracy: 0.8949, Loss: 0.1447\n",
            "Epoch  19 Batch  900/1077 - Train Accuracy: 0.9395, Validation Accuracy: 0.8796, Loss: 0.1852\n",
            "Epoch  19 Batch 1000/1077 - Train Accuracy: 0.9144, Validation Accuracy: 0.8896, Loss: 0.1300\n",
            "Model Trained and Saved\n"
          ],
          "name": "stdout"
        }
      ]
    },
    {
      "metadata": {
        "id": "G8QFwhQH1U_n",
        "colab_type": "text"
      },
      "cell_type": "markdown",
      "source": [
        "### Save Parameters\n",
        "Save the `batch_size` and `save_path` parameters for inference."
      ]
    },
    {
      "metadata": {
        "id": "Mv6LD3ol1U_n",
        "colab_type": "code",
        "colab": {}
      },
      "cell_type": "code",
      "source": [
        "\"\"\"\n",
        "DON'T MODIFY ANYTHING IN THIS CELL\n",
        "\"\"\"\n",
        "# Save parameters for checkpoint\n",
        "helper.save_params(save_path)"
      ],
      "execution_count": 0,
      "outputs": []
    },
    {
      "metadata": {
        "id": "HmEAryA81U_o",
        "colab_type": "text"
      },
      "cell_type": "markdown",
      "source": [
        "# Checkpoint"
      ]
    },
    {
      "metadata": {
        "id": "uEAibs5B1U_o",
        "colab_type": "code",
        "colab": {}
      },
      "cell_type": "code",
      "source": [
        "\"\"\"\n",
        "DON'T MODIFY ANYTHING IN THIS CELL\n",
        "\"\"\"\n",
        "import tensorflow as tf\n",
        "import numpy as np\n",
        "import helper\n",
        "import problem_unittests as tests\n",
        "\n",
        "_, (source_vocab_to_int, target_vocab_to_int), (source_int_to_vocab, target_int_to_vocab) = helper.load_preprocess()\n",
        "load_path = helper.load_params()"
      ],
      "execution_count": 0,
      "outputs": []
    },
    {
      "metadata": {
        "id": "bMQ_zBlX1U_p",
        "colab_type": "text"
      },
      "cell_type": "markdown",
      "source": [
        "## Sentence to Sequence\n",
        "To feed a sentence into the model for translation, you first need to preprocess it.  Implement the function `sentence_to_seq()` to preprocess new sentences.\n",
        "\n",
        "- Convert the sentence to lowercase\n",
        "- Convert words into ids using `vocab_to_int`\n",
        " - Convert words not in the vocabulary, to the `<UNK>` word id."
      ]
    },
    {
      "metadata": {
        "id": "qd788Qwg1U_p",
        "colab_type": "code",
        "colab": {
          "base_uri": "https://localhost:8080/",
          "height": 51
        },
        "outputId": "a1114ffc-f0ee-4f20-d69d-7e5e8eea4945"
      },
      "cell_type": "code",
      "source": [
        "def sentence_to_seq(sentence, vocab_to_int):\n",
        "    \"\"\"\n",
        "    Convert a sentence to a sequence of ids\n",
        "    :param sentence: String\n",
        "    :param vocab_to_int: Dictionary to go from the words to an id\n",
        "    :return: List of word ids\n",
        "    \"\"\"\n",
        "    # TODO: Implement Function\n",
        "    sentence = sentence.lower()\n",
        "    ids = [vocab_to_int[w] if w in vocab_to_int else vocab_to_int['<UNK>']\n",
        "           for w in sentence.split()]\n",
        "    return ids\n",
        "\n",
        "\n",
        "\"\"\"\n",
        "DON'T MODIFY ANYTHING IN THIS CELL THAT IS BELOW THIS LINE\n",
        "\"\"\"\n",
        "tests.test_sentence_to_seq(sentence_to_seq)"
      ],
      "execution_count": 23,
      "outputs": [
        {
          "output_type": "stream",
          "text": [
            "Tests Passed\n"
          ],
          "name": "stdout"
        }
      ]
    },
    {
      "metadata": {
        "id": "l0VjP-U11U_q",
        "colab_type": "text"
      },
      "cell_type": "markdown",
      "source": [
        "## Translate\n",
        "This will translate `translate_sentence` from English to French."
      ]
    },
    {
      "metadata": {
        "id": "ztH4IZGo1U_r",
        "colab_type": "code",
        "colab": {
          "base_uri": "https://localhost:8080/",
          "height": 170
        },
        "outputId": "8b994627-d04f-468e-92a6-492e9dad5fc2"
      },
      "cell_type": "code",
      "source": [
        "translate_sentence = 'he saw a old yellow truck .'\n",
        "\n",
        "\n",
        "\"\"\"\n",
        "DON'T MODIFY ANYTHING IN THIS CELL\n",
        "\"\"\"\n",
        "translate_sentence = sentence_to_seq(translate_sentence, source_vocab_to_int)\n",
        "\n",
        "loaded_graph = tf.Graph()\n",
        "with tf.Session(graph=loaded_graph) as sess:\n",
        "    # Load saved model\n",
        "    loader = tf.train.import_meta_graph(load_path + '.meta')\n",
        "    loader.restore(sess, load_path)\n",
        "\n",
        "    input_data = loaded_graph.get_tensor_by_name('input:0')\n",
        "    logits = loaded_graph.get_tensor_by_name('predictions:0')\n",
        "    target_sequence_length = loaded_graph.get_tensor_by_name('target_sequence_length:0')\n",
        "    source_sequence_length = loaded_graph.get_tensor_by_name('source_sequence_length:0')\n",
        "    keep_prob = loaded_graph.get_tensor_by_name('keep_prob:0')\n",
        "\n",
        "    translate_logits = sess.run(logits, {input_data: [translate_sentence]*batch_size,\n",
        "                                         target_sequence_length: [len(translate_sentence)*2]*batch_size,\n",
        "                                         source_sequence_length: [len(translate_sentence)]*batch_size,\n",
        "                                         keep_prob: 1.0})[0]\n",
        "\n",
        "print('Input')\n",
        "print('  Word Ids:      {}'.format([i for i in translate_sentence]))\n",
        "print('  English Words: {}'.format([source_int_to_vocab[i] for i in translate_sentence]))\n",
        "\n",
        "print('\\nPrediction')\n",
        "print('  Word Ids:      {}'.format([i for i in translate_logits]))\n",
        "print('  French Words: {}'.format(\" \".join([target_int_to_vocab[i] for i in translate_logits])))\n"
      ],
      "execution_count": 24,
      "outputs": [
        {
          "output_type": "stream",
          "text": [
            "INFO:tensorflow:Restoring parameters from checkpoints/dev\n",
            "Input\n",
            "  Word Ids:      [48, 148, 8, 26, 194, 108, 229]\n",
            "  English Words: ['he', 'saw', 'a', 'old', 'yellow', 'truck', '.']\n",
            "\n",
            "Prediction\n",
            "  Word Ids:      [131, 190, 315, 329, 154, 28, 329, 98, 1]\n",
            "  French Words: il aime le verts , citrons verts . <EOS>\n"
          ],
          "name": "stdout"
        }
      ]
    },
    {
      "metadata": {
        "id": "azMbzc9d1U_s",
        "colab_type": "text"
      },
      "cell_type": "markdown",
      "source": [
        "## Imperfect Translation\n",
        "You might notice that some sentences translate better than others.  Since the dataset you're using only has a vocabulary of 227 English words of the thousands that you use, you're only going to see good results using these words.  For this project, you don't need a perfect translation. However, if you want to create a better translation model, you'll need better data.\n",
        "\n",
        "You can train on the [WMT10 French-English corpus](http://www.statmt.org/wmt10/training-giga-fren.tar).  This dataset has more vocabulary and richer in topics discussed.  However, this will take you days to train, so make sure you've a GPU and the neural network is performing well on dataset we provided.  Just make sure you play with the WMT10 corpus after you've submitted this project.\n",
        "## Submitting This Project\n",
        "When submitting this project, make sure to run all the cells before saving the notebook. Save the notebook file as \"dlnd_language_translation.ipynb\" and save it as a HTML file under \"File\" -> \"Download as\". Include the \"helper.py\" and \"problem_unittests.py\" files in your submission."
      ]
    }
  ]
}