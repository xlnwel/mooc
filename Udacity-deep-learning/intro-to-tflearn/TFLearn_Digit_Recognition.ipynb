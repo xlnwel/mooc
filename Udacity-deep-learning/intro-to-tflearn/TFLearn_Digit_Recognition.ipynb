{
  "nbformat": 4,
  "nbformat_minor": 0,
  "metadata": {
    "colab": {
      "name": "TFLearn_Digit_Recognition.ipynb",
      "version": "0.3.2",
      "provenance": []
    },
    "kernelspec": {
      "display_name": "Python [default]",
      "language": "python",
      "name": "python3"
    },
    "accelerator": "GPU"
  },
  "cells": [
    {
      "metadata": {
        "id": "eJIOTfF4a08z",
        "colab_type": "text"
      },
      "cell_type": "markdown",
      "source": [
        "# Handwritten Number Recognition with TFLearn and MNIST\n",
        "\n",
        "In this notebook, we'll be building a neural network that recognizes handwritten numbers 0-9. \n",
        "\n",
        "This kind of neural network is used in a variety of real-world applications including: recognizing phone numbers and sorting postal mail by address. To build the network, we'll be using the **MNIST** data set, which consists of images of handwritten numbers and their correct labels 0-9.\n",
        "\n",
        "We'll be using [TFLearn](http://tflearn.org/), a high-level library built on top of TensorFlow to build the neural network. We'll start off by importing all the modules we'll need, then load the data, and finally build the network."
      ]
    },
    {
      "metadata": {
        "id": "_ngRGtaia082",
        "colab_type": "code",
        "colab": {
          "base_uri": "https://localhost:8080/",
          "height": 255
        },
        "outputId": "6c280679-e506-4f28-b4e1-374e2ac53c1b"
      },
      "cell_type": "code",
      "source": [
        "# Import Numpy, TensorFlow, TFLearn, and MNIST data\n",
        "import numpy as np\n",
        "import tensorflow as tf\n",
        "!pip install tflearn\n",
        "import tflearn\n",
        "import tflearn.datasets.mnist as mnist"
      ],
      "execution_count": 3,
      "outputs": [
        {
          "output_type": "stream",
          "text": [
            "Collecting tflearn\n",
            "\u001b[?25l  Downloading https://files.pythonhosted.org/packages/16/ec/e9ce1b52e71f6dff3bd944f020cef7140779e783ab27512ea7c7275ddee5/tflearn-0.3.2.tar.gz (98kB)\n",
            "\u001b[K    100% |████████████████████████████████| 102kB 3.0MB/s \n",
            "\u001b[?25hRequirement already satisfied: numpy in /usr/local/lib/python3.6/dist-packages (from tflearn) (1.14.5)\n",
            "Requirement already satisfied: six in /usr/local/lib/python3.6/dist-packages (from tflearn) (1.11.0)\n",
            "Requirement already satisfied: Pillow in /usr/local/lib/python3.6/dist-packages (from tflearn) (4.0.0)\n",
            "Requirement already satisfied: olefile in /usr/local/lib/python3.6/dist-packages (from Pillow->tflearn) (0.45.1)\n",
            "Building wheels for collected packages: tflearn\n",
            "  Running setup.py bdist_wheel for tflearn ... \u001b[?25l-\b \b\\\b \bdone\n",
            "\u001b[?25h  Stored in directory: /content/.cache/pip/wheels/d0/f6/69/0ef3ee395aac2e5d15d89efd29a9a216f3c27767b43b72c006\n",
            "Successfully built tflearn\n",
            "Installing collected packages: tflearn\n",
            "Successfully installed tflearn-0.3.2\n"
          ],
          "name": "stdout"
        }
      ]
    },
    {
      "metadata": {
        "id": "mWIfCoSaa088",
        "colab_type": "text"
      },
      "cell_type": "markdown",
      "source": [
        "## Retrieving training and test data\n",
        "\n",
        "The MNIST data set already contains both training and test data. There are 55,000 data points of training data, and 10,000 points of test data.\n",
        "\n",
        "Each MNIST data point has:\n",
        "1. an image of a handwritten digit and \n",
        "2. a corresponding label (a number 0-9 that identifies the image)\n",
        "\n",
        "We'll call the images, which will be the input to our neural network, **X** and their corresponding labels **Y**.\n",
        "\n",
        "We're going to want our labels as *one-hot vectors*, which are vectors that holds mostly 0's and one 1. It's easiest to see this in a example. As a one-hot vector, the number 0 is represented as [1, 0, 0, 0, 0, 0, 0, 0, 0, 0], and 4 is represented as [0, 0, 0, 0, 1, 0, 0, 0, 0, 0].\n",
        "\n",
        "### Flattened data\n",
        "\n",
        "For this example, we'll be using *flattened* data or a representation of MNIST images in one dimension rather than two. So, each handwritten number image, which is 28x28 pixels, will be represented as a one dimensional array of 784 pixel values. \n",
        "\n",
        "Flattening the data throws away information about the 2D structure of the image, but it simplifies our data so that all of the training data can be contained in one array whose shape is [55000, 784]; the first dimension is the number of training images and the second dimension is the number of pixels in each image. This is the kind of data that is easy to analyze using a simple neural network."
      ]
    },
    {
      "metadata": {
        "id": "Nj5sOM4Za089",
        "colab_type": "code",
        "colab": {
          "base_uri": "https://localhost:8080/",
          "height": 238
        },
        "outputId": "3fa5f04a-cdfd-4123-8d7e-4552f4c9f4c2"
      },
      "cell_type": "code",
      "source": [
        "# Retrieve the training and test data\n",
        "trainX, trainY, testX, testY = mnist.load_data(one_hot=True)"
      ],
      "execution_count": 4,
      "outputs": [
        {
          "output_type": "stream",
          "text": [
            "Downloading MNIST...\n",
            "Succesfully downloaded train-images-idx3-ubyte.gz 9912422 bytes.\n",
            "Extracting mnist/train-images-idx3-ubyte.gz\n",
            "Downloading MNIST...\n",
            "Succesfully downloaded train-labels-idx1-ubyte.gz 28881 bytes.\n",
            "Extracting mnist/train-labels-idx1-ubyte.gz\n",
            "Downloading MNIST...\n",
            "Succesfully downloaded t10k-images-idx3-ubyte.gz 1648877 bytes.\n",
            "Extracting mnist/t10k-images-idx3-ubyte.gz\n",
            "Downloading MNIST...\n",
            "Succesfully downloaded t10k-labels-idx1-ubyte.gz 4542 bytes.\n",
            "Extracting mnist/t10k-labels-idx1-ubyte.gz\n"
          ],
          "name": "stdout"
        }
      ]
    },
    {
      "metadata": {
        "id": "UuxmMpHXa09B",
        "colab_type": "text"
      },
      "cell_type": "markdown",
      "source": [
        "## Visualize the training data\n",
        "\n",
        "Provided below is a function that will help you visualize the MNIST data. By passing in the index of a training example, the function `show_digit` will display that training image along with it's corresponding label in the title."
      ]
    },
    {
      "metadata": {
        "id": "3zhmPIVna09C",
        "colab_type": "code",
        "colab": {
          "base_uri": "https://localhost:8080/",
          "height": 297
        },
        "outputId": "b91d1a7f-e970-490e-9da6-347f93f16445"
      },
      "cell_type": "code",
      "source": [
        "# Visualizing the data\n",
        "import matplotlib.pyplot as plt\n",
        "%matplotlib inline\n",
        "\n",
        "# Function for displaying a training image by it's index in the MNIST set\n",
        "def show_digit(index):\n",
        "    label = trainY[index].argmax(axis=0)\n",
        "    # Reshape 784 array into 28x28 image\n",
        "    image = trainX[index].reshape([28,28])\n",
        "    plt.title('Training data, index: %d,  Label: %d' % (index, label))\n",
        "    plt.imshow(image, cmap='gray_r')\n",
        "    plt.show()\n",
        "    \n",
        "# Display the first (index 0) training image\n",
        "show_digit(0)"
      ],
      "execution_count": 5,
      "outputs": [
        {
          "output_type": "display_data",
          "data": {
            "image/png": "[encoded data removed]",
            "text/plain": [
              "<matplotlib.figure.Figure at 0x7f7729a7f780>"
            ]
          },
          "metadata": {
            "tags": []
          }
        }
      ]
    },
    {
      "metadata": {
        "id": "ge-nzF0oa09F",
        "colab_type": "text"
      },
      "cell_type": "markdown",
      "source": [
        "## Building the network\n",
        "\n",
        "TFLearn lets you build the network by defining the layers in that network. \n",
        "\n",
        "For this example, you'll define:\n",
        "\n",
        "1. The input layer, which tells the network the number of inputs it should expect for each piece of MNIST data. \n",
        "2. Hidden layers, which recognize patterns in data and connect the input to the output layer, and\n",
        "3. The output layer, which defines how the network learns and outputs a label for a given image.\n",
        "\n",
        "Let's start with the input layer; to define the input layer, you'll define the type of data that the network expects. For example,\n",
        "\n",
        "```\n",
        "net = tflearn.input_data([None, 100])\n",
        "```\n",
        "\n",
        "would create a network with 100 inputs. The number of inputs to your network needs to match the size of your data. For this example, we're using 784 element long vectors to encode our input data, so we need **784 input units**.\n",
        "\n",
        "\n",
        "### Adding layers\n",
        "\n",
        "To add new hidden layers, you use \n",
        "\n",
        "```\n",
        "net = tflearn.fully_connected(net, n_units, activation='ReLU')\n",
        "```\n",
        "\n",
        "This adds a fully connected layer where every unit (or node) in the previous layer is connected to every unit in this layer. The first argument `net` is the network you created in the `tflearn.input_data` call, it designates the input to the hidden layer. You can set the number of units in the layer with `n_units`, and set the activation function with the `activation` keyword. You can keep adding layers to your network by repeated calling `tflearn.fully_connected(net, n_units)`. \n",
        "\n",
        "Then, to set how you train the network, use:\n",
        "\n",
        "```\n",
        "net = tflearn.regression(net, optimizer='sgd', learning_rate=0.1, loss='categorical_crossentropy')\n",
        "```\n",
        "\n",
        "Again, this is passing in the network you've been building. The keywords: \n",
        "\n",
        "* `optimizer` sets the training method, here stochastic gradient descent\n",
        "* `learning_rate` is the learning rate\n",
        "* `loss` determines how the network error is calculated. In this example, with categorical cross-entropy.\n",
        "\n",
        "Finally, you put all this together to create the model with `tflearn.DNN(net)`."
      ]
    },
    {
      "metadata": {
        "id": "pij5ziNsa09F",
        "colab_type": "text"
      },
      "cell_type": "markdown",
      "source": [
        "**Exercise:** Below in the `build_model()` function, you'll put together the network using TFLearn. You get to choose how many layers to use, how many hidden units, etc.\n",
        "\n",
        "**Hint:** The final output layer must have 10 output nodes (one for each digit 0-9). It's also recommended to use a `softmax` activation layer as your final output layer. "
      ]
    },
    {
      "metadata": {
        "id": "bQ_5SKbBa09G",
        "colab_type": "code",
        "colab": {}
      },
      "cell_type": "code",
      "source": [
        "# Define the neural network\n",
        "def build_model():\n",
        "    # This resets all parameters and variables, leave this here\n",
        "    tf.reset_default_graph()\n",
        "    \n",
        "    #### Your code ####\n",
        "    # Include the input layer, hidden layer(s), and set how you want to train the model\n",
        "    inputs = tflearn.input_data([None, trainX.shape[1]])\n",
        "    \n",
        "    fc1 = tflearn.fully_connected(inputs, 1024, activation='ReLU')\n",
        "    fc2 = tflearn.fully_connected(fc1, 512, activation='ReLU')\n",
        "    \n",
        "    out = tflearn.fully_connected(fc2, 10, activation='softmax')\n",
        "    net = tflearn.regression(out, optimizer='adam', learning_rate=1e-3, loss='categorical_crossentropy')\n",
        "    \n",
        "    # This model assumes that your network is named \"net\"    \n",
        "    model = tflearn.DNN(net)\n",
        "    return model"
      ],
      "execution_count": 0,
      "outputs": []
    },
    {
      "metadata": {
        "id": "8Apy-Dtba09K",
        "colab_type": "code",
        "colab": {
          "base_uri": "https://localhost:8080/",
          "height": 145
        },
        "outputId": "09ed5450-eb4d-4250-8da1-58ba7284179e"
      },
      "cell_type": "code",
      "source": [
        "# Build the model\n",
        "model = build_model()"
      ],
      "execution_count": 7,
      "outputs": [
        {
          "output_type": "stream",
          "text": [
            "WARNING:tensorflow:From /usr/local/lib/python3.6/dist-packages/tflearn/objectives.py:66: calling reduce_sum (from tensorflow.python.ops.math_ops) with keep_dims is deprecated and will be removed in a future version.\n",
            "Instructions for updating:\n",
            "keep_dims is deprecated, use keepdims instead\n"
          ],
          "name": "stdout"
        }
      ]
    },
    {
      "metadata": {
        "id": "MnUwTY33a09N",
        "colab_type": "text"
      },
      "cell_type": "markdown",
      "source": [
        "## Training the network\n",
        "\n",
        "Now that we've constructed the network, saved as the variable `model`, we can fit it to the data. Here we use the `model.fit` method. You pass in the training features `trainX` and the training targets `trainY`. Below I set `validation_set=0.1` which reserves 10% of the data set as the validation set. You can also set the batch size and number of epochs with the `batch_size` and `n_epoch` keywords, respectively. \n",
        "\n",
        "Too few epochs don't effectively train your network, and too many take a long time to execute. Choose wisely!"
      ]
    },
    {
      "metadata": {
        "id": "LOgAnBdNa09O",
        "colab_type": "code",
        "colab": {
          "base_uri": "https://localhost:8080/",
          "height": 119
        },
        "outputId": "412a4126-f234-49e8-826d-b5170215145d"
      },
      "cell_type": "code",
      "source": [
        "# Training\n",
        "model.fit(trainX, trainY, validation_set=0.1, show_metric=True, batch_size=100, n_epoch=20)"
      ],
      "execution_count": 8,
      "outputs": [
        {
          "output_type": "stream",
          "text": [
            "Training Step: 9899  | total loss: \u001b[1m\u001b[32m0.60830\u001b[0m\u001b[0m | time: 4.707s\n",
            "| Adam | epoch: 020 | loss: 0.60830 - acc: 0.9552 -- iter: 49400/49500\n",
            "Training Step: 9900  | total loss: \u001b[1m\u001b[32m0.55157\u001b[0m\u001b[0m | time: 5.733s\n",
            "| Adam | epoch: 020 | loss: 0.55157 - acc: 0.9577 | val_loss: 0.11367 - val_acc: 0.9731 -- iter: 49500/49500\n",
            "--\n"
          ],
          "name": "stdout"
        }
      ]
    },
    {
      "metadata": {
        "id": "3fINvTywa09Q",
        "colab_type": "text"
      },
      "cell_type": "markdown",
      "source": [
        "## Testing\n",
        "After you're satisified with the training output and accuracy, you can then run the network on the **test data set** to measure it's performance! Remember, only do this after you've done the training and are satisfied with the results.\n",
        "\n",
        "A good result will be **higher than 95% accuracy**. Some simple models have been known to get up to 99.7% accuracy!"
      ]
    },
    {
      "metadata": {
        "id": "4RJB-8Jca09Q",
        "colab_type": "code",
        "colab": {
          "base_uri": "https://localhost:8080/",
          "height": 51
        },
        "outputId": "2b987dcd-b0ec-4bcf-821d-c2d93730dd15"
      },
      "cell_type": "code",
      "source": [
        "# Compare the labels that our model predicts with the actual labels\n",
        "\n",
        "# Find the indices of the most confident prediction for each item. That tells us the predicted digit for that sample.\n",
        "predictions = np.array(model.predict(testX)).argmax(axis=1)\n",
        "\n",
        "# Calculate the accuracy, which is the percentage of times the predicated labels matched the actual labels\n",
        "actual = testY.argmax(axis=1)\n",
        "test_accuracy = np.mean(predictions == actual, axis=0)\n",
        "\n",
        "# Print out the result\n",
        "print(\"Test accuracy: \", test_accuracy)"
      ],
      "execution_count": 9,
      "outputs": [
        {
          "output_type": "stream",
          "text": [
            "Test accuracy:  0.974\n"
          ],
          "name": "stdout"
        }
      ]
    }
  ]
}