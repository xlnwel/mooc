{
  "nbformat": 4,
  "nbformat_minor": 0,
  "metadata": {
    "colab": {
      "name": "dlnd_tv_script_generation.ipynb",
      "version": "0.3.2",
      "provenance": []
    },
    "kernelspec": {
      "display_name": "Python 3",
      "language": "python",
      "name": "python3"
    },
    "accelerator": "GPU"
  },
  "cells": [
    {
      "metadata": {
        "id": "N54hyBcJm1Hl",
        "colab_type": "text"
      },
      "cell_type": "markdown",
      "source": [
        "# TV Script Generation\n",
        "In this project, you'll generate your own [Simpsons](https://en.wikipedia.org/wiki/The_Simpsons) TV scripts using RNNs.  You'll be using part of the [Simpsons dataset](https://www.kaggle.com/wcukierski/the-simpsons-by-the-data) of scripts from 27 seasons.  The Neural Network you'll build will generate a new TV script for a scene at [Moe's Tavern](https://simpsonswiki.com/wiki/Moe's_Tavern).\n",
        "## Get the Data\n",
        "The data is already provided for you.  You'll be using a subset of the original dataset.  It consists of only the scenes in Moe's Tavern.  This doesn't include other versions of the tavern, like \"Moe's Cavern\", \"Flaming Moe's\", \"Uncle Moe's Family Feed-Bag\", etc.."
      ]
    },
    {
      "metadata": {
        "id": "CeC-Q7Rpm1Hn",
        "colab_type": "code",
        "colab": {
          "base_uri": "https://localhost:8080/",
          "height": 51
        },
        "outputId": "cc49e850-c366-48c1-f973-2e7df6eeae93"
      },
      "cell_type": "code",
      "source": [
        "%cd deep-learning/tv-script-generation\n",
        "\"\"\"\n",
        "DON'T MODIFY ANYTHING IN THIS CELL\n",
        "\"\"\"\n",
        "import helper\n",
        "\n",
        "data_dir = './data/simpsons/moes_tavern_lines.txt'\n",
        "text = helper.load_data(data_dir)\n",
        "# Ignore notice, since we don't use it for analysing the data\n",
        "text = text[81:]"
      ],
      "execution_count": 1,
      "outputs": [
        {
          "output_type": "stream",
          "text": [
            "/content/deep-learning/tv-script-generation\n"
          ],
          "name": "stdout"
        }
      ]
    },
    {
      "metadata": {
        "id": "Sl_DuIphm1Hq",
        "colab_type": "text"
      },
      "cell_type": "markdown",
      "source": [
        "## Explore the Data\n",
        "Play around with `view_sentence_range` to view different parts of the data."
      ]
    },
    {
      "metadata": {
        "id": "yUufgbBTm1Hr",
        "colab_type": "code",
        "colab": {
          "base_uri": "https://localhost:8080/",
          "height": 340
        },
        "outputId": "039f8a32-c21a-498c-c84a-9ca348467826"
      },
      "cell_type": "code",
      "source": [
        "view_sentence_range = (0, 10)\n",
        "\n",
        "\"\"\"\n",
        "DON'T MODIFY ANYTHING IN THIS CELL\n",
        "\"\"\"\n",
        "import numpy as np\n",
        "\n",
        "print('Dataset Stats')\n",
        "print('Roughly the number of unique words: {}'.format(len({word: None for word in text.split()})))\n",
        "scenes = text.split('\\n\\n')\n",
        "print('Number of scenes: {}'.format(len(scenes)))\n",
        "sentence_count_scene = [scene.count('\\n') for scene in scenes]\n",
        "print('Average number of sentences in each scene: {}'.format(np.average(sentence_count_scene)))\n",
        "\n",
        "sentences = [sentence for scene in scenes for sentence in scene.split('\\n')]\n",
        "print('Number of lines: {}'.format(len(sentences)))\n",
        "word_count_sentence = [len(sentence.split()) for sentence in sentences]\n",
        "print('Average number of words in each line: {}'.format(np.average(word_count_sentence)))\n",
        "\n",
        "print()\n",
        "print('The sentences {} to {}:'.format(*view_sentence_range))\n",
        "print('\\n'.join(text.split('\\n')[view_sentence_range[0]:view_sentence_range[1]]))"
      ],
      "execution_count": 2,
      "outputs": [
        {
          "output_type": "stream",
          "text": [
            "Dataset Stats\n",
            "Roughly the number of unique words: 11492\n",
            "Number of scenes: 262\n",
            "Average number of sentences in each scene: 15.248091603053435\n",
            "Number of lines: 4257\n",
            "Average number of words in each line: 11.50434578341555\n",
            "\n",
            "The sentences 0 to 10:\n",
            "Moe_Szyslak: (INTO PHONE) Moe's Tavern. Where the elite meet to drink.\n",
            "Bart_Simpson: Eh, yeah, hello, is Mike there? Last name, Rotch.\n",
            "Moe_Szyslak: (INTO PHONE) Hold on, I'll check. (TO BARFLIES) Mike Rotch. Mike Rotch. Hey, has anybody seen Mike Rotch, lately?\n",
            "Moe_Szyslak: (INTO PHONE) Listen you little puke. One of these days I'm gonna catch you, and I'm gonna carve my name on your back with an ice pick.\n",
            "Moe_Szyslak: What's the matter Homer? You're not your normal effervescent self.\n",
            "Homer_Simpson: I got my problems, Moe. Give me another one.\n",
            "Moe_Szyslak: Homer, hey, you should not drink to forget your problems.\n",
            "Barney_Gumble: Yeah, you should only drink to enhance your social skills.\n",
            "\n",
            "\n"
          ],
          "name": "stdout"
        }
      ]
    },
    {
      "metadata": {
        "id": "n11eJUtZm1Hv",
        "colab_type": "text"
      },
      "cell_type": "markdown",
      "source": [
        "## Implement Preprocessing Functions\n",
        "The first thing to do to any dataset is preprocessing.  Implement the following preprocessing functions below:\n",
        "- Lookup Table\n",
        "- Tokenize Punctuation\n",
        "\n",
        "### Lookup Table\n",
        "To create a word embedding, you first need to transform the words to ids.  In this function, create two dictionaries:\n",
        "- Dictionary to go from the words to an id, we'll call `vocab_to_int`\n",
        "- Dictionary to go from the id to word, we'll call `int_to_vocab`\n",
        "\n",
        "Return these dictionaries in the following tuple `(vocab_to_int, int_to_vocab)`"
      ]
    },
    {
      "metadata": {
        "id": "153ovfbWm1Hw",
        "colab_type": "code",
        "colab": {
          "base_uri": "https://localhost:8080/",
          "height": 51
        },
        "outputId": "8e6e9024-5aed-485c-d31e-1284bd8a4e62"
      },
      "cell_type": "code",
      "source": [
        "import numpy as np\n",
        "import problem_unittests as tests\n",
        "\n",
        "def create_lookup_tables(text):\n",
        "    \"\"\"\n",
        "    Create lookup tables for vocabulary\n",
        "    :param text: The text of tv scripts split into words\n",
        "    :return: A tuple of dicts (vocab_to_int, int_to_vocab)\n",
        "    \"\"\"\n",
        "    # TODO: Implement Function\n",
        "    words = set(text)\n",
        "    words = sorted(words)\n",
        "    \n",
        "    vocab_to_int = {w: i for i, w in enumerate(words)}\n",
        "    int_to_vocab = {i: w for i, w in enumerate(words)}\n",
        "    return vocab_to_int, int_to_vocab\n",
        "\n",
        "\n",
        "\"\"\"\n",
        "DON'T MODIFY ANYTHING IN THIS CELL THAT IS BELOW THIS LINE\n",
        "\"\"\"\n",
        "tests.test_create_lookup_tables(create_lookup_tables)"
      ],
      "execution_count": 3,
      "outputs": [
        {
          "output_type": "stream",
          "text": [
            "Tests Passed\n"
          ],
          "name": "stdout"
        }
      ]
    },
    {
      "metadata": {
        "id": "SQkZO4r7m1Hy",
        "colab_type": "text"
      },
      "cell_type": "markdown",
      "source": [
        "### Tokenize Punctuation\n",
        "We'll be splitting the script into a word array using spaces as delimiters.  However, punctuations like periods and exclamation marks make it hard for the neural network to distinguish between the word \"bye\" and \"bye!\".\n",
        "\n",
        "Implement the function `token_lookup` to return a dict that will be used to tokenize symbols like \"!\" into \"||Exclamation_Mark||\".  Create a dictionary for the following symbols where the symbol is the key and value is the token:\n",
        "- Period ( . )\n",
        "- Comma ( , )\n",
        "- Quotation Mark ( \" )\n",
        "- Semicolon ( ; )\n",
        "- Exclamation mark ( ! )\n",
        "- Question mark ( ? )\n",
        "- Left Parentheses ( ( )\n",
        "- Right Parentheses ( ) )\n",
        "- Dash ( -- )\n",
        "- Return ( \\n )\n",
        "\n",
        "This dictionary will be used to token the symbols and add the delimiter (space) around it.  This separates the symbols as it's own word, making it easier for the neural network to predict on the next word. Make sure you don't use a token that could be confused as a word. Instead of using the token \"dash\", try using something like \"||dash||\"."
      ]
    },
    {
      "metadata": {
        "id": "fhQZxTjKm1Hz",
        "colab_type": "code",
        "colab": {
          "base_uri": "https://localhost:8080/",
          "height": 51
        },
        "outputId": "1e8a624f-967a-4a5a-fbb9-db5ff849898d"
      },
      "cell_type": "code",
      "source": [
        "def token_lookup():\n",
        "    \"\"\"\n",
        "    Generate a dict to turn punctuation into a token.\n",
        "    :return: Tokenize dictionary where the key is the punctuation and the value is the token\n",
        "    \"\"\"\n",
        "    # TODO: Implement Function\n",
        "    symbol = ['.', ',', '\"', ';', '!', '?', '(', ')', '--', '\\n']\n",
        "    token = ['Period', 'Comma', 'Quotation_Mark', 'Semicolon', 'Exclamation_Mark',\n",
        "            'Question_Mark', 'Left_Parentheses', 'Right_Parentheses', 'Dash', 'Return']\n",
        "    token = ['||' + t + '||' for t in token]\n",
        "    return dict(zip(symbol, token))\n",
        "\n",
        "\"\"\"\n",
        "DON'T MODIFY ANYTHING IN THIS CELL THAT IS BELOW THIS LINE\n",
        "\"\"\"\n",
        "tests.test_tokenize(token_lookup)"
      ],
      "execution_count": 4,
      "outputs": [
        {
          "output_type": "stream",
          "text": [
            "Tests Passed\n"
          ],
          "name": "stdout"
        }
      ]
    },
    {
      "metadata": {
        "id": "hf79EUEBm1H2",
        "colab_type": "text"
      },
      "cell_type": "markdown",
      "source": [
        "## Preprocess all the data and save it\n",
        "Running the code cell below will preprocess all the data and save it to file."
      ]
    },
    {
      "metadata": {
        "id": "1gvIaCnMm1H3",
        "colab_type": "code",
        "colab": {}
      },
      "cell_type": "code",
      "source": [
        "\"\"\"\n",
        "DON'T MODIFY ANYTHING IN THIS CELL\n",
        "\"\"\"\n",
        "# Preprocess Training, Validation, and Testing Data\n",
        "helper.preprocess_and_save_data(data_dir, token_lookup, create_lookup_tables)"
      ],
      "execution_count": 0,
      "outputs": []
    },
    {
      "metadata": {
        "id": "hgLPeFgtm1H6",
        "colab_type": "text"
      },
      "cell_type": "markdown",
      "source": [
        "# Check Point\n",
        "This is your first checkpoint. If you ever decide to come back to this notebook or have to restart the notebook, you can start from here. The preprocessed data has been saved to disk."
      ]
    },
    {
      "metadata": {
        "id": "5711Y941m1H6",
        "colab_type": "code",
        "colab": {}
      },
      "cell_type": "code",
      "source": [
        "\"\"\"\n",
        "DON'T MODIFY ANYTHING IN THIS CELL\n",
        "\"\"\"\n",
        "import helper\n",
        "import numpy as np\n",
        "import problem_unittests as tests\n",
        "\n",
        "int_text, vocab_to_int, int_to_vocab, token_dict = helper.load_preprocess()"
      ],
      "execution_count": 0,
      "outputs": []
    },
    {
      "metadata": {
        "id": "m3GmtCVTm1H8",
        "colab_type": "text"
      },
      "cell_type": "markdown",
      "source": [
        "## Build the Neural Network\n",
        "You'll build the components necessary to build a RNN by implementing the following functions below:\n",
        "- get_inputs\n",
        "- get_init_cell\n",
        "- get_embed\n",
        "- build_rnn\n",
        "- build_nn\n",
        "- get_batches\n",
        "\n",
        "### Check the Version of TensorFlow and Access to GPU"
      ]
    },
    {
      "metadata": {
        "id": "auu5BOBim1H9",
        "colab_type": "code",
        "colab": {
          "base_uri": "https://localhost:8080/",
          "height": 68
        },
        "outputId": "018aac69-a89c-43ef-acaa-5c254e78c3cf"
      },
      "cell_type": "code",
      "source": [
        "\"\"\"\n",
        "DON'T MODIFY ANYTHING IN THIS CELL\n",
        "\"\"\"\n",
        "from distutils.version import LooseVersion\n",
        "import warnings\n",
        "import tensorflow as tf\n",
        "\n",
        "# Check TensorFlow Version\n",
        "assert LooseVersion(tf.__version__) >= LooseVersion('1.3'), 'Please use TensorFlow version 1.3 or newer'\n",
        "print('TensorFlow Version: {}'.format(tf.__version__))\n",
        "\n",
        "# Check for a GPU\n",
        "if not tf.test.gpu_device_name():\n",
        "    warnings.warn('No GPU found. Please use a GPU to train your neural network.')\n",
        "else:\n",
        "    print('Default GPU Device: {}'.format(tf.test.gpu_device_name()))"
      ],
      "execution_count": 7,
      "outputs": [
        {
          "output_type": "stream",
          "text": [
            "TensorFlow Version: 1.10.0-rc1\n",
            "Default GPU Device: /device:GPU:0\n"
          ],
          "name": "stdout"
        }
      ]
    },
    {
      "metadata": {
        "id": "fB-yuxmHm1IA",
        "colab_type": "text"
      },
      "cell_type": "markdown",
      "source": [
        "### Input\n",
        "Implement the `get_inputs()` function to create TF Placeholders for the Neural Network.  It should create the following placeholders:\n",
        "- Input text placeholder named \"input\" using the [TF Placeholder](https://www.tensorflow.org/api_docs/python/tf/placeholder) `name` parameter.\n",
        "- Targets placeholder\n",
        "- Learning Rate placeholder\n",
        "\n",
        "Return the placeholders in the following tuple `(Input, Targets, LearningRate)`"
      ]
    },
    {
      "metadata": {
        "id": "MQiaDYqnm1IA",
        "colab_type": "code",
        "colab": {
          "base_uri": "https://localhost:8080/",
          "height": 51
        },
        "outputId": "14a576e8-7df9-48ab-cfda-c545c57e2c67"
      },
      "cell_type": "code",
      "source": [
        "def get_inputs():\n",
        "    \"\"\"\n",
        "    Create TF Placeholders for input, targets, and learning rate.\n",
        "    :return: Tuple (input, targets, learning rate)\n",
        "    \"\"\"\n",
        "    # TODO: Implement Function\n",
        "    inputs = tf.placeholder(tf.int32, [None, None], name='input')\n",
        "    targets = tf.placeholder(tf.int32, [None, None], name='targets')\n",
        "    lr = tf.placeholder(tf.float32, name='learing_rate')\n",
        "    return inputs, targets, lr\n",
        "\n",
        "\n",
        "\"\"\"\n",
        "DON'T MODIFY ANYTHING IN THIS CELL THAT IS BELOW THIS LINE\n",
        "\"\"\"\n",
        "tests.test_get_inputs(get_inputs)"
      ],
      "execution_count": 8,
      "outputs": [
        {
          "output_type": "stream",
          "text": [
            "Tests Passed\n"
          ],
          "name": "stdout"
        }
      ]
    },
    {
      "metadata": {
        "id": "WZuY5UVFm1IC",
        "colab_type": "text"
      },
      "cell_type": "markdown",
      "source": [
        "### Build RNN Cell and Initialize\n",
        "Stack one or more [`BasicLSTMCells`](https://www.tensorflow.org/api_docs/python/tf/contrib/rnn/BasicLSTMCell) in a [`MultiRNNCell`](https://www.tensorflow.org/api_docs/python/tf/contrib/rnn/MultiRNNCell).\n",
        "- The Rnn size should be set using `rnn_size`\n",
        "- Initalize Cell State using the MultiRNNCell's [`zero_state()`](https://www.tensorflow.org/api_docs/python/tf/contrib/rnn/MultiRNNCell#zero_state) function\n",
        "    - Apply the name \"initial_state\" to the initial state using [`tf.identity()`](https://www.tensorflow.org/api_docs/python/tf/identity)\n",
        "\n",
        "Return the cell and initial state in the following tuple `(Cell, InitialState)`"
      ]
    },
    {
      "metadata": {
        "id": "nsA-j-lGm1ID",
        "colab_type": "code",
        "colab": {
          "base_uri": "https://localhost:8080/",
          "height": 51
        },
        "outputId": "edb5b2c7-8ace-437f-db90-922182277273"
      },
      "cell_type": "code",
      "source": [
        "def get_init_cell(batch_size, rnn_size):\n",
        "    \"\"\"\n",
        "    Create an RNN Cell and initialize it.\n",
        "    :param batch_size: Size of batches\n",
        "    :param rnn_size: Size of RNNs\n",
        "    :return: Tuple (cell, initialize state)\n",
        "    \"\"\"\n",
        "    # TODO: Implement Function\n",
        "    def build_cell(rnn_size):\n",
        "        # Use a basic LSTM cell\n",
        "        lstm = tf.contrib.rnn.BasicLSTMCell(rnn_size)\n",
        "        \n",
        "        # Add dropout to the cell\n",
        "        drop = tf.contrib.rnn.DropoutWrapper(lstm, output_keep_prob=0.5)\n",
        "        return drop\n",
        "    \n",
        "    \n",
        "    # Stack up multiple LSTM layers, for deep learning\n",
        "    cell = tf.contrib.rnn.MultiRNNCell([build_cell(rnn_size) for _ in range(2)])\n",
        "    \n",
        "    initial_state = cell.zero_state(batch_size, tf.float32)\n",
        "    initial_state = tf.identity(initial_state, name='initial_state')\n",
        "    return cell, initial_state\n",
        "\n",
        "\n",
        "\"\"\"\n",
        "DON'T MODIFY ANYTHING IN THIS CELL THAT IS BELOW THIS LINE\n",
        "\"\"\"\n",
        "tests.test_get_init_cell(get_init_cell)"
      ],
      "execution_count": 9,
      "outputs": [
        {
          "output_type": "stream",
          "text": [
            "Tests Passed\n"
          ],
          "name": "stdout"
        }
      ]
    },
    {
      "metadata": {
        "id": "L4PHT-ZJm1IF",
        "colab_type": "text"
      },
      "cell_type": "markdown",
      "source": [
        "### Word Embedding\n",
        "Apply embedding to `input_data` using TensorFlow.  Return the embedded sequence."
      ]
    },
    {
      "metadata": {
        "id": "imrYd2OLm1IF",
        "colab_type": "code",
        "colab": {
          "base_uri": "https://localhost:8080/",
          "height": 51
        },
        "outputId": "411165c8-0d24-4af5-9f15-5d29a7211f10"
      },
      "cell_type": "code",
      "source": [
        "def get_embed(input_data, vocab_size, embed_dim):\n",
        "    \"\"\"\n",
        "    Create embedding for <input_data>.\n",
        "    :param input_data: TF placeholder for text input.\n",
        "    :param vocab_size: Number of words in vocabulary.\n",
        "    :param embed_dim: Number of embedding dimensions\n",
        "    :return: Embedded input.\n",
        "    \"\"\"\n",
        "    # TODO: Implement Function\n",
        "    embedding = tf.Variable(tf.random_uniform((vocab_size, embed_dim), -1, 1))\n",
        "    embed = tf.nn.embedding_lookup(embedding, input_data)\n",
        "    return embed\n",
        "\n",
        "\n",
        "\"\"\"\n",
        "DON'T MODIFY ANYTHING IN THIS CELL THAT IS BELOW THIS LINE\n",
        "\"\"\"\n",
        "tests.test_get_embed(get_embed)"
      ],
      "execution_count": 10,
      "outputs": [
        {
          "output_type": "stream",
          "text": [
            "Tests Passed\n"
          ],
          "name": "stdout"
        }
      ]
    },
    {
      "metadata": {
        "id": "ZpKFkj4am1IG",
        "colab_type": "text"
      },
      "cell_type": "markdown",
      "source": [
        "### Build RNN\n",
        "You created a RNN Cell in the `get_init_cell()` function.  Time to use the cell to create a RNN.\n",
        "- Build the RNN using the [`tf.nn.dynamic_rnn()`](https://www.tensorflow.org/api_docs/python/tf/nn/dynamic_rnn)\n",
        " - Apply the name \"final_state\" to the final state using [`tf.identity()`](https://www.tensorflow.org/api_docs/python/tf/identity)\n",
        "\n",
        "Return the outputs and final_state state in the following tuple `(Outputs, FinalState)` "
      ]
    },
    {
      "metadata": {
        "id": "p-HH4Ycim1IH",
        "colab_type": "code",
        "colab": {
          "base_uri": "https://localhost:8080/",
          "height": 51
        },
        "outputId": "d5856614-0599-402a-9a73-c0f53a91ef6d"
      },
      "cell_type": "code",
      "source": [
        "def build_rnn(cell, inputs, init_state=None):\n",
        "    \"\"\"\n",
        "    Create a RNN using a RNN Cell\n",
        "    :param cell: RNN Cell\n",
        "    :param inputs: Input text data\n",
        "    :return: Tuple (Outputs, Final State)\n",
        "    \"\"\"\n",
        "    # TODO: Implement Function\n",
        "    output, final_state = tf.nn.dynamic_rnn(cell, inputs, initial_state=init_state, dtype=tf.float32)\n",
        "    final_state = tf.identity(final_state, 'final_state')\n",
        "    return output, final_state\n",
        "\n",
        "\n",
        "\"\"\"\n",
        "DON'T MODIFY ANYTHING IN THIS CELL THAT IS BELOW THIS LINE\n",
        "\"\"\"\n",
        "tests.test_build_rnn(build_rnn)"
      ],
      "execution_count": 11,
      "outputs": [
        {
          "output_type": "stream",
          "text": [
            "Tests Passed\n"
          ],
          "name": "stdout"
        }
      ]
    },
    {
      "metadata": {
        "id": "TexL2Im7m1II",
        "colab_type": "text"
      },
      "cell_type": "markdown",
      "source": [
        "### Build the Neural Network\n",
        "Apply the functions you implemented above to:\n",
        "- Apply embedding to `input_data` using your `get_embed(input_data, vocab_size, embed_dim)` function.\n",
        "- Build RNN using `cell` and your `build_rnn(cell, inputs)` function.\n",
        "- Apply a fully connected layer with a linear activation and `vocab_size` as the number of outputs.\n",
        "\n",
        "Return the logits and final state in the following tuple (Logits, FinalState) "
      ]
    },
    {
      "metadata": {
        "id": "-yRFloq_m1II",
        "colab_type": "code",
        "colab": {
          "base_uri": "https://localhost:8080/",
          "height": 51
        },
        "outputId": "b22d19d3-1ca4-4472-c7b0-2fd96fdb3b53"
      },
      "cell_type": "code",
      "source": [
        "def build_nn(cell, rnn_size, input_data, vocab_size, embed_dim, init_state=None):\n",
        "    \"\"\"\n",
        "    Build part of the neural network\n",
        "    :param cell: RNN cell\n",
        "    :param rnn_size: Size of rnns\n",
        "    :param input_data: Input data\n",
        "    :param vocab_size: Vocabulary size\n",
        "    :param embed_dim: Number of embedding dimensions\n",
        "    :return: Tuple (Logits, FinalState)\n",
        "    \"\"\"\n",
        "    # TODO: Implement Function\n",
        "    embed = get_embed(input_data, vocab_size, embed_dim)\n",
        "    out, final_state = build_rnn(cell, embed, init_state)\n",
        "    \n",
        "    logits = tf.layers.dense(out, vocab_size)\n",
        "    return logits, final_state\n",
        "\n",
        "\n",
        "\"\"\"\n",
        "DON'T MODIFY ANYTHING IN THIS CELL THAT IS BELOW THIS LINE\n",
        "\"\"\"\n",
        "tests.test_build_nn(build_nn)"
      ],
      "execution_count": 12,
      "outputs": [
        {
          "output_type": "stream",
          "text": [
            "Tests Passed\n"
          ],
          "name": "stdout"
        }
      ]
    },
    {
      "metadata": {
        "id": "98_8C-Djm1IK",
        "colab_type": "text"
      },
      "cell_type": "markdown",
      "source": [
        "### Batches\n",
        "Implement `get_batches` to create batches of input and targets using `int_text`.  The batches should be a Numpy array with the shape `(number of batches, 2, batch size, sequence length)`. Each batch contains two elements:\n",
        "- The first element is a single batch of **input** with the shape `[batch size, sequence length]`\n",
        "- The second element is a single batch of **targets** with the shape `[batch size, sequence length]`\n",
        "\n",
        "If you can't fill the last batch with enough data, drop the last batch.\n",
        "\n",
        "For example, `get_batches([1, 2, 3, 4, 5, 6, 7, 8, 9, 10, 11, 12, 13, 14, 15, 16, 17, 18, 19, 20], 3, 2)` would return a Numpy array of the following:\n",
        "```\n",
        "[\n",
        "  # First Batch\n",
        "  [\n",
        "    # Batch of Input\n",
        "    [[ 1  2], [ 7  8], [13 14]]\n",
        "    # Batch of targets\n",
        "    [[ 2  3], [ 8  9], [14 15]]\n",
        "  ]\n",
        "\n",
        "  # Second Batch\n",
        "  [\n",
        "    # Batch of Input\n",
        "    [[ 3  4], [ 9 10], [15 16]]\n",
        "    # Batch of targets\n",
        "    [[ 4  5], [10 11], [16 17]]\n",
        "  ]\n",
        "\n",
        "  # Third Batch\n",
        "  [\n",
        "    # Batch of Input\n",
        "    [[ 5  6], [11 12], [17 18]]\n",
        "    # Batch of targets\n",
        "    [[ 6  7], [12 13], [18  1]]\n",
        "  ]\n",
        "]\n",
        "```\n",
        "\n",
        "Notice that the last target value in the last batch is the first input value of the first batch. In this case, `1`. This is a common technique used when creating sequence batches, although it is rather unintuitive."
      ]
    },
    {
      "metadata": {
        "id": "rSLZJdJtm1IK",
        "colab_type": "code",
        "colab": {
          "base_uri": "https://localhost:8080/",
          "height": 51
        },
        "outputId": "57dc565b-ad8d-4394-c38f-c7ed01e1a9b2"
      },
      "cell_type": "code",
      "source": [
        "def get_batches(int_text, batch_size, seq_length):\n",
        "    \"\"\"\n",
        "    Return batches of input and target\n",
        "    :param int_text: Text with the words replaced by their ids\n",
        "    :param batch_size: The size of batch\n",
        "    :param seq_length: The length of sequence\n",
        "    :return: Batches as a Numpy array\n",
        "    \"\"\"\n",
        "    # TODO: Implement Function\n",
        "    n_batches = len(int_text) // (batch_size * seq_length)\n",
        "    n = n_batches * batch_size * seq_length\n",
        "    int_text = int_text[:n]\n",
        "    target_text = int_text[1:] + int_text[0: 1]\n",
        "    \n",
        "    int_text = np.array(int_text).reshape((batch_size, -1))\n",
        "    target_text = np.array(target_text).reshape((batch_size, -1))\n",
        "    \n",
        "    result = []\n",
        "    for i in range(n_batches):\n",
        "        x = int_text[:, i * seq_length: (i+1) * seq_length]\n",
        "        y = target_text[:, i * seq_length: (i+1) * seq_length]\n",
        "        result.append([x, y])\n",
        " \n",
        "    return np.array(result)\n",
        "\n",
        "\n",
        "\"\"\"\n",
        "DON'T MODIFY ANYTHING IN THIS CELL THAT IS BELOW THIS LINE\n",
        "\"\"\"\n",
        "tests.test_get_batches(get_batches)"
      ],
      "execution_count": 13,
      "outputs": [
        {
          "output_type": "stream",
          "text": [
            "Tests Passed\n"
          ],
          "name": "stdout"
        }
      ]
    },
    {
      "metadata": {
        "id": "PIAb2R84m1IM",
        "colab_type": "text"
      },
      "cell_type": "markdown",
      "source": [
        "## Neural Network Training\n",
        "### Hyperparameters\n",
        "Tune the following parameters:\n",
        "\n",
        "- Set `num_epochs` to the number of epochs.\n",
        "- Set `batch_size` to the batch size.\n",
        "- Set `rnn_size` to the size of the RNNs.\n",
        "- Set `embed_dim` to the size of the embedding.\n",
        "- Set `seq_length` to the length of sequence.\n",
        "- Set `learning_rate` to the learning rate.\n",
        "- Set `show_every_n_batches` to the number of batches the neural network should print progress."
      ]
    },
    {
      "metadata": {
        "id": "xS4uOtm8m1IM",
        "colab_type": "code",
        "colab": {}
      },
      "cell_type": "code",
      "source": [
        "# Number of Epochs\n",
        "num_epochs = 50\n",
        "# Batch Size\n",
        "batch_size = 64\n",
        "# RNN Size\n",
        "rnn_size = 512\n",
        "# Embedding Dimension Size\n",
        "embed_dim = int(len(vocab_to_int) ** 0.25)\n",
        "# Sequence Length\n",
        "seq_length = 16\n",
        "# Learning Rate\n",
        "learning_rate = 1e-2\n",
        "# Show stats for every n number of batches\n",
        "show_every_n_batches = 100\n",
        "\n",
        "\"\"\"\n",
        "DON'T MODIFY ANYTHING IN THIS CELL THAT IS BELOW THIS LINE\n",
        "\"\"\"\n",
        "save_dir = './save'"
      ],
      "execution_count": 0,
      "outputs": []
    },
    {
      "metadata": {
        "id": "y4rUaMekm1IO",
        "colab_type": "text"
      },
      "cell_type": "markdown",
      "source": [
        "### Build the Graph\n",
        "Build the graph using the neural network you implemented."
      ]
    },
    {
      "metadata": {
        "id": "J6eRsGTQm1IO",
        "colab_type": "code",
        "colab": {}
      },
      "cell_type": "code",
      "source": [
        "\"\"\"\n",
        "DON'T MODIFY ANYTHING IN THIS CELL\n",
        "\"\"\"\n",
        "from tensorflow.contrib import seq2seq\n",
        "\n",
        "train_graph = tf.Graph()\n",
        "with train_graph.as_default():\n",
        "    vocab_size = len(int_to_vocab)\n",
        "    input_text, targets, lr = get_inputs()\n",
        "    input_data_shape = tf.shape(input_text)\n",
        "    cell, initial_state = get_init_cell(input_data_shape[0], rnn_size)\n",
        "    logits, final_state = build_nn(cell, rnn_size, input_text, vocab_size, embed_dim)\n",
        "\n",
        "    # Probabilities for generating words\n",
        "    probs = tf.nn.softmax(logits, name='probs')\n",
        "\n",
        "    # Loss function\n",
        "    cost = seq2seq.sequence_loss(\n",
        "        logits,\n",
        "        targets,\n",
        "        tf.ones([input_data_shape[0], input_data_shape[1]]))\n",
        "\n",
        "    # Optimizer\n",
        "    optimizer = tf.train.AdamOptimizer(lr)\n",
        "\n",
        "    # Gradient Clipping\n",
        "    gradients = optimizer.compute_gradients(cost)\n",
        "    capped_gradients = [(tf.clip_by_value(grad, -1., 1.), var) for grad, var in gradients if grad is not None]\n",
        "    train_op = optimizer.apply_gradients(capped_gradients)"
      ],
      "execution_count": 0,
      "outputs": []
    },
    {
      "metadata": {
        "id": "BulBpWA-m1IP",
        "colab_type": "text"
      },
      "cell_type": "markdown",
      "source": [
        "## Train\n",
        "Train the neural network on the preprocessed data.  If you have a hard time getting a good loss, check the [forums](https://discussions.udacity.com/) to see if anyone is having the same problem."
      ]
    },
    {
      "metadata": {
        "id": "kqdJBbPcm1IQ",
        "colab_type": "code",
        "colab": {
          "base_uri": "https://localhost:8080/",
          "height": 629
        },
        "outputId": "dcfcb056-e262-4c6e-88ce-8ab660ddefad"
      },
      "cell_type": "code",
      "source": [
        "\"\"\"\n",
        "DON'T MODIFY ANYTHING IN THIS CELL\n",
        "\"\"\"\n",
        "batches = get_batches(int_text, batch_size, seq_length)\n",
        "\n",
        "with tf.Session(graph=train_graph) as sess:\n",
        "    sess.run(tf.global_variables_initializer())\n",
        "\n",
        "    for epoch_i in range(num_epochs):\n",
        "        state = sess.run(initial_state, {input_text: batches[0][0]})\n",
        "\n",
        "        for batch_i, (x, y) in enumerate(batches):\n",
        "            feed = {\n",
        "                input_text: x,\n",
        "                targets: y,\n",
        "                initial_state: state,\n",
        "                lr: learning_rate}\n",
        "            train_loss, state, _ = sess.run([cost, final_state, train_op], feed)\n",
        "\n",
        "            # Show every <show_every_n_batches> batches\n",
        "            if (epoch_i * len(batches) + batch_i) % show_every_n_batches == 0:\n",
        "                print('Epoch {:>3} Batch {:>4}/{}   train_loss = {:.3f}'.format(\n",
        "                    epoch_i,\n",
        "                    batch_i,\n",
        "                    len(batches),\n",
        "                    train_loss))\n",
        "\n",
        "    # Save Model\n",
        "    saver = tf.train.Saver()\n",
        "    saver.save(sess, save_dir)\n",
        "    print('Model Trained and Saved')"
      ],
      "execution_count": 16,
      "outputs": [
        {
          "output_type": "stream",
          "text": [
            "Epoch   0 Batch    0/67   train_loss = 8.822\n",
            "Epoch   1 Batch   33/67   train_loss = 6.043\n",
            "Epoch   2 Batch   66/67   train_loss = 5.444\n",
            "Epoch   4 Batch   32/67   train_loss = 5.332\n",
            "Epoch   5 Batch   65/67   train_loss = 4.853\n",
            "Epoch   7 Batch   31/67   train_loss = 4.798\n",
            "Epoch   8 Batch   64/67   train_loss = 4.522\n",
            "Epoch  10 Batch   30/67   train_loss = 4.437\n",
            "Epoch  11 Batch   63/67   train_loss = 4.368\n",
            "Epoch  13 Batch   29/67   train_loss = 4.350\n",
            "Epoch  14 Batch   62/67   train_loss = 4.080\n",
            "Epoch  16 Batch   28/67   train_loss = 3.966\n",
            "Epoch  17 Batch   61/67   train_loss = 3.973\n",
            "Epoch  19 Batch   27/67   train_loss = 3.803\n",
            "Epoch  20 Batch   60/67   train_loss = 3.493\n",
            "Epoch  22 Batch   26/67   train_loss = 3.396\n",
            "Epoch  23 Batch   59/67   train_loss = 3.273\n",
            "Epoch  25 Batch   25/67   train_loss = 3.181\n",
            "Epoch  26 Batch   58/67   train_loss = 3.124\n",
            "Epoch  28 Batch   24/67   train_loss = 2.871\n",
            "Epoch  29 Batch   57/67   train_loss = 2.754\n",
            "Epoch  31 Batch   23/67   train_loss = 2.722\n",
            "Epoch  32 Batch   56/67   train_loss = 2.662\n",
            "Epoch  34 Batch   22/67   train_loss = 2.607\n",
            "Epoch  35 Batch   55/67   train_loss = 2.598\n",
            "Epoch  37 Batch   21/67   train_loss = 2.381\n",
            "Epoch  38 Batch   54/67   train_loss = 2.445\n",
            "Epoch  40 Batch   20/67   train_loss = 2.435\n",
            "Epoch  41 Batch   53/67   train_loss = 2.365\n",
            "Epoch  43 Batch   19/67   train_loss = 2.201\n",
            "Epoch  44 Batch   52/67   train_loss = 2.240\n",
            "Epoch  46 Batch   18/67   train_loss = 2.188\n",
            "Epoch  47 Batch   51/67   train_loss = 2.192\n",
            "Epoch  49 Batch   17/67   train_loss = 2.265\n",
            "Model Trained and Saved\n"
          ],
          "name": "stdout"
        }
      ]
    },
    {
      "metadata": {
        "id": "KEVOT8NYm1IR",
        "colab_type": "text"
      },
      "cell_type": "markdown",
      "source": [
        "## Save Parameters\n",
        "Save `seq_length` and `save_dir` for generating a new TV script."
      ]
    },
    {
      "metadata": {
        "id": "AP3dWFuGm1IR",
        "colab_type": "code",
        "colab": {}
      },
      "cell_type": "code",
      "source": [
        "\"\"\"\n",
        "DON'T MODIFY ANYTHING IN THIS CELL\n",
        "\"\"\"\n",
        "# Save parameters for checkpoint\n",
        "helper.save_params((seq_length, save_dir))"
      ],
      "execution_count": 0,
      "outputs": []
    },
    {
      "metadata": {
        "id": "tb2Yzq64m1IS",
        "colab_type": "text"
      },
      "cell_type": "markdown",
      "source": [
        "# Checkpoint"
      ]
    },
    {
      "metadata": {
        "id": "JzPRPwdQm1IT",
        "colab_type": "code",
        "colab": {}
      },
      "cell_type": "code",
      "source": [
        "\"\"\"\n",
        "DON'T MODIFY ANYTHING IN THIS CELL\n",
        "\"\"\"\n",
        "import tensorflow as tf\n",
        "import numpy as np\n",
        "import helper\n",
        "import problem_unittests as tests\n",
        "\n",
        "_, vocab_to_int, int_to_vocab, token_dict = helper.load_preprocess()\n",
        "seq_length, load_dir = helper.load_params()"
      ],
      "execution_count": 0,
      "outputs": []
    },
    {
      "metadata": {
        "id": "yESi9KI2m1IU",
        "colab_type": "text"
      },
      "cell_type": "markdown",
      "source": [
        "## Implement Generate Functions\n",
        "### Get Tensors\n",
        "Get tensors from `loaded_graph` using the function [`get_tensor_by_name()`](https://www.tensorflow.org/api_docs/python/tf/Graph#get_tensor_by_name).  Get the tensors using the following names:\n",
        "- \"input:0\"\n",
        "- \"initial_state:0\"\n",
        "- \"final_state:0\"\n",
        "- \"probs:0\"\n",
        "\n",
        "Return the tensors in the following tuple `(InputTensor, InitialStateTensor, FinalStateTensor, ProbsTensor)` "
      ]
    },
    {
      "metadata": {
        "id": "dCPNV9VNm1IU",
        "colab_type": "code",
        "colab": {
          "base_uri": "https://localhost:8080/",
          "height": 51
        },
        "outputId": "1dae4c76-b4c8-4938-dc23-25a959e40a8a"
      },
      "cell_type": "code",
      "source": [
        "def get_tensors(loaded_graph):\n",
        "    \"\"\"\n",
        "    Get input, initial state, final state, and probabilities tensor from <loaded_graph>\n",
        "    :param loaded_graph: TensorFlow graph loaded from file\n",
        "    :return: Tuple (InputTensor, InitialStateTensor, FinalStateTensor, ProbsTensor)\n",
        "    \"\"\"\n",
        "    # TODO: Implement Function\n",
        "    inputs = loaded_graph.get_tensor_by_name('input:0')\n",
        "    initial_state = loaded_graph.get_tensor_by_name('initial_state:0')\n",
        "    final_state = loaded_graph.get_tensor_by_name('final_state:0')\n",
        "    probs = loaded_graph.get_tensor_by_name('probs:0')\n",
        "    return inputs, initial_state, final_state, probs\n",
        "\n",
        "\n",
        "\"\"\"\n",
        "DON'T MODIFY ANYTHING IN THIS CELL THAT IS BELOW THIS LINE\n",
        "\"\"\"\n",
        "tests.test_get_tensors(get_tensors)"
      ],
      "execution_count": 19,
      "outputs": [
        {
          "output_type": "stream",
          "text": [
            "Tests Passed\n"
          ],
          "name": "stdout"
        }
      ]
    },
    {
      "metadata": {
        "id": "qCCx9g1em1IV",
        "colab_type": "text"
      },
      "cell_type": "markdown",
      "source": [
        "### Choose Word\n",
        "Implement the `pick_word()` function to select the next word using `probabilities`."
      ]
    },
    {
      "metadata": {
        "id": "aSfFnEXem1IV",
        "colab_type": "code",
        "colab": {
          "base_uri": "https://localhost:8080/",
          "height": 51
        },
        "outputId": "61686dc3-15d8-4b02-ba37-53b10e3746e3"
      },
      "cell_type": "code",
      "source": [
        "def pick_word(probabilities, int_to_vocab):\n",
        "    \"\"\"\n",
        "    Pick the next word in the generated text\n",
        "    :param probabilities: Probabilites of the next word\n",
        "    :param int_to_vocab: Dictionary of word ids as the keys and words as the values\n",
        "    :return: String of the predicted word\n",
        "    \"\"\"\n",
        "    # TODO: Implement Function\n",
        "    i = np.random.choice(np.arange(len(probabilities)), p=probabilities)\n",
        "    \n",
        "    return int_to_vocab[i]\n",
        "\n",
        "\n",
        "\"\"\"\n",
        "DON'T MODIFY ANYTHING IN THIS CELL THAT IS BELOW THIS LINE\n",
        "\"\"\"\n",
        "tests.test_pick_word(pick_word)"
      ],
      "execution_count": 20,
      "outputs": [
        {
          "output_type": "stream",
          "text": [
            "Tests Passed\n"
          ],
          "name": "stdout"
        }
      ]
    },
    {
      "metadata": {
        "id": "Ls694tjJm1IW",
        "colab_type": "text"
      },
      "cell_type": "markdown",
      "source": [
        "## Generate TV Script\n",
        "This will generate the TV script for you.  Set `gen_length` to the length of TV script you want to generate."
      ]
    },
    {
      "metadata": {
        "id": "Ndjyjvn1m1IX",
        "colab_type": "code",
        "colab": {
          "base_uri": "https://localhost:8080/",
          "height": 244
        },
        "outputId": "5e6427b2-d066-4ad9-be54-f691e90b1580"
      },
      "cell_type": "code",
      "source": [
        "gen_length = 200\n",
        "# homer_simpson, moe_szyslak, or Barney_Gumble\n",
        "prime_word = 'moe_szyslak'\n",
        "\n",
        "\"\"\"\n",
        "DON'T MODIFY ANYTHING IN THIS CELL THAT IS BELOW THIS LINE\n",
        "\"\"\"\n",
        "loaded_graph = tf.Graph()\n",
        "with tf.Session(graph=loaded_graph) as sess:\n",
        "    # Load saved model\n",
        "    loader = tf.train.import_meta_graph(load_dir + '.meta')\n",
        "    loader.restore(sess, load_dir)\n",
        "\n",
        "    # Get Tensors from loaded model\n",
        "    input_text, initial_state, final_state, probs = get_tensors(loaded_graph)\n",
        "\n",
        "    # Sentences generation setup\n",
        "    gen_sentences = [prime_word + ':']\n",
        "    prev_state = sess.run(initial_state, {input_text: np.array([[1]])})\n",
        "\n",
        "    # Generate sentences\n",
        "    for n in range(gen_length):\n",
        "        # Dynamic Input\n",
        "        dyn_input = [[vocab_to_int[word] for word in gen_sentences[-seq_length:]]]\n",
        "        dyn_seq_length = len(dyn_input[0])\n",
        "\n",
        "        # Get Prediction\n",
        "        probabilities, prev_state = sess.run(\n",
        "            [probs, final_state],\n",
        "            {input_text: dyn_input, initial_state: prev_state})\n",
        "        \n",
        "        pred_word = pick_word(probabilities[0][dyn_seq_length-1], int_to_vocab)\n",
        "\n",
        "        gen_sentences.append(pred_word)\n",
        "    \n",
        "    # Remove tokens\n",
        "    tv_script = ' '.join(gen_sentences)\n",
        "    for key, token in token_dict.items():\n",
        "        ending = ' ' if key in ['\\n', '(', '\"'] else ''\n",
        "        tv_script = tv_script.replace(' ' + token.lower(), key)\n",
        "    tv_script = tv_script.replace('\\n ', '\\n')\n",
        "    tv_script = tv_script.replace('( ', '(')\n",
        "        \n",
        "    print(tv_script)"
      ],
      "execution_count": 21,
      "outputs": [
        {
          "output_type": "stream",
          "text": [
            "INFO:tensorflow:Restoring parameters from ./save\n",
            "moe_szyslak: oh, me out-- square to didn't. m goin'! lemme been him on their pants drinking, me in him. i'm wasting your last tips to find me.\n",
            "homer_simpson: ah, the fans has runners up this(no voice noise)\n",
            "moe_szyslak: guys, why don't you have this tape to buy no. what do it?\n",
            "homer_simpson: yeah, so if i know, if i doin'? my one been gonna were lessons, way are so fica was this of.\n",
            "homer_simpson: to that too really long, huh.\n",
            "homer_simpson: quiet over out, will therefore, love tester from not marge like a cop, the thing like that up your ambrosia.\n",
            "barney_gumble: uh, that's sweet.\n",
            "moe_szyslak: nothin', man, let me guess your i want my hands out, save the while i saw you were kinda set years the pipe... you shut up have the countryman... tony...\n",
            "moe_szyslak: that's it, to get down, moe. after beers, tender be and..\n"
          ],
          "name": "stdout"
        }
      ]
    },
    {
      "metadata": {
        "id": "NSGbUUgnm1IZ",
        "colab_type": "text"
      },
      "cell_type": "markdown",
      "source": [
        "# The TV Script is Nonsensical\n",
        "It's ok if the TV script doesn't make any sense.  We trained on less than a megabyte of text.  In order to get good results, you'll have to use a smaller vocabulary or get more data.  Luckily there's more data!  As we mentioned in the beggining of this project, this is a subset of [another dataset](https://www.kaggle.com/wcukierski/the-simpsons-by-the-data).  We didn't have you train on all the data, because that would take too long.  However, you are free to train your neural network on all the data.  After you complete the project, of course.\n",
        "# Submitting This Project\n",
        "When submitting this project, make sure to run all the cells before saving the notebook. Save the notebook file as \"dlnd_tv_script_generation.ipynb\" and save it as a HTML file under \"File\" -> \"Download as\". Include the \"helper.py\" and \"problem_unittests.py\" files in your submission."
      ]
    }
  ]
}